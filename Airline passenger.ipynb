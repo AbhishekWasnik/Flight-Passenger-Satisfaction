{
 "cells": [
  {
   "cell_type": "markdown",
   "metadata": {
    "id": "9b94aedf-3f28-437a-ae41-10b327ca20e6"
   },
   "source": [
    "# Flight Passenger Satisfaction"
   ]
  },
  {
   "cell_type": "markdown",
   "metadata": {
    "id": "20b3d962-2f62-4b62-beed-cdaa3c497540"
   },
   "source": [
    "# PROBLEM STATEMENT\n",
    "#Primarily objective of data is to predict the satisfaction of passenger for flight service. We will try to use this data to create a model which tries to predict the passenger satisfaction."
   ]
  },
  {
   "cell_type": "code",
   "execution_count": 1,
   "metadata": {
    "executionInfo": {
     "elapsed": 678,
     "status": "ok",
     "timestamp": 1670050924462,
     "user": {
      "displayName": "Shrikant Chormale",
      "userId": "06649212260482941230"
     },
     "user_tz": -330
    },
    "id": "44caafd7-2cb5-4f3c-8c92-86cc915a298a"
   },
   "outputs": [],
   "source": [
    "# import the libraries\n",
    "import numpy as np\n",
    "import pandas as pd\n",
    "import matplotlib.pyplot as plt\n",
    "import seaborn as sns \n",
    "import warnings\n",
    "warnings.filterwarnings('ignore')"
   ]
  },
  {
   "cell_type": "code",
   "execution_count": null,
   "metadata": {
    "executionInfo": {
     "elapsed": 849,
     "status": "ok",
     "timestamp": 1670050926093,
     "user": {
      "displayName": "Shrikant Chormale",
      "userId": "06649212260482941230"
     },
     "user_tz": -330
    },
    "id": "ZnJmL72BunAn"
   },
   "outputs": [],
   "source": []
  },
  {
   "cell_type": "code",
   "execution_count": 2,
   "metadata": {
    "executionInfo": {
     "elapsed": 106,
     "status": "ok",
     "timestamp": 1670050926094,
     "user": {
      "displayName": "Shrikant Chormale",
      "userId": "06649212260482941230"
     },
     "user_tz": -330
    },
    "id": "2bfaa1b5-08ee-4f20-9d45-0c270410e569"
   },
   "outputs": [],
   "source": [
    "# GET THE DATA "
   ]
  },
  {
   "cell_type": "code",
   "execution_count": 3,
   "metadata": {
    "executionInfo": {
     "elapsed": 107,
     "status": "ok",
     "timestamp": 1670050926096,
     "user": {
      "displayName": "Shrikant Chormale",
      "userId": "06649212260482941230"
     },
     "user_tz": -330
    },
    "id": "5e9d2765-ac29-4397-acd0-a8ec509d47ad"
   },
   "outputs": [],
   "source": [
    "# Read the file \n",
    "df=pd.read_csv(\"train.csv.xls\")\n",
    "df1=pd.read_csv(\"test.csv.xls\")"
   ]
  },
  {
   "cell_type": "code",
   "execution_count": 4,
   "metadata": {
    "colab": {
     "base_uri": "https://localhost:8080/",
     "height": 438
    },
    "executionInfo": {
     "elapsed": 108,
     "status": "ok",
     "timestamp": 1670050926097,
     "user": {
      "displayName": "Shrikant Chormale",
      "userId": "06649212260482941230"
     },
     "user_tz": -330
    },
    "id": "586a3baf-5447-410f-a5bc-5046b80540e8",
    "outputId": "aa7ea33c-208f-4a64-c303-019bb926575d"
   },
   "outputs": [
    {
     "data": {
      "text/html": [
       "<div>\n",
       "<style scoped>\n",
       "    .dataframe tbody tr th:only-of-type {\n",
       "        vertical-align: middle;\n",
       "    }\n",
       "\n",
       "    .dataframe tbody tr th {\n",
       "        vertical-align: top;\n",
       "    }\n",
       "\n",
       "    .dataframe thead th {\n",
       "        text-align: right;\n",
       "    }\n",
       "</style>\n",
       "<table border=\"1\" class=\"dataframe\">\n",
       "  <thead>\n",
       "    <tr style=\"text-align: right;\">\n",
       "      <th></th>\n",
       "      <th>Unnamed: 0</th>\n",
       "      <th>id</th>\n",
       "      <th>Gender</th>\n",
       "      <th>Customer Type</th>\n",
       "      <th>Age</th>\n",
       "      <th>Type of Travel</th>\n",
       "      <th>Class</th>\n",
       "      <th>Flight Distance</th>\n",
       "      <th>Inflight wifi service</th>\n",
       "      <th>Departure/Arrival time convenient</th>\n",
       "      <th>...</th>\n",
       "      <th>Inflight entertainment</th>\n",
       "      <th>On-board service</th>\n",
       "      <th>Leg room service</th>\n",
       "      <th>Baggage handling</th>\n",
       "      <th>Checkin service</th>\n",
       "      <th>Inflight service</th>\n",
       "      <th>Cleanliness</th>\n",
       "      <th>Departure Delay in Minutes</th>\n",
       "      <th>Arrival Delay in Minutes</th>\n",
       "      <th>satisfaction</th>\n",
       "    </tr>\n",
       "  </thead>\n",
       "  <tbody>\n",
       "    <tr>\n",
       "      <th>0</th>\n",
       "      <td>0</td>\n",
       "      <td>70172</td>\n",
       "      <td>Male</td>\n",
       "      <td>Loyal Customer</td>\n",
       "      <td>13</td>\n",
       "      <td>Personal Travel</td>\n",
       "      <td>Eco Plus</td>\n",
       "      <td>460</td>\n",
       "      <td>3</td>\n",
       "      <td>4</td>\n",
       "      <td>...</td>\n",
       "      <td>5</td>\n",
       "      <td>4</td>\n",
       "      <td>3</td>\n",
       "      <td>4</td>\n",
       "      <td>4</td>\n",
       "      <td>5</td>\n",
       "      <td>5</td>\n",
       "      <td>25</td>\n",
       "      <td>18.0</td>\n",
       "      <td>neutral or dissatisfied</td>\n",
       "    </tr>\n",
       "    <tr>\n",
       "      <th>1</th>\n",
       "      <td>1</td>\n",
       "      <td>5047</td>\n",
       "      <td>Male</td>\n",
       "      <td>disloyal Customer</td>\n",
       "      <td>25</td>\n",
       "      <td>Business travel</td>\n",
       "      <td>Business</td>\n",
       "      <td>235</td>\n",
       "      <td>3</td>\n",
       "      <td>2</td>\n",
       "      <td>...</td>\n",
       "      <td>1</td>\n",
       "      <td>1</td>\n",
       "      <td>5</td>\n",
       "      <td>3</td>\n",
       "      <td>1</td>\n",
       "      <td>4</td>\n",
       "      <td>1</td>\n",
       "      <td>1</td>\n",
       "      <td>6.0</td>\n",
       "      <td>neutral or dissatisfied</td>\n",
       "    </tr>\n",
       "    <tr>\n",
       "      <th>2</th>\n",
       "      <td>2</td>\n",
       "      <td>110028</td>\n",
       "      <td>Female</td>\n",
       "      <td>Loyal Customer</td>\n",
       "      <td>26</td>\n",
       "      <td>Business travel</td>\n",
       "      <td>Business</td>\n",
       "      <td>1142</td>\n",
       "      <td>2</td>\n",
       "      <td>2</td>\n",
       "      <td>...</td>\n",
       "      <td>5</td>\n",
       "      <td>4</td>\n",
       "      <td>3</td>\n",
       "      <td>4</td>\n",
       "      <td>4</td>\n",
       "      <td>4</td>\n",
       "      <td>5</td>\n",
       "      <td>0</td>\n",
       "      <td>0.0</td>\n",
       "      <td>satisfied</td>\n",
       "    </tr>\n",
       "    <tr>\n",
       "      <th>3</th>\n",
       "      <td>3</td>\n",
       "      <td>24026</td>\n",
       "      <td>Female</td>\n",
       "      <td>Loyal Customer</td>\n",
       "      <td>25</td>\n",
       "      <td>Business travel</td>\n",
       "      <td>Business</td>\n",
       "      <td>562</td>\n",
       "      <td>2</td>\n",
       "      <td>5</td>\n",
       "      <td>...</td>\n",
       "      <td>2</td>\n",
       "      <td>2</td>\n",
       "      <td>5</td>\n",
       "      <td>3</td>\n",
       "      <td>1</td>\n",
       "      <td>4</td>\n",
       "      <td>2</td>\n",
       "      <td>11</td>\n",
       "      <td>9.0</td>\n",
       "      <td>neutral or dissatisfied</td>\n",
       "    </tr>\n",
       "    <tr>\n",
       "      <th>4</th>\n",
       "      <td>4</td>\n",
       "      <td>119299</td>\n",
       "      <td>Male</td>\n",
       "      <td>Loyal Customer</td>\n",
       "      <td>61</td>\n",
       "      <td>Business travel</td>\n",
       "      <td>Business</td>\n",
       "      <td>214</td>\n",
       "      <td>3</td>\n",
       "      <td>3</td>\n",
       "      <td>...</td>\n",
       "      <td>3</td>\n",
       "      <td>3</td>\n",
       "      <td>4</td>\n",
       "      <td>4</td>\n",
       "      <td>3</td>\n",
       "      <td>3</td>\n",
       "      <td>3</td>\n",
       "      <td>0</td>\n",
       "      <td>0.0</td>\n",
       "      <td>satisfied</td>\n",
       "    </tr>\n",
       "  </tbody>\n",
       "</table>\n",
       "<p>5 rows × 25 columns</p>\n",
       "</div>"
      ],
      "text/plain": [
       "   Unnamed: 0      id  Gender      Customer Type  Age   Type of Travel  \\\n",
       "0           0   70172    Male     Loyal Customer   13  Personal Travel   \n",
       "1           1    5047    Male  disloyal Customer   25  Business travel   \n",
       "2           2  110028  Female     Loyal Customer   26  Business travel   \n",
       "3           3   24026  Female     Loyal Customer   25  Business travel   \n",
       "4           4  119299    Male     Loyal Customer   61  Business travel   \n",
       "\n",
       "      Class  Flight Distance  Inflight wifi service  \\\n",
       "0  Eco Plus              460                      3   \n",
       "1  Business              235                      3   \n",
       "2  Business             1142                      2   \n",
       "3  Business              562                      2   \n",
       "4  Business              214                      3   \n",
       "\n",
       "   Departure/Arrival time convenient  ...  Inflight entertainment  \\\n",
       "0                                  4  ...                       5   \n",
       "1                                  2  ...                       1   \n",
       "2                                  2  ...                       5   \n",
       "3                                  5  ...                       2   \n",
       "4                                  3  ...                       3   \n",
       "\n",
       "   On-board service  Leg room service  Baggage handling  Checkin service  \\\n",
       "0                 4                 3                 4                4   \n",
       "1                 1                 5                 3                1   \n",
       "2                 4                 3                 4                4   \n",
       "3                 2                 5                 3                1   \n",
       "4                 3                 4                 4                3   \n",
       "\n",
       "   Inflight service  Cleanliness  Departure Delay in Minutes  \\\n",
       "0                 5            5                          25   \n",
       "1                 4            1                           1   \n",
       "2                 4            5                           0   \n",
       "3                 4            2                          11   \n",
       "4                 3            3                           0   \n",
       "\n",
       "   Arrival Delay in Minutes             satisfaction  \n",
       "0                      18.0  neutral or dissatisfied  \n",
       "1                       6.0  neutral or dissatisfied  \n",
       "2                       0.0                satisfied  \n",
       "3                       9.0  neutral or dissatisfied  \n",
       "4                       0.0                satisfied  \n",
       "\n",
       "[5 rows x 25 columns]"
      ]
     },
     "execution_count": 4,
     "metadata": {},
     "output_type": "execute_result"
    }
   ],
   "source": [
    "# #  first five data in the dataset\n",
    "df.head()"
   ]
  },
  {
   "cell_type": "code",
   "execution_count": null,
   "metadata": {
    "executionInfo": {
     "elapsed": 103,
     "status": "ok",
     "timestamp": 1670050926098,
     "user": {
      "displayName": "Shrikant Chormale",
      "userId": "06649212260482941230"
     },
     "user_tz": -330
    },
    "id": "phPNhHdeuVFE"
   },
   "outputs": [],
   "source": []
  },
  {
   "cell_type": "code",
   "execution_count": null,
   "metadata": {
    "executionInfo": {
     "elapsed": 103,
     "status": "ok",
     "timestamp": 1670050926099,
     "user": {
      "displayName": "Shrikant Chormale",
      "userId": "06649212260482941230"
     },
     "user_tz": -330
    },
    "id": "rB-yjRg4ul0Y"
   },
   "outputs": [],
   "source": []
  },
  {
   "cell_type": "code",
   "execution_count": 5,
   "metadata": {
    "colab": {
     "base_uri": "https://localhost:8080/",
     "height": 438
    },
    "executionInfo": {
     "elapsed": 103,
     "status": "ok",
     "timestamp": 1670050926100,
     "user": {
      "displayName": "Shrikant Chormale",
      "userId": "06649212260482941230"
     },
     "user_tz": -330
    },
    "id": "7fa6cc3c-f260-45ae-8e30-0b96099b0f1a",
    "outputId": "ea9212f0-cea0-40c8-ac61-4e04b5f36c35"
   },
   "outputs": [
    {
     "data": {
      "text/html": [
       "<div>\n",
       "<style scoped>\n",
       "    .dataframe tbody tr th:only-of-type {\n",
       "        vertical-align: middle;\n",
       "    }\n",
       "\n",
       "    .dataframe tbody tr th {\n",
       "        vertical-align: top;\n",
       "    }\n",
       "\n",
       "    .dataframe thead th {\n",
       "        text-align: right;\n",
       "    }\n",
       "</style>\n",
       "<table border=\"1\" class=\"dataframe\">\n",
       "  <thead>\n",
       "    <tr style=\"text-align: right;\">\n",
       "      <th></th>\n",
       "      <th>Unnamed: 0</th>\n",
       "      <th>id</th>\n",
       "      <th>Gender</th>\n",
       "      <th>Customer Type</th>\n",
       "      <th>Age</th>\n",
       "      <th>Type of Travel</th>\n",
       "      <th>Class</th>\n",
       "      <th>Flight Distance</th>\n",
       "      <th>Inflight wifi service</th>\n",
       "      <th>Departure/Arrival time convenient</th>\n",
       "      <th>...</th>\n",
       "      <th>Inflight entertainment</th>\n",
       "      <th>On-board service</th>\n",
       "      <th>Leg room service</th>\n",
       "      <th>Baggage handling</th>\n",
       "      <th>Checkin service</th>\n",
       "      <th>Inflight service</th>\n",
       "      <th>Cleanliness</th>\n",
       "      <th>Departure Delay in Minutes</th>\n",
       "      <th>Arrival Delay in Minutes</th>\n",
       "      <th>satisfaction</th>\n",
       "    </tr>\n",
       "  </thead>\n",
       "  <tbody>\n",
       "    <tr>\n",
       "      <th>103899</th>\n",
       "      <td>103899</td>\n",
       "      <td>94171</td>\n",
       "      <td>Female</td>\n",
       "      <td>disloyal Customer</td>\n",
       "      <td>23</td>\n",
       "      <td>Business travel</td>\n",
       "      <td>Eco</td>\n",
       "      <td>192</td>\n",
       "      <td>2</td>\n",
       "      <td>1</td>\n",
       "      <td>...</td>\n",
       "      <td>2</td>\n",
       "      <td>3</td>\n",
       "      <td>1</td>\n",
       "      <td>4</td>\n",
       "      <td>2</td>\n",
       "      <td>3</td>\n",
       "      <td>2</td>\n",
       "      <td>3</td>\n",
       "      <td>0.0</td>\n",
       "      <td>neutral or dissatisfied</td>\n",
       "    </tr>\n",
       "    <tr>\n",
       "      <th>103900</th>\n",
       "      <td>103900</td>\n",
       "      <td>73097</td>\n",
       "      <td>Male</td>\n",
       "      <td>Loyal Customer</td>\n",
       "      <td>49</td>\n",
       "      <td>Business travel</td>\n",
       "      <td>Business</td>\n",
       "      <td>2347</td>\n",
       "      <td>4</td>\n",
       "      <td>4</td>\n",
       "      <td>...</td>\n",
       "      <td>5</td>\n",
       "      <td>5</td>\n",
       "      <td>5</td>\n",
       "      <td>5</td>\n",
       "      <td>5</td>\n",
       "      <td>5</td>\n",
       "      <td>4</td>\n",
       "      <td>0</td>\n",
       "      <td>0.0</td>\n",
       "      <td>satisfied</td>\n",
       "    </tr>\n",
       "    <tr>\n",
       "      <th>103901</th>\n",
       "      <td>103901</td>\n",
       "      <td>68825</td>\n",
       "      <td>Male</td>\n",
       "      <td>disloyal Customer</td>\n",
       "      <td>30</td>\n",
       "      <td>Business travel</td>\n",
       "      <td>Business</td>\n",
       "      <td>1995</td>\n",
       "      <td>1</td>\n",
       "      <td>1</td>\n",
       "      <td>...</td>\n",
       "      <td>4</td>\n",
       "      <td>3</td>\n",
       "      <td>2</td>\n",
       "      <td>4</td>\n",
       "      <td>5</td>\n",
       "      <td>5</td>\n",
       "      <td>4</td>\n",
       "      <td>7</td>\n",
       "      <td>14.0</td>\n",
       "      <td>neutral or dissatisfied</td>\n",
       "    </tr>\n",
       "    <tr>\n",
       "      <th>103902</th>\n",
       "      <td>103902</td>\n",
       "      <td>54173</td>\n",
       "      <td>Female</td>\n",
       "      <td>disloyal Customer</td>\n",
       "      <td>22</td>\n",
       "      <td>Business travel</td>\n",
       "      <td>Eco</td>\n",
       "      <td>1000</td>\n",
       "      <td>1</td>\n",
       "      <td>1</td>\n",
       "      <td>...</td>\n",
       "      <td>1</td>\n",
       "      <td>4</td>\n",
       "      <td>5</td>\n",
       "      <td>1</td>\n",
       "      <td>5</td>\n",
       "      <td>4</td>\n",
       "      <td>1</td>\n",
       "      <td>0</td>\n",
       "      <td>0.0</td>\n",
       "      <td>neutral or dissatisfied</td>\n",
       "    </tr>\n",
       "    <tr>\n",
       "      <th>103903</th>\n",
       "      <td>103903</td>\n",
       "      <td>62567</td>\n",
       "      <td>Male</td>\n",
       "      <td>Loyal Customer</td>\n",
       "      <td>27</td>\n",
       "      <td>Business travel</td>\n",
       "      <td>Business</td>\n",
       "      <td>1723</td>\n",
       "      <td>1</td>\n",
       "      <td>3</td>\n",
       "      <td>...</td>\n",
       "      <td>1</td>\n",
       "      <td>1</td>\n",
       "      <td>1</td>\n",
       "      <td>4</td>\n",
       "      <td>4</td>\n",
       "      <td>3</td>\n",
       "      <td>1</td>\n",
       "      <td>0</td>\n",
       "      <td>0.0</td>\n",
       "      <td>neutral or dissatisfied</td>\n",
       "    </tr>\n",
       "  </tbody>\n",
       "</table>\n",
       "<p>5 rows × 25 columns</p>\n",
       "</div>"
      ],
      "text/plain": [
       "        Unnamed: 0     id  Gender      Customer Type  Age   Type of Travel  \\\n",
       "103899      103899  94171  Female  disloyal Customer   23  Business travel   \n",
       "103900      103900  73097    Male     Loyal Customer   49  Business travel   \n",
       "103901      103901  68825    Male  disloyal Customer   30  Business travel   \n",
       "103902      103902  54173  Female  disloyal Customer   22  Business travel   \n",
       "103903      103903  62567    Male     Loyal Customer   27  Business travel   \n",
       "\n",
       "           Class  Flight Distance  Inflight wifi service  \\\n",
       "103899       Eco              192                      2   \n",
       "103900  Business             2347                      4   \n",
       "103901  Business             1995                      1   \n",
       "103902       Eco             1000                      1   \n",
       "103903  Business             1723                      1   \n",
       "\n",
       "        Departure/Arrival time convenient  ...  Inflight entertainment  \\\n",
       "103899                                  1  ...                       2   \n",
       "103900                                  4  ...                       5   \n",
       "103901                                  1  ...                       4   \n",
       "103902                                  1  ...                       1   \n",
       "103903                                  3  ...                       1   \n",
       "\n",
       "        On-board service  Leg room service  Baggage handling  Checkin service  \\\n",
       "103899                 3                 1                 4                2   \n",
       "103900                 5                 5                 5                5   \n",
       "103901                 3                 2                 4                5   \n",
       "103902                 4                 5                 1                5   \n",
       "103903                 1                 1                 4                4   \n",
       "\n",
       "        Inflight service  Cleanliness  Departure Delay in Minutes  \\\n",
       "103899                 3            2                           3   \n",
       "103900                 5            4                           0   \n",
       "103901                 5            4                           7   \n",
       "103902                 4            1                           0   \n",
       "103903                 3            1                           0   \n",
       "\n",
       "        Arrival Delay in Minutes             satisfaction  \n",
       "103899                       0.0  neutral or dissatisfied  \n",
       "103900                       0.0                satisfied  \n",
       "103901                      14.0  neutral or dissatisfied  \n",
       "103902                       0.0  neutral or dissatisfied  \n",
       "103903                       0.0  neutral or dissatisfied  \n",
       "\n",
       "[5 rows x 25 columns]"
      ]
     },
     "execution_count": 5,
     "metadata": {},
     "output_type": "execute_result"
    }
   ],
   "source": [
    "df.tail()"
   ]
  },
  {
   "cell_type": "code",
   "execution_count": 6,
   "metadata": {
    "colab": {
     "base_uri": "https://localhost:8080/",
     "height": 438
    },
    "executionInfo": {
     "elapsed": 103,
     "status": "ok",
     "timestamp": 1670050926101,
     "user": {
      "displayName": "Shrikant Chormale",
      "userId": "06649212260482941230"
     },
     "user_tz": -330
    },
    "id": "e94aa9ef-196e-4e76-9b22-538bc058770e",
    "outputId": "f31249f3-6c7f-4dc2-e0d2-b37f42364f70"
   },
   "outputs": [
    {
     "data": {
      "text/html": [
       "<div>\n",
       "<style scoped>\n",
       "    .dataframe tbody tr th:only-of-type {\n",
       "        vertical-align: middle;\n",
       "    }\n",
       "\n",
       "    .dataframe tbody tr th {\n",
       "        vertical-align: top;\n",
       "    }\n",
       "\n",
       "    .dataframe thead th {\n",
       "        text-align: right;\n",
       "    }\n",
       "</style>\n",
       "<table border=\"1\" class=\"dataframe\">\n",
       "  <thead>\n",
       "    <tr style=\"text-align: right;\">\n",
       "      <th></th>\n",
       "      <th>Unnamed: 0</th>\n",
       "      <th>id</th>\n",
       "      <th>Gender</th>\n",
       "      <th>Customer Type</th>\n",
       "      <th>Age</th>\n",
       "      <th>Type of Travel</th>\n",
       "      <th>Class</th>\n",
       "      <th>Flight Distance</th>\n",
       "      <th>Inflight wifi service</th>\n",
       "      <th>Departure/Arrival time convenient</th>\n",
       "      <th>...</th>\n",
       "      <th>Inflight entertainment</th>\n",
       "      <th>On-board service</th>\n",
       "      <th>Leg room service</th>\n",
       "      <th>Baggage handling</th>\n",
       "      <th>Checkin service</th>\n",
       "      <th>Inflight service</th>\n",
       "      <th>Cleanliness</th>\n",
       "      <th>Departure Delay in Minutes</th>\n",
       "      <th>Arrival Delay in Minutes</th>\n",
       "      <th>satisfaction</th>\n",
       "    </tr>\n",
       "  </thead>\n",
       "  <tbody>\n",
       "    <tr>\n",
       "      <th>0</th>\n",
       "      <td>0</td>\n",
       "      <td>19556</td>\n",
       "      <td>Female</td>\n",
       "      <td>Loyal Customer</td>\n",
       "      <td>52</td>\n",
       "      <td>Business travel</td>\n",
       "      <td>Eco</td>\n",
       "      <td>160</td>\n",
       "      <td>5</td>\n",
       "      <td>4</td>\n",
       "      <td>...</td>\n",
       "      <td>5</td>\n",
       "      <td>5</td>\n",
       "      <td>5</td>\n",
       "      <td>5</td>\n",
       "      <td>2</td>\n",
       "      <td>5</td>\n",
       "      <td>5</td>\n",
       "      <td>50</td>\n",
       "      <td>44.0</td>\n",
       "      <td>satisfied</td>\n",
       "    </tr>\n",
       "    <tr>\n",
       "      <th>1</th>\n",
       "      <td>1</td>\n",
       "      <td>90035</td>\n",
       "      <td>Female</td>\n",
       "      <td>Loyal Customer</td>\n",
       "      <td>36</td>\n",
       "      <td>Business travel</td>\n",
       "      <td>Business</td>\n",
       "      <td>2863</td>\n",
       "      <td>1</td>\n",
       "      <td>1</td>\n",
       "      <td>...</td>\n",
       "      <td>4</td>\n",
       "      <td>4</td>\n",
       "      <td>4</td>\n",
       "      <td>4</td>\n",
       "      <td>3</td>\n",
       "      <td>4</td>\n",
       "      <td>5</td>\n",
       "      <td>0</td>\n",
       "      <td>0.0</td>\n",
       "      <td>satisfied</td>\n",
       "    </tr>\n",
       "    <tr>\n",
       "      <th>2</th>\n",
       "      <td>2</td>\n",
       "      <td>12360</td>\n",
       "      <td>Male</td>\n",
       "      <td>disloyal Customer</td>\n",
       "      <td>20</td>\n",
       "      <td>Business travel</td>\n",
       "      <td>Eco</td>\n",
       "      <td>192</td>\n",
       "      <td>2</td>\n",
       "      <td>0</td>\n",
       "      <td>...</td>\n",
       "      <td>2</td>\n",
       "      <td>4</td>\n",
       "      <td>1</td>\n",
       "      <td>3</td>\n",
       "      <td>2</td>\n",
       "      <td>2</td>\n",
       "      <td>2</td>\n",
       "      <td>0</td>\n",
       "      <td>0.0</td>\n",
       "      <td>neutral or dissatisfied</td>\n",
       "    </tr>\n",
       "    <tr>\n",
       "      <th>3</th>\n",
       "      <td>3</td>\n",
       "      <td>77959</td>\n",
       "      <td>Male</td>\n",
       "      <td>Loyal Customer</td>\n",
       "      <td>44</td>\n",
       "      <td>Business travel</td>\n",
       "      <td>Business</td>\n",
       "      <td>3377</td>\n",
       "      <td>0</td>\n",
       "      <td>0</td>\n",
       "      <td>...</td>\n",
       "      <td>1</td>\n",
       "      <td>1</td>\n",
       "      <td>1</td>\n",
       "      <td>1</td>\n",
       "      <td>3</td>\n",
       "      <td>1</td>\n",
       "      <td>4</td>\n",
       "      <td>0</td>\n",
       "      <td>6.0</td>\n",
       "      <td>satisfied</td>\n",
       "    </tr>\n",
       "    <tr>\n",
       "      <th>4</th>\n",
       "      <td>4</td>\n",
       "      <td>36875</td>\n",
       "      <td>Female</td>\n",
       "      <td>Loyal Customer</td>\n",
       "      <td>49</td>\n",
       "      <td>Business travel</td>\n",
       "      <td>Eco</td>\n",
       "      <td>1182</td>\n",
       "      <td>2</td>\n",
       "      <td>3</td>\n",
       "      <td>...</td>\n",
       "      <td>2</td>\n",
       "      <td>2</td>\n",
       "      <td>2</td>\n",
       "      <td>2</td>\n",
       "      <td>4</td>\n",
       "      <td>2</td>\n",
       "      <td>4</td>\n",
       "      <td>0</td>\n",
       "      <td>20.0</td>\n",
       "      <td>satisfied</td>\n",
       "    </tr>\n",
       "  </tbody>\n",
       "</table>\n",
       "<p>5 rows × 25 columns</p>\n",
       "</div>"
      ],
      "text/plain": [
       "   Unnamed: 0     id  Gender      Customer Type  Age   Type of Travel  \\\n",
       "0           0  19556  Female     Loyal Customer   52  Business travel   \n",
       "1           1  90035  Female     Loyal Customer   36  Business travel   \n",
       "2           2  12360    Male  disloyal Customer   20  Business travel   \n",
       "3           3  77959    Male     Loyal Customer   44  Business travel   \n",
       "4           4  36875  Female     Loyal Customer   49  Business travel   \n",
       "\n",
       "      Class  Flight Distance  Inflight wifi service  \\\n",
       "0       Eco              160                      5   \n",
       "1  Business             2863                      1   \n",
       "2       Eco              192                      2   \n",
       "3  Business             3377                      0   \n",
       "4       Eco             1182                      2   \n",
       "\n",
       "   Departure/Arrival time convenient  ...  Inflight entertainment  \\\n",
       "0                                  4  ...                       5   \n",
       "1                                  1  ...                       4   \n",
       "2                                  0  ...                       2   \n",
       "3                                  0  ...                       1   \n",
       "4                                  3  ...                       2   \n",
       "\n",
       "   On-board service  Leg room service  Baggage handling  Checkin service  \\\n",
       "0                 5                 5                 5                2   \n",
       "1                 4                 4                 4                3   \n",
       "2                 4                 1                 3                2   \n",
       "3                 1                 1                 1                3   \n",
       "4                 2                 2                 2                4   \n",
       "\n",
       "   Inflight service  Cleanliness  Departure Delay in Minutes  \\\n",
       "0                 5            5                          50   \n",
       "1                 4            5                           0   \n",
       "2                 2            2                           0   \n",
       "3                 1            4                           0   \n",
       "4                 2            4                           0   \n",
       "\n",
       "   Arrival Delay in Minutes             satisfaction  \n",
       "0                      44.0                satisfied  \n",
       "1                       0.0                satisfied  \n",
       "2                       0.0  neutral or dissatisfied  \n",
       "3                       6.0                satisfied  \n",
       "4                      20.0                satisfied  \n",
       "\n",
       "[5 rows x 25 columns]"
      ]
     },
     "execution_count": 6,
     "metadata": {},
     "output_type": "execute_result"
    }
   ],
   "source": [
    "# #  first five data in the dataset\n",
    "df1.head()"
   ]
  },
  {
   "cell_type": "code",
   "execution_count": 7,
   "metadata": {
    "colab": {
     "base_uri": "https://localhost:8080/",
     "height": 438
    },
    "executionInfo": {
     "elapsed": 102,
     "status": "ok",
     "timestamp": 1670050926103,
     "user": {
      "displayName": "Shrikant Chormale",
      "userId": "06649212260482941230"
     },
     "user_tz": -330
    },
    "id": "7d3bdad7-f0ef-4637-b7f9-230291057d5e",
    "outputId": "c66a0526-88ec-4c22-f70e-a741c4334560"
   },
   "outputs": [
    {
     "data": {
      "text/html": [
       "<div>\n",
       "<style scoped>\n",
       "    .dataframe tbody tr th:only-of-type {\n",
       "        vertical-align: middle;\n",
       "    }\n",
       "\n",
       "    .dataframe tbody tr th {\n",
       "        vertical-align: top;\n",
       "    }\n",
       "\n",
       "    .dataframe thead th {\n",
       "        text-align: right;\n",
       "    }\n",
       "</style>\n",
       "<table border=\"1\" class=\"dataframe\">\n",
       "  <thead>\n",
       "    <tr style=\"text-align: right;\">\n",
       "      <th></th>\n",
       "      <th>Unnamed: 0</th>\n",
       "      <th>id</th>\n",
       "      <th>Gender</th>\n",
       "      <th>Customer Type</th>\n",
       "      <th>Age</th>\n",
       "      <th>Type of Travel</th>\n",
       "      <th>Class</th>\n",
       "      <th>Flight Distance</th>\n",
       "      <th>Inflight wifi service</th>\n",
       "      <th>Departure/Arrival time convenient</th>\n",
       "      <th>...</th>\n",
       "      <th>Inflight entertainment</th>\n",
       "      <th>On-board service</th>\n",
       "      <th>Leg room service</th>\n",
       "      <th>Baggage handling</th>\n",
       "      <th>Checkin service</th>\n",
       "      <th>Inflight service</th>\n",
       "      <th>Cleanliness</th>\n",
       "      <th>Departure Delay in Minutes</th>\n",
       "      <th>Arrival Delay in Minutes</th>\n",
       "      <th>satisfaction</th>\n",
       "    </tr>\n",
       "  </thead>\n",
       "  <tbody>\n",
       "    <tr>\n",
       "      <th>103899</th>\n",
       "      <td>103899</td>\n",
       "      <td>94171</td>\n",
       "      <td>Female</td>\n",
       "      <td>disloyal Customer</td>\n",
       "      <td>23</td>\n",
       "      <td>Business travel</td>\n",
       "      <td>Eco</td>\n",
       "      <td>192</td>\n",
       "      <td>2</td>\n",
       "      <td>1</td>\n",
       "      <td>...</td>\n",
       "      <td>2</td>\n",
       "      <td>3</td>\n",
       "      <td>1</td>\n",
       "      <td>4</td>\n",
       "      <td>2</td>\n",
       "      <td>3</td>\n",
       "      <td>2</td>\n",
       "      <td>3</td>\n",
       "      <td>0.0</td>\n",
       "      <td>neutral or dissatisfied</td>\n",
       "    </tr>\n",
       "    <tr>\n",
       "      <th>103900</th>\n",
       "      <td>103900</td>\n",
       "      <td>73097</td>\n",
       "      <td>Male</td>\n",
       "      <td>Loyal Customer</td>\n",
       "      <td>49</td>\n",
       "      <td>Business travel</td>\n",
       "      <td>Business</td>\n",
       "      <td>2347</td>\n",
       "      <td>4</td>\n",
       "      <td>4</td>\n",
       "      <td>...</td>\n",
       "      <td>5</td>\n",
       "      <td>5</td>\n",
       "      <td>5</td>\n",
       "      <td>5</td>\n",
       "      <td>5</td>\n",
       "      <td>5</td>\n",
       "      <td>4</td>\n",
       "      <td>0</td>\n",
       "      <td>0.0</td>\n",
       "      <td>satisfied</td>\n",
       "    </tr>\n",
       "    <tr>\n",
       "      <th>103901</th>\n",
       "      <td>103901</td>\n",
       "      <td>68825</td>\n",
       "      <td>Male</td>\n",
       "      <td>disloyal Customer</td>\n",
       "      <td>30</td>\n",
       "      <td>Business travel</td>\n",
       "      <td>Business</td>\n",
       "      <td>1995</td>\n",
       "      <td>1</td>\n",
       "      <td>1</td>\n",
       "      <td>...</td>\n",
       "      <td>4</td>\n",
       "      <td>3</td>\n",
       "      <td>2</td>\n",
       "      <td>4</td>\n",
       "      <td>5</td>\n",
       "      <td>5</td>\n",
       "      <td>4</td>\n",
       "      <td>7</td>\n",
       "      <td>14.0</td>\n",
       "      <td>neutral or dissatisfied</td>\n",
       "    </tr>\n",
       "    <tr>\n",
       "      <th>103902</th>\n",
       "      <td>103902</td>\n",
       "      <td>54173</td>\n",
       "      <td>Female</td>\n",
       "      <td>disloyal Customer</td>\n",
       "      <td>22</td>\n",
       "      <td>Business travel</td>\n",
       "      <td>Eco</td>\n",
       "      <td>1000</td>\n",
       "      <td>1</td>\n",
       "      <td>1</td>\n",
       "      <td>...</td>\n",
       "      <td>1</td>\n",
       "      <td>4</td>\n",
       "      <td>5</td>\n",
       "      <td>1</td>\n",
       "      <td>5</td>\n",
       "      <td>4</td>\n",
       "      <td>1</td>\n",
       "      <td>0</td>\n",
       "      <td>0.0</td>\n",
       "      <td>neutral or dissatisfied</td>\n",
       "    </tr>\n",
       "    <tr>\n",
       "      <th>103903</th>\n",
       "      <td>103903</td>\n",
       "      <td>62567</td>\n",
       "      <td>Male</td>\n",
       "      <td>Loyal Customer</td>\n",
       "      <td>27</td>\n",
       "      <td>Business travel</td>\n",
       "      <td>Business</td>\n",
       "      <td>1723</td>\n",
       "      <td>1</td>\n",
       "      <td>3</td>\n",
       "      <td>...</td>\n",
       "      <td>1</td>\n",
       "      <td>1</td>\n",
       "      <td>1</td>\n",
       "      <td>4</td>\n",
       "      <td>4</td>\n",
       "      <td>3</td>\n",
       "      <td>1</td>\n",
       "      <td>0</td>\n",
       "      <td>0.0</td>\n",
       "      <td>neutral or dissatisfied</td>\n",
       "    </tr>\n",
       "  </tbody>\n",
       "</table>\n",
       "<p>5 rows × 25 columns</p>\n",
       "</div>"
      ],
      "text/plain": [
       "        Unnamed: 0     id  Gender      Customer Type  Age   Type of Travel  \\\n",
       "103899      103899  94171  Female  disloyal Customer   23  Business travel   \n",
       "103900      103900  73097    Male     Loyal Customer   49  Business travel   \n",
       "103901      103901  68825    Male  disloyal Customer   30  Business travel   \n",
       "103902      103902  54173  Female  disloyal Customer   22  Business travel   \n",
       "103903      103903  62567    Male     Loyal Customer   27  Business travel   \n",
       "\n",
       "           Class  Flight Distance  Inflight wifi service  \\\n",
       "103899       Eco              192                      2   \n",
       "103900  Business             2347                      4   \n",
       "103901  Business             1995                      1   \n",
       "103902       Eco             1000                      1   \n",
       "103903  Business             1723                      1   \n",
       "\n",
       "        Departure/Arrival time convenient  ...  Inflight entertainment  \\\n",
       "103899                                  1  ...                       2   \n",
       "103900                                  4  ...                       5   \n",
       "103901                                  1  ...                       4   \n",
       "103902                                  1  ...                       1   \n",
       "103903                                  3  ...                       1   \n",
       "\n",
       "        On-board service  Leg room service  Baggage handling  Checkin service  \\\n",
       "103899                 3                 1                 4                2   \n",
       "103900                 5                 5                 5                5   \n",
       "103901                 3                 2                 4                5   \n",
       "103902                 4                 5                 1                5   \n",
       "103903                 1                 1                 4                4   \n",
       "\n",
       "        Inflight service  Cleanliness  Departure Delay in Minutes  \\\n",
       "103899                 3            2                           3   \n",
       "103900                 5            4                           0   \n",
       "103901                 5            4                           7   \n",
       "103902                 4            1                           0   \n",
       "103903                 3            1                           0   \n",
       "\n",
       "        Arrival Delay in Minutes             satisfaction  \n",
       "103899                       0.0  neutral or dissatisfied  \n",
       "103900                       0.0                satisfied  \n",
       "103901                      14.0  neutral or dissatisfied  \n",
       "103902                       0.0  neutral or dissatisfied  \n",
       "103903                       0.0  neutral or dissatisfied  \n",
       "\n",
       "[5 rows x 25 columns]"
      ]
     },
     "execution_count": 7,
     "metadata": {},
     "output_type": "execute_result"
    }
   ],
   "source": [
    "df.tail()"
   ]
  },
  {
   "cell_type": "code",
   "execution_count": 8,
   "metadata": {
    "executionInfo": {
     "elapsed": 100,
     "status": "ok",
     "timestamp": 1670050926103,
     "user": {
      "displayName": "Shrikant Chormale",
      "userId": "06649212260482941230"
     },
     "user_tz": -330
    },
    "id": "aa5738a7-0925-4724-a1b1-2a99dbbc26d3"
   },
   "outputs": [],
   "source": [
    "# concat the df and df1 dataset"
   ]
  },
  {
   "cell_type": "code",
   "execution_count": 9,
   "metadata": {
    "executionInfo": {
     "elapsed": 100,
     "status": "ok",
     "timestamp": 1670050926104,
     "user": {
      "displayName": "Shrikant Chormale",
      "userId": "06649212260482941230"
     },
     "user_tz": -330
    },
    "id": "5a9a8895-39ea-4aaa-be43-59f99a64faad"
   },
   "outputs": [],
   "source": [
    "df=pd.concat([df,df1],axis=0)"
   ]
  },
  {
   "cell_type": "code",
   "execution_count": 10,
   "metadata": {
    "colab": {
     "base_uri": "https://localhost:8080/",
     "height": 438
    },
    "executionInfo": {
     "elapsed": 101,
     "status": "ok",
     "timestamp": 1670050926105,
     "user": {
      "displayName": "Shrikant Chormale",
      "userId": "06649212260482941230"
     },
     "user_tz": -330
    },
    "id": "8c1a34f8-cc93-4656-8130-9f8aea6a6a62",
    "outputId": "d49fc01c-c19d-469c-9c71-7c9cb5e89507"
   },
   "outputs": [
    {
     "data": {
      "text/html": [
       "<div>\n",
       "<style scoped>\n",
       "    .dataframe tbody tr th:only-of-type {\n",
       "        vertical-align: middle;\n",
       "    }\n",
       "\n",
       "    .dataframe tbody tr th {\n",
       "        vertical-align: top;\n",
       "    }\n",
       "\n",
       "    .dataframe thead th {\n",
       "        text-align: right;\n",
       "    }\n",
       "</style>\n",
       "<table border=\"1\" class=\"dataframe\">\n",
       "  <thead>\n",
       "    <tr style=\"text-align: right;\">\n",
       "      <th></th>\n",
       "      <th>Unnamed: 0</th>\n",
       "      <th>id</th>\n",
       "      <th>Gender</th>\n",
       "      <th>Customer Type</th>\n",
       "      <th>Age</th>\n",
       "      <th>Type of Travel</th>\n",
       "      <th>Class</th>\n",
       "      <th>Flight Distance</th>\n",
       "      <th>Inflight wifi service</th>\n",
       "      <th>Departure/Arrival time convenient</th>\n",
       "      <th>...</th>\n",
       "      <th>Inflight entertainment</th>\n",
       "      <th>On-board service</th>\n",
       "      <th>Leg room service</th>\n",
       "      <th>Baggage handling</th>\n",
       "      <th>Checkin service</th>\n",
       "      <th>Inflight service</th>\n",
       "      <th>Cleanliness</th>\n",
       "      <th>Departure Delay in Minutes</th>\n",
       "      <th>Arrival Delay in Minutes</th>\n",
       "      <th>satisfaction</th>\n",
       "    </tr>\n",
       "  </thead>\n",
       "  <tbody>\n",
       "    <tr>\n",
       "      <th>0</th>\n",
       "      <td>0</td>\n",
       "      <td>70172</td>\n",
       "      <td>Male</td>\n",
       "      <td>Loyal Customer</td>\n",
       "      <td>13</td>\n",
       "      <td>Personal Travel</td>\n",
       "      <td>Eco Plus</td>\n",
       "      <td>460</td>\n",
       "      <td>3</td>\n",
       "      <td>4</td>\n",
       "      <td>...</td>\n",
       "      <td>5</td>\n",
       "      <td>4</td>\n",
       "      <td>3</td>\n",
       "      <td>4</td>\n",
       "      <td>4</td>\n",
       "      <td>5</td>\n",
       "      <td>5</td>\n",
       "      <td>25</td>\n",
       "      <td>18.0</td>\n",
       "      <td>neutral or dissatisfied</td>\n",
       "    </tr>\n",
       "    <tr>\n",
       "      <th>1</th>\n",
       "      <td>1</td>\n",
       "      <td>5047</td>\n",
       "      <td>Male</td>\n",
       "      <td>disloyal Customer</td>\n",
       "      <td>25</td>\n",
       "      <td>Business travel</td>\n",
       "      <td>Business</td>\n",
       "      <td>235</td>\n",
       "      <td>3</td>\n",
       "      <td>2</td>\n",
       "      <td>...</td>\n",
       "      <td>1</td>\n",
       "      <td>1</td>\n",
       "      <td>5</td>\n",
       "      <td>3</td>\n",
       "      <td>1</td>\n",
       "      <td>4</td>\n",
       "      <td>1</td>\n",
       "      <td>1</td>\n",
       "      <td>6.0</td>\n",
       "      <td>neutral or dissatisfied</td>\n",
       "    </tr>\n",
       "    <tr>\n",
       "      <th>2</th>\n",
       "      <td>2</td>\n",
       "      <td>110028</td>\n",
       "      <td>Female</td>\n",
       "      <td>Loyal Customer</td>\n",
       "      <td>26</td>\n",
       "      <td>Business travel</td>\n",
       "      <td>Business</td>\n",
       "      <td>1142</td>\n",
       "      <td>2</td>\n",
       "      <td>2</td>\n",
       "      <td>...</td>\n",
       "      <td>5</td>\n",
       "      <td>4</td>\n",
       "      <td>3</td>\n",
       "      <td>4</td>\n",
       "      <td>4</td>\n",
       "      <td>4</td>\n",
       "      <td>5</td>\n",
       "      <td>0</td>\n",
       "      <td>0.0</td>\n",
       "      <td>satisfied</td>\n",
       "    </tr>\n",
       "    <tr>\n",
       "      <th>3</th>\n",
       "      <td>3</td>\n",
       "      <td>24026</td>\n",
       "      <td>Female</td>\n",
       "      <td>Loyal Customer</td>\n",
       "      <td>25</td>\n",
       "      <td>Business travel</td>\n",
       "      <td>Business</td>\n",
       "      <td>562</td>\n",
       "      <td>2</td>\n",
       "      <td>5</td>\n",
       "      <td>...</td>\n",
       "      <td>2</td>\n",
       "      <td>2</td>\n",
       "      <td>5</td>\n",
       "      <td>3</td>\n",
       "      <td>1</td>\n",
       "      <td>4</td>\n",
       "      <td>2</td>\n",
       "      <td>11</td>\n",
       "      <td>9.0</td>\n",
       "      <td>neutral or dissatisfied</td>\n",
       "    </tr>\n",
       "    <tr>\n",
       "      <th>4</th>\n",
       "      <td>4</td>\n",
       "      <td>119299</td>\n",
       "      <td>Male</td>\n",
       "      <td>Loyal Customer</td>\n",
       "      <td>61</td>\n",
       "      <td>Business travel</td>\n",
       "      <td>Business</td>\n",
       "      <td>214</td>\n",
       "      <td>3</td>\n",
       "      <td>3</td>\n",
       "      <td>...</td>\n",
       "      <td>3</td>\n",
       "      <td>3</td>\n",
       "      <td>4</td>\n",
       "      <td>4</td>\n",
       "      <td>3</td>\n",
       "      <td>3</td>\n",
       "      <td>3</td>\n",
       "      <td>0</td>\n",
       "      <td>0.0</td>\n",
       "      <td>satisfied</td>\n",
       "    </tr>\n",
       "  </tbody>\n",
       "</table>\n",
       "<p>5 rows × 25 columns</p>\n",
       "</div>"
      ],
      "text/plain": [
       "   Unnamed: 0      id  Gender      Customer Type  Age   Type of Travel  \\\n",
       "0           0   70172    Male     Loyal Customer   13  Personal Travel   \n",
       "1           1    5047    Male  disloyal Customer   25  Business travel   \n",
       "2           2  110028  Female     Loyal Customer   26  Business travel   \n",
       "3           3   24026  Female     Loyal Customer   25  Business travel   \n",
       "4           4  119299    Male     Loyal Customer   61  Business travel   \n",
       "\n",
       "      Class  Flight Distance  Inflight wifi service  \\\n",
       "0  Eco Plus              460                      3   \n",
       "1  Business              235                      3   \n",
       "2  Business             1142                      2   \n",
       "3  Business              562                      2   \n",
       "4  Business              214                      3   \n",
       "\n",
       "   Departure/Arrival time convenient  ...  Inflight entertainment  \\\n",
       "0                                  4  ...                       5   \n",
       "1                                  2  ...                       1   \n",
       "2                                  2  ...                       5   \n",
       "3                                  5  ...                       2   \n",
       "4                                  3  ...                       3   \n",
       "\n",
       "   On-board service  Leg room service  Baggage handling  Checkin service  \\\n",
       "0                 4                 3                 4                4   \n",
       "1                 1                 5                 3                1   \n",
       "2                 4                 3                 4                4   \n",
       "3                 2                 5                 3                1   \n",
       "4                 3                 4                 4                3   \n",
       "\n",
       "   Inflight service  Cleanliness  Departure Delay in Minutes  \\\n",
       "0                 5            5                          25   \n",
       "1                 4            1                           1   \n",
       "2                 4            5                           0   \n",
       "3                 4            2                          11   \n",
       "4                 3            3                           0   \n",
       "\n",
       "   Arrival Delay in Minutes             satisfaction  \n",
       "0                      18.0  neutral or dissatisfied  \n",
       "1                       6.0  neutral or dissatisfied  \n",
       "2                       0.0                satisfied  \n",
       "3                       9.0  neutral or dissatisfied  \n",
       "4                       0.0                satisfied  \n",
       "\n",
       "[5 rows x 25 columns]"
      ]
     },
     "execution_count": 10,
     "metadata": {},
     "output_type": "execute_result"
    }
   ],
   "source": [
    "#   first five data in the dataset\n",
    "df.head()"
   ]
  },
  {
   "cell_type": "code",
   "execution_count": 11,
   "metadata": {
    "colab": {
     "base_uri": "https://localhost:8080/",
     "height": 438
    },
    "executionInfo": {
     "elapsed": 99,
     "status": "ok",
     "timestamp": 1670050926106,
     "user": {
      "displayName": "Shrikant Chormale",
      "userId": "06649212260482941230"
     },
     "user_tz": -330
    },
    "id": "042dbb20-aad8-47f9-8ad6-9bc18afc1c97",
    "outputId": "24f6a5ed-bde8-497f-f933-eebb59ea2002"
   },
   "outputs": [
    {
     "data": {
      "text/html": [
       "<div>\n",
       "<style scoped>\n",
       "    .dataframe tbody tr th:only-of-type {\n",
       "        vertical-align: middle;\n",
       "    }\n",
       "\n",
       "    .dataframe tbody tr th {\n",
       "        vertical-align: top;\n",
       "    }\n",
       "\n",
       "    .dataframe thead th {\n",
       "        text-align: right;\n",
       "    }\n",
       "</style>\n",
       "<table border=\"1\" class=\"dataframe\">\n",
       "  <thead>\n",
       "    <tr style=\"text-align: right;\">\n",
       "      <th></th>\n",
       "      <th>Unnamed: 0</th>\n",
       "      <th>id</th>\n",
       "      <th>Gender</th>\n",
       "      <th>Customer Type</th>\n",
       "      <th>Age</th>\n",
       "      <th>Type of Travel</th>\n",
       "      <th>Class</th>\n",
       "      <th>Flight Distance</th>\n",
       "      <th>Inflight wifi service</th>\n",
       "      <th>Departure/Arrival time convenient</th>\n",
       "      <th>...</th>\n",
       "      <th>Inflight entertainment</th>\n",
       "      <th>On-board service</th>\n",
       "      <th>Leg room service</th>\n",
       "      <th>Baggage handling</th>\n",
       "      <th>Checkin service</th>\n",
       "      <th>Inflight service</th>\n",
       "      <th>Cleanliness</th>\n",
       "      <th>Departure Delay in Minutes</th>\n",
       "      <th>Arrival Delay in Minutes</th>\n",
       "      <th>satisfaction</th>\n",
       "    </tr>\n",
       "  </thead>\n",
       "  <tbody>\n",
       "    <tr>\n",
       "      <th>25971</th>\n",
       "      <td>25971</td>\n",
       "      <td>78463</td>\n",
       "      <td>Male</td>\n",
       "      <td>disloyal Customer</td>\n",
       "      <td>34</td>\n",
       "      <td>Business travel</td>\n",
       "      <td>Business</td>\n",
       "      <td>526</td>\n",
       "      <td>3</td>\n",
       "      <td>3</td>\n",
       "      <td>...</td>\n",
       "      <td>4</td>\n",
       "      <td>3</td>\n",
       "      <td>2</td>\n",
       "      <td>4</td>\n",
       "      <td>4</td>\n",
       "      <td>5</td>\n",
       "      <td>4</td>\n",
       "      <td>0</td>\n",
       "      <td>0.0</td>\n",
       "      <td>neutral or dissatisfied</td>\n",
       "    </tr>\n",
       "    <tr>\n",
       "      <th>25972</th>\n",
       "      <td>25972</td>\n",
       "      <td>71167</td>\n",
       "      <td>Male</td>\n",
       "      <td>Loyal Customer</td>\n",
       "      <td>23</td>\n",
       "      <td>Business travel</td>\n",
       "      <td>Business</td>\n",
       "      <td>646</td>\n",
       "      <td>4</td>\n",
       "      <td>4</td>\n",
       "      <td>...</td>\n",
       "      <td>4</td>\n",
       "      <td>4</td>\n",
       "      <td>5</td>\n",
       "      <td>5</td>\n",
       "      <td>5</td>\n",
       "      <td>5</td>\n",
       "      <td>4</td>\n",
       "      <td>0</td>\n",
       "      <td>0.0</td>\n",
       "      <td>satisfied</td>\n",
       "    </tr>\n",
       "    <tr>\n",
       "      <th>25973</th>\n",
       "      <td>25973</td>\n",
       "      <td>37675</td>\n",
       "      <td>Female</td>\n",
       "      <td>Loyal Customer</td>\n",
       "      <td>17</td>\n",
       "      <td>Personal Travel</td>\n",
       "      <td>Eco</td>\n",
       "      <td>828</td>\n",
       "      <td>2</td>\n",
       "      <td>5</td>\n",
       "      <td>...</td>\n",
       "      <td>2</td>\n",
       "      <td>4</td>\n",
       "      <td>3</td>\n",
       "      <td>4</td>\n",
       "      <td>5</td>\n",
       "      <td>4</td>\n",
       "      <td>2</td>\n",
       "      <td>0</td>\n",
       "      <td>0.0</td>\n",
       "      <td>neutral or dissatisfied</td>\n",
       "    </tr>\n",
       "    <tr>\n",
       "      <th>25974</th>\n",
       "      <td>25974</td>\n",
       "      <td>90086</td>\n",
       "      <td>Male</td>\n",
       "      <td>Loyal Customer</td>\n",
       "      <td>14</td>\n",
       "      <td>Business travel</td>\n",
       "      <td>Business</td>\n",
       "      <td>1127</td>\n",
       "      <td>3</td>\n",
       "      <td>3</td>\n",
       "      <td>...</td>\n",
       "      <td>4</td>\n",
       "      <td>3</td>\n",
       "      <td>2</td>\n",
       "      <td>5</td>\n",
       "      <td>4</td>\n",
       "      <td>5</td>\n",
       "      <td>4</td>\n",
       "      <td>0</td>\n",
       "      <td>0.0</td>\n",
       "      <td>satisfied</td>\n",
       "    </tr>\n",
       "    <tr>\n",
       "      <th>25975</th>\n",
       "      <td>25975</td>\n",
       "      <td>34799</td>\n",
       "      <td>Female</td>\n",
       "      <td>Loyal Customer</td>\n",
       "      <td>42</td>\n",
       "      <td>Personal Travel</td>\n",
       "      <td>Eco</td>\n",
       "      <td>264</td>\n",
       "      <td>2</td>\n",
       "      <td>5</td>\n",
       "      <td>...</td>\n",
       "      <td>1</td>\n",
       "      <td>1</td>\n",
       "      <td>2</td>\n",
       "      <td>1</td>\n",
       "      <td>1</td>\n",
       "      <td>1</td>\n",
       "      <td>1</td>\n",
       "      <td>0</td>\n",
       "      <td>0.0</td>\n",
       "      <td>neutral or dissatisfied</td>\n",
       "    </tr>\n",
       "  </tbody>\n",
       "</table>\n",
       "<p>5 rows × 25 columns</p>\n",
       "</div>"
      ],
      "text/plain": [
       "       Unnamed: 0     id  Gender      Customer Type  Age   Type of Travel  \\\n",
       "25971       25971  78463    Male  disloyal Customer   34  Business travel   \n",
       "25972       25972  71167    Male     Loyal Customer   23  Business travel   \n",
       "25973       25973  37675  Female     Loyal Customer   17  Personal Travel   \n",
       "25974       25974  90086    Male     Loyal Customer   14  Business travel   \n",
       "25975       25975  34799  Female     Loyal Customer   42  Personal Travel   \n",
       "\n",
       "          Class  Flight Distance  Inflight wifi service  \\\n",
       "25971  Business              526                      3   \n",
       "25972  Business              646                      4   \n",
       "25973       Eco              828                      2   \n",
       "25974  Business             1127                      3   \n",
       "25975       Eco              264                      2   \n",
       "\n",
       "       Departure/Arrival time convenient  ...  Inflight entertainment  \\\n",
       "25971                                  3  ...                       4   \n",
       "25972                                  4  ...                       4   \n",
       "25973                                  5  ...                       2   \n",
       "25974                                  3  ...                       4   \n",
       "25975                                  5  ...                       1   \n",
       "\n",
       "       On-board service  Leg room service  Baggage handling  Checkin service  \\\n",
       "25971                 3                 2                 4                4   \n",
       "25972                 4                 5                 5                5   \n",
       "25973                 4                 3                 4                5   \n",
       "25974                 3                 2                 5                4   \n",
       "25975                 1                 2                 1                1   \n",
       "\n",
       "       Inflight service  Cleanliness  Departure Delay in Minutes  \\\n",
       "25971                 5            4                           0   \n",
       "25972                 5            4                           0   \n",
       "25973                 4            2                           0   \n",
       "25974                 5            4                           0   \n",
       "25975                 1            1                           0   \n",
       "\n",
       "       Arrival Delay in Minutes             satisfaction  \n",
       "25971                       0.0  neutral or dissatisfied  \n",
       "25972                       0.0                satisfied  \n",
       "25973                       0.0  neutral or dissatisfied  \n",
       "25974                       0.0                satisfied  \n",
       "25975                       0.0  neutral or dissatisfied  \n",
       "\n",
       "[5 rows x 25 columns]"
      ]
     },
     "execution_count": 11,
     "metadata": {},
     "output_type": "execute_result"
    }
   ],
   "source": [
    "#  last five data in the dataset\n",
    "df.tail()"
   ]
  },
  {
   "cell_type": "code",
   "execution_count": 12,
   "metadata": {
    "colab": {
     "base_uri": "https://localhost:8080/"
    },
    "executionInfo": {
     "elapsed": 98,
     "status": "ok",
     "timestamp": 1670050926107,
     "user": {
      "displayName": "Shrikant Chormale",
      "userId": "06649212260482941230"
     },
     "user_tz": -330
    },
    "id": "c8c85db4-e0b1-418f-8295-12761e526fa8",
    "outputId": "544f99f6-1d2b-4312-c7f7-a43f779207cd"
   },
   "outputs": [
    {
     "data": {
      "text/plain": [
       "(129880, 25)"
      ]
     },
     "execution_count": 12,
     "metadata": {},
     "output_type": "execute_result"
    }
   ],
   "source": [
    "df.shape"
   ]
  },
  {
   "cell_type": "code",
   "execution_count": 13,
   "metadata": {
    "colab": {
     "base_uri": "https://localhost:8080/"
    },
    "executionInfo": {
     "elapsed": 76,
     "status": "ok",
     "timestamp": 1670050926107,
     "user": {
      "displayName": "Shrikant Chormale",
      "userId": "06649212260482941230"
     },
     "user_tz": -330
    },
    "id": "60a60b6d-4bf0-4b09-ba6a-cf6d5e1d4672",
    "outputId": "de3593a6-b24d-4f58-ffdc-ad6770407981"
   },
   "outputs": [
    {
     "data": {
      "text/plain": [
       "3247000"
      ]
     },
     "execution_count": 13,
     "metadata": {},
     "output_type": "execute_result"
    }
   ],
   "source": [
    "df.size"
   ]
  },
  {
   "cell_type": "markdown",
   "metadata": {
    "id": "f89395bb-affb-4463-8a0a-03a449f14a58"
   },
   "source": [
    "#conclude=#conclude-We can see that the dataset has 129880 observations and 25 features, and one of those features is the target variable."
   ]
  },
  {
   "cell_type": "code",
   "execution_count": 14,
   "metadata": {
    "colab": {
     "base_uri": "https://localhost:8080/"
    },
    "executionInfo": {
     "elapsed": 72,
     "status": "ok",
     "timestamp": 1670050926108,
     "user": {
      "displayName": "Shrikant Chormale",
      "userId": "06649212260482941230"
     },
     "user_tz": -330
    },
    "id": "acf6075d-167d-4e36-8c0e-8f65115b2ddd",
    "outputId": "1c110df1-c308-4728-97d1-a22e47ca56e9"
   },
   "outputs": [
    {
     "name": "stdout",
     "output_type": "stream",
     "text": [
      "<class 'pandas.core.frame.DataFrame'>\n",
      "Int64Index: 129880 entries, 0 to 25975\n",
      "Data columns (total 25 columns):\n",
      " #   Column                             Non-Null Count   Dtype  \n",
      "---  ------                             --------------   -----  \n",
      " 0   Unnamed: 0                         129880 non-null  int64  \n",
      " 1   id                                 129880 non-null  int64  \n",
      " 2   Gender                             129880 non-null  object \n",
      " 3   Customer Type                      129880 non-null  object \n",
      " 4   Age                                129880 non-null  int64  \n",
      " 5   Type of Travel                     129880 non-null  object \n",
      " 6   Class                              129880 non-null  object \n",
      " 7   Flight Distance                    129880 non-null  int64  \n",
      " 8   Inflight wifi service              129880 non-null  int64  \n",
      " 9   Departure/Arrival time convenient  129880 non-null  int64  \n",
      " 10  Ease of Online booking             129880 non-null  int64  \n",
      " 11  Gate location                      129880 non-null  int64  \n",
      " 12  Food and drink                     129880 non-null  int64  \n",
      " 13  Online boarding                    129880 non-null  int64  \n",
      " 14  Seat comfort                       129880 non-null  int64  \n",
      " 15  Inflight entertainment             129880 non-null  int64  \n",
      " 16  On-board service                   129880 non-null  int64  \n",
      " 17  Leg room service                   129880 non-null  int64  \n",
      " 18  Baggage handling                   129880 non-null  int64  \n",
      " 19  Checkin service                    129880 non-null  int64  \n",
      " 20  Inflight service                   129880 non-null  int64  \n",
      " 21  Cleanliness                        129880 non-null  int64  \n",
      " 22  Departure Delay in Minutes         129880 non-null  int64  \n",
      " 23  Arrival Delay in Minutes           129487 non-null  float64\n",
      " 24  satisfaction                       129880 non-null  object \n",
      "dtypes: float64(1), int64(19), object(5)\n",
      "memory usage: 25.8+ MB\n"
     ]
    }
   ],
   "source": [
    "# get the information of the data \n",
    "df.info()"
   ]
  },
  {
   "cell_type": "markdown",
   "metadata": {
    "id": "ad117c85-d2ea-437b-82d8-d296d52806bc"
   },
   "source": [
    "#conclude-We can observe that the dataset has a combination of categorical (object)=5 and numeric (float and int)-20 features"
   ]
  },
  {
   "cell_type": "markdown",
   "metadata": {
    "id": "466b9e29-0037-485d-997d-5325e3797e49"
   },
   "source": [
    "# Dropping unused  columns."
   ]
  },
  {
   "cell_type": "code",
   "execution_count": 15,
   "metadata": {
    "executionInfo": {
     "elapsed": 67,
     "status": "ok",
     "timestamp": 1670050926109,
     "user": {
      "displayName": "Shrikant Chormale",
      "userId": "06649212260482941230"
     },
     "user_tz": -330
    },
    "id": "661d515d-21ff-493d-8fab-47ef93e33572"
   },
   "outputs": [],
   "source": [
    "# 'Unnamed' and 'id' columms are irrelevant and needs to be dropped.\n",
    "df.drop(columns = ['Unnamed: 0', 'id'], inplace = True)"
   ]
  },
  {
   "cell_type": "code",
   "execution_count": 16,
   "metadata": {
    "colab": {
     "base_uri": "https://localhost:8080/",
     "height": 438
    },
    "executionInfo": {
     "elapsed": 66,
     "status": "ok",
     "timestamp": 1670050926109,
     "user": {
      "displayName": "Shrikant Chormale",
      "userId": "06649212260482941230"
     },
     "user_tz": -330
    },
    "id": "869c5352-725f-400c-a6b8-2e8773952f33",
    "outputId": "041f741d-292d-4d0d-b931-a44ff1c1feac"
   },
   "outputs": [
    {
     "data": {
      "text/html": [
       "<div>\n",
       "<style scoped>\n",
       "    .dataframe tbody tr th:only-of-type {\n",
       "        vertical-align: middle;\n",
       "    }\n",
       "\n",
       "    .dataframe tbody tr th {\n",
       "        vertical-align: top;\n",
       "    }\n",
       "\n",
       "    .dataframe thead th {\n",
       "        text-align: right;\n",
       "    }\n",
       "</style>\n",
       "<table border=\"1\" class=\"dataframe\">\n",
       "  <thead>\n",
       "    <tr style=\"text-align: right;\">\n",
       "      <th></th>\n",
       "      <th>Gender</th>\n",
       "      <th>Customer Type</th>\n",
       "      <th>Age</th>\n",
       "      <th>Type of Travel</th>\n",
       "      <th>Class</th>\n",
       "      <th>Flight Distance</th>\n",
       "      <th>Inflight wifi service</th>\n",
       "      <th>Departure/Arrival time convenient</th>\n",
       "      <th>Ease of Online booking</th>\n",
       "      <th>Gate location</th>\n",
       "      <th>...</th>\n",
       "      <th>Inflight entertainment</th>\n",
       "      <th>On-board service</th>\n",
       "      <th>Leg room service</th>\n",
       "      <th>Baggage handling</th>\n",
       "      <th>Checkin service</th>\n",
       "      <th>Inflight service</th>\n",
       "      <th>Cleanliness</th>\n",
       "      <th>Departure Delay in Minutes</th>\n",
       "      <th>Arrival Delay in Minutes</th>\n",
       "      <th>satisfaction</th>\n",
       "    </tr>\n",
       "  </thead>\n",
       "  <tbody>\n",
       "    <tr>\n",
       "      <th>0</th>\n",
       "      <td>Male</td>\n",
       "      <td>Loyal Customer</td>\n",
       "      <td>13</td>\n",
       "      <td>Personal Travel</td>\n",
       "      <td>Eco Plus</td>\n",
       "      <td>460</td>\n",
       "      <td>3</td>\n",
       "      <td>4</td>\n",
       "      <td>3</td>\n",
       "      <td>1</td>\n",
       "      <td>...</td>\n",
       "      <td>5</td>\n",
       "      <td>4</td>\n",
       "      <td>3</td>\n",
       "      <td>4</td>\n",
       "      <td>4</td>\n",
       "      <td>5</td>\n",
       "      <td>5</td>\n",
       "      <td>25</td>\n",
       "      <td>18.0</td>\n",
       "      <td>neutral or dissatisfied</td>\n",
       "    </tr>\n",
       "    <tr>\n",
       "      <th>1</th>\n",
       "      <td>Male</td>\n",
       "      <td>disloyal Customer</td>\n",
       "      <td>25</td>\n",
       "      <td>Business travel</td>\n",
       "      <td>Business</td>\n",
       "      <td>235</td>\n",
       "      <td>3</td>\n",
       "      <td>2</td>\n",
       "      <td>3</td>\n",
       "      <td>3</td>\n",
       "      <td>...</td>\n",
       "      <td>1</td>\n",
       "      <td>1</td>\n",
       "      <td>5</td>\n",
       "      <td>3</td>\n",
       "      <td>1</td>\n",
       "      <td>4</td>\n",
       "      <td>1</td>\n",
       "      <td>1</td>\n",
       "      <td>6.0</td>\n",
       "      <td>neutral or dissatisfied</td>\n",
       "    </tr>\n",
       "    <tr>\n",
       "      <th>2</th>\n",
       "      <td>Female</td>\n",
       "      <td>Loyal Customer</td>\n",
       "      <td>26</td>\n",
       "      <td>Business travel</td>\n",
       "      <td>Business</td>\n",
       "      <td>1142</td>\n",
       "      <td>2</td>\n",
       "      <td>2</td>\n",
       "      <td>2</td>\n",
       "      <td>2</td>\n",
       "      <td>...</td>\n",
       "      <td>5</td>\n",
       "      <td>4</td>\n",
       "      <td>3</td>\n",
       "      <td>4</td>\n",
       "      <td>4</td>\n",
       "      <td>4</td>\n",
       "      <td>5</td>\n",
       "      <td>0</td>\n",
       "      <td>0.0</td>\n",
       "      <td>satisfied</td>\n",
       "    </tr>\n",
       "    <tr>\n",
       "      <th>3</th>\n",
       "      <td>Female</td>\n",
       "      <td>Loyal Customer</td>\n",
       "      <td>25</td>\n",
       "      <td>Business travel</td>\n",
       "      <td>Business</td>\n",
       "      <td>562</td>\n",
       "      <td>2</td>\n",
       "      <td>5</td>\n",
       "      <td>5</td>\n",
       "      <td>5</td>\n",
       "      <td>...</td>\n",
       "      <td>2</td>\n",
       "      <td>2</td>\n",
       "      <td>5</td>\n",
       "      <td>3</td>\n",
       "      <td>1</td>\n",
       "      <td>4</td>\n",
       "      <td>2</td>\n",
       "      <td>11</td>\n",
       "      <td>9.0</td>\n",
       "      <td>neutral or dissatisfied</td>\n",
       "    </tr>\n",
       "    <tr>\n",
       "      <th>4</th>\n",
       "      <td>Male</td>\n",
       "      <td>Loyal Customer</td>\n",
       "      <td>61</td>\n",
       "      <td>Business travel</td>\n",
       "      <td>Business</td>\n",
       "      <td>214</td>\n",
       "      <td>3</td>\n",
       "      <td>3</td>\n",
       "      <td>3</td>\n",
       "      <td>3</td>\n",
       "      <td>...</td>\n",
       "      <td>3</td>\n",
       "      <td>3</td>\n",
       "      <td>4</td>\n",
       "      <td>4</td>\n",
       "      <td>3</td>\n",
       "      <td>3</td>\n",
       "      <td>3</td>\n",
       "      <td>0</td>\n",
       "      <td>0.0</td>\n",
       "      <td>satisfied</td>\n",
       "    </tr>\n",
       "  </tbody>\n",
       "</table>\n",
       "<p>5 rows × 23 columns</p>\n",
       "</div>"
      ],
      "text/plain": [
       "   Gender      Customer Type  Age   Type of Travel     Class  Flight Distance  \\\n",
       "0    Male     Loyal Customer   13  Personal Travel  Eco Plus              460   \n",
       "1    Male  disloyal Customer   25  Business travel  Business              235   \n",
       "2  Female     Loyal Customer   26  Business travel  Business             1142   \n",
       "3  Female     Loyal Customer   25  Business travel  Business              562   \n",
       "4    Male     Loyal Customer   61  Business travel  Business              214   \n",
       "\n",
       "   Inflight wifi service  Departure/Arrival time convenient  \\\n",
       "0                      3                                  4   \n",
       "1                      3                                  2   \n",
       "2                      2                                  2   \n",
       "3                      2                                  5   \n",
       "4                      3                                  3   \n",
       "\n",
       "   Ease of Online booking  Gate location  ...  Inflight entertainment  \\\n",
       "0                       3              1  ...                       5   \n",
       "1                       3              3  ...                       1   \n",
       "2                       2              2  ...                       5   \n",
       "3                       5              5  ...                       2   \n",
       "4                       3              3  ...                       3   \n",
       "\n",
       "   On-board service  Leg room service  Baggage handling  Checkin service  \\\n",
       "0                 4                 3                 4                4   \n",
       "1                 1                 5                 3                1   \n",
       "2                 4                 3                 4                4   \n",
       "3                 2                 5                 3                1   \n",
       "4                 3                 4                 4                3   \n",
       "\n",
       "   Inflight service  Cleanliness  Departure Delay in Minutes  \\\n",
       "0                 5            5                          25   \n",
       "1                 4            1                           1   \n",
       "2                 4            5                           0   \n",
       "3                 4            2                          11   \n",
       "4                 3            3                           0   \n",
       "\n",
       "   Arrival Delay in Minutes             satisfaction  \n",
       "0                      18.0  neutral or dissatisfied  \n",
       "1                       6.0  neutral or dissatisfied  \n",
       "2                       0.0                satisfied  \n",
       "3                       9.0  neutral or dissatisfied  \n",
       "4                       0.0                satisfied  \n",
       "\n",
       "[5 rows x 23 columns]"
      ]
     },
     "execution_count": 16,
     "metadata": {},
     "output_type": "execute_result"
    }
   ],
   "source": [
    "df.head()"
   ]
  },
  {
   "cell_type": "code",
   "execution_count": 17,
   "metadata": {
    "colab": {
     "base_uri": "https://localhost:8080/",
     "height": 399
    },
    "executionInfo": {
     "elapsed": 78,
     "status": "ok",
     "timestamp": 1670050926686,
     "user": {
      "displayName": "Shrikant Chormale",
      "userId": "06649212260482941230"
     },
     "user_tz": -330
    },
    "id": "373e76f1-7b57-40ea-847d-b0cd901648f1",
    "outputId": "18e5e1af-4061-4d7b-9a11-82c60b469da7"
   },
   "outputs": [
    {
     "data": {
      "text/html": [
       "<div>\n",
       "<style scoped>\n",
       "    .dataframe tbody tr th:only-of-type {\n",
       "        vertical-align: middle;\n",
       "    }\n",
       "\n",
       "    .dataframe tbody tr th {\n",
       "        vertical-align: top;\n",
       "    }\n",
       "\n",
       "    .dataframe thead th {\n",
       "        text-align: right;\n",
       "    }\n",
       "</style>\n",
       "<table border=\"1\" class=\"dataframe\">\n",
       "  <thead>\n",
       "    <tr style=\"text-align: right;\">\n",
       "      <th></th>\n",
       "      <th>Age</th>\n",
       "      <th>Flight Distance</th>\n",
       "      <th>Inflight wifi service</th>\n",
       "      <th>Departure/Arrival time convenient</th>\n",
       "      <th>Ease of Online booking</th>\n",
       "      <th>Gate location</th>\n",
       "      <th>Food and drink</th>\n",
       "      <th>Online boarding</th>\n",
       "      <th>Seat comfort</th>\n",
       "      <th>Inflight entertainment</th>\n",
       "      <th>On-board service</th>\n",
       "      <th>Leg room service</th>\n",
       "      <th>Baggage handling</th>\n",
       "      <th>Checkin service</th>\n",
       "      <th>Inflight service</th>\n",
       "      <th>Cleanliness</th>\n",
       "      <th>Departure Delay in Minutes</th>\n",
       "      <th>Arrival Delay in Minutes</th>\n",
       "    </tr>\n",
       "  </thead>\n",
       "  <tbody>\n",
       "    <tr>\n",
       "      <th>count</th>\n",
       "      <td>129880.000000</td>\n",
       "      <td>129880.000000</td>\n",
       "      <td>129880.000000</td>\n",
       "      <td>129880.000000</td>\n",
       "      <td>129880.000000</td>\n",
       "      <td>129880.000000</td>\n",
       "      <td>129880.000000</td>\n",
       "      <td>129880.000000</td>\n",
       "      <td>129880.000000</td>\n",
       "      <td>129880.000000</td>\n",
       "      <td>129880.000000</td>\n",
       "      <td>129880.000000</td>\n",
       "      <td>129880.000000</td>\n",
       "      <td>129880.000000</td>\n",
       "      <td>129880.000000</td>\n",
       "      <td>129880.000000</td>\n",
       "      <td>129880.000000</td>\n",
       "      <td>129487.000000</td>\n",
       "    </tr>\n",
       "    <tr>\n",
       "      <th>mean</th>\n",
       "      <td>39.427957</td>\n",
       "      <td>1190.316392</td>\n",
       "      <td>2.728696</td>\n",
       "      <td>3.057599</td>\n",
       "      <td>2.756876</td>\n",
       "      <td>2.976925</td>\n",
       "      <td>3.204774</td>\n",
       "      <td>3.252633</td>\n",
       "      <td>3.441361</td>\n",
       "      <td>3.358077</td>\n",
       "      <td>3.383023</td>\n",
       "      <td>3.350878</td>\n",
       "      <td>3.632114</td>\n",
       "      <td>3.306267</td>\n",
       "      <td>3.642193</td>\n",
       "      <td>3.286326</td>\n",
       "      <td>14.713713</td>\n",
       "      <td>15.091129</td>\n",
       "    </tr>\n",
       "    <tr>\n",
       "      <th>std</th>\n",
       "      <td>15.119360</td>\n",
       "      <td>997.452477</td>\n",
       "      <td>1.329340</td>\n",
       "      <td>1.526741</td>\n",
       "      <td>1.401740</td>\n",
       "      <td>1.278520</td>\n",
       "      <td>1.329933</td>\n",
       "      <td>1.350719</td>\n",
       "      <td>1.319289</td>\n",
       "      <td>1.334049</td>\n",
       "      <td>1.287099</td>\n",
       "      <td>1.316252</td>\n",
       "      <td>1.180025</td>\n",
       "      <td>1.266185</td>\n",
       "      <td>1.176669</td>\n",
       "      <td>1.313682</td>\n",
       "      <td>38.071126</td>\n",
       "      <td>38.465650</td>\n",
       "    </tr>\n",
       "    <tr>\n",
       "      <th>min</th>\n",
       "      <td>7.000000</td>\n",
       "      <td>31.000000</td>\n",
       "      <td>0.000000</td>\n",
       "      <td>0.000000</td>\n",
       "      <td>0.000000</td>\n",
       "      <td>0.000000</td>\n",
       "      <td>0.000000</td>\n",
       "      <td>0.000000</td>\n",
       "      <td>0.000000</td>\n",
       "      <td>0.000000</td>\n",
       "      <td>0.000000</td>\n",
       "      <td>0.000000</td>\n",
       "      <td>1.000000</td>\n",
       "      <td>0.000000</td>\n",
       "      <td>0.000000</td>\n",
       "      <td>0.000000</td>\n",
       "      <td>0.000000</td>\n",
       "      <td>0.000000</td>\n",
       "    </tr>\n",
       "    <tr>\n",
       "      <th>25%</th>\n",
       "      <td>27.000000</td>\n",
       "      <td>414.000000</td>\n",
       "      <td>2.000000</td>\n",
       "      <td>2.000000</td>\n",
       "      <td>2.000000</td>\n",
       "      <td>2.000000</td>\n",
       "      <td>2.000000</td>\n",
       "      <td>2.000000</td>\n",
       "      <td>2.000000</td>\n",
       "      <td>2.000000</td>\n",
       "      <td>2.000000</td>\n",
       "      <td>2.000000</td>\n",
       "      <td>3.000000</td>\n",
       "      <td>3.000000</td>\n",
       "      <td>3.000000</td>\n",
       "      <td>2.000000</td>\n",
       "      <td>0.000000</td>\n",
       "      <td>0.000000</td>\n",
       "    </tr>\n",
       "    <tr>\n",
       "      <th>50%</th>\n",
       "      <td>40.000000</td>\n",
       "      <td>844.000000</td>\n",
       "      <td>3.000000</td>\n",
       "      <td>3.000000</td>\n",
       "      <td>3.000000</td>\n",
       "      <td>3.000000</td>\n",
       "      <td>3.000000</td>\n",
       "      <td>3.000000</td>\n",
       "      <td>4.000000</td>\n",
       "      <td>4.000000</td>\n",
       "      <td>4.000000</td>\n",
       "      <td>4.000000</td>\n",
       "      <td>4.000000</td>\n",
       "      <td>3.000000</td>\n",
       "      <td>4.000000</td>\n",
       "      <td>3.000000</td>\n",
       "      <td>0.000000</td>\n",
       "      <td>0.000000</td>\n",
       "    </tr>\n",
       "    <tr>\n",
       "      <th>75%</th>\n",
       "      <td>51.000000</td>\n",
       "      <td>1744.000000</td>\n",
       "      <td>4.000000</td>\n",
       "      <td>4.000000</td>\n",
       "      <td>4.000000</td>\n",
       "      <td>4.000000</td>\n",
       "      <td>4.000000</td>\n",
       "      <td>4.000000</td>\n",
       "      <td>5.000000</td>\n",
       "      <td>4.000000</td>\n",
       "      <td>4.000000</td>\n",
       "      <td>4.000000</td>\n",
       "      <td>5.000000</td>\n",
       "      <td>4.000000</td>\n",
       "      <td>5.000000</td>\n",
       "      <td>4.000000</td>\n",
       "      <td>12.000000</td>\n",
       "      <td>13.000000</td>\n",
       "    </tr>\n",
       "    <tr>\n",
       "      <th>max</th>\n",
       "      <td>85.000000</td>\n",
       "      <td>4983.000000</td>\n",
       "      <td>5.000000</td>\n",
       "      <td>5.000000</td>\n",
       "      <td>5.000000</td>\n",
       "      <td>5.000000</td>\n",
       "      <td>5.000000</td>\n",
       "      <td>5.000000</td>\n",
       "      <td>5.000000</td>\n",
       "      <td>5.000000</td>\n",
       "      <td>5.000000</td>\n",
       "      <td>5.000000</td>\n",
       "      <td>5.000000</td>\n",
       "      <td>5.000000</td>\n",
       "      <td>5.000000</td>\n",
       "      <td>5.000000</td>\n",
       "      <td>1592.000000</td>\n",
       "      <td>1584.000000</td>\n",
       "    </tr>\n",
       "  </tbody>\n",
       "</table>\n",
       "</div>"
      ],
      "text/plain": [
       "                 Age  Flight Distance  Inflight wifi service  \\\n",
       "count  129880.000000    129880.000000          129880.000000   \n",
       "mean       39.427957      1190.316392               2.728696   \n",
       "std        15.119360       997.452477               1.329340   \n",
       "min         7.000000        31.000000               0.000000   \n",
       "25%        27.000000       414.000000               2.000000   \n",
       "50%        40.000000       844.000000               3.000000   \n",
       "75%        51.000000      1744.000000               4.000000   \n",
       "max        85.000000      4983.000000               5.000000   \n",
       "\n",
       "       Departure/Arrival time convenient  Ease of Online booking  \\\n",
       "count                      129880.000000           129880.000000   \n",
       "mean                            3.057599                2.756876   \n",
       "std                             1.526741                1.401740   \n",
       "min                             0.000000                0.000000   \n",
       "25%                             2.000000                2.000000   \n",
       "50%                             3.000000                3.000000   \n",
       "75%                             4.000000                4.000000   \n",
       "max                             5.000000                5.000000   \n",
       "\n",
       "       Gate location  Food and drink  Online boarding   Seat comfort  \\\n",
       "count  129880.000000   129880.000000    129880.000000  129880.000000   \n",
       "mean        2.976925        3.204774         3.252633       3.441361   \n",
       "std         1.278520        1.329933         1.350719       1.319289   \n",
       "min         0.000000        0.000000         0.000000       0.000000   \n",
       "25%         2.000000        2.000000         2.000000       2.000000   \n",
       "50%         3.000000        3.000000         3.000000       4.000000   \n",
       "75%         4.000000        4.000000         4.000000       5.000000   \n",
       "max         5.000000        5.000000         5.000000       5.000000   \n",
       "\n",
       "       Inflight entertainment  On-board service  Leg room service  \\\n",
       "count           129880.000000     129880.000000     129880.000000   \n",
       "mean                 3.358077          3.383023          3.350878   \n",
       "std                  1.334049          1.287099          1.316252   \n",
       "min                  0.000000          0.000000          0.000000   \n",
       "25%                  2.000000          2.000000          2.000000   \n",
       "50%                  4.000000          4.000000          4.000000   \n",
       "75%                  4.000000          4.000000          4.000000   \n",
       "max                  5.000000          5.000000          5.000000   \n",
       "\n",
       "       Baggage handling  Checkin service  Inflight service    Cleanliness  \\\n",
       "count     129880.000000    129880.000000     129880.000000  129880.000000   \n",
       "mean           3.632114         3.306267          3.642193       3.286326   \n",
       "std            1.180025         1.266185          1.176669       1.313682   \n",
       "min            1.000000         0.000000          0.000000       0.000000   \n",
       "25%            3.000000         3.000000          3.000000       2.000000   \n",
       "50%            4.000000         3.000000          4.000000       3.000000   \n",
       "75%            5.000000         4.000000          5.000000       4.000000   \n",
       "max            5.000000         5.000000          5.000000       5.000000   \n",
       "\n",
       "       Departure Delay in Minutes  Arrival Delay in Minutes  \n",
       "count               129880.000000             129487.000000  \n",
       "mean                    14.713713                 15.091129  \n",
       "std                     38.071126                 38.465650  \n",
       "min                      0.000000                  0.000000  \n",
       "25%                      0.000000                  0.000000  \n",
       "50%                      0.000000                  0.000000  \n",
       "75%                     12.000000                 13.000000  \n",
       "max                   1592.000000               1584.000000  "
      ]
     },
     "execution_count": 17,
     "metadata": {},
     "output_type": "execute_result"
    }
   ],
   "source": [
    "## Summary statistics of Numerical features.\n",
    "df.describe() "
   ]
  },
  {
   "cell_type": "code",
   "execution_count": 18,
   "metadata": {
    "executionInfo": {
     "elapsed": 74,
     "status": "ok",
     "timestamp": 1670050926687,
     "user": {
      "displayName": "Shrikant Chormale",
      "userId": "06649212260482941230"
     },
     "user_tz": -330
    },
    "id": "dabd49e4-846e-4390-bced-e7575eef958a"
   },
   "outputs": [],
   "source": [
    "#conclude - We can see for each numeric feature, the count , the mean value, standard deviation,\n",
    "#           minimum value, maximum value and the 25% percentile, the 50% percentile or median, the 75% percentile."
   ]
  },
  {
   "cell_type": "code",
   "execution_count": 19,
   "metadata": {
    "colab": {
     "base_uri": "https://localhost:8080/",
     "height": 175
    },
    "executionInfo": {
     "elapsed": 73,
     "status": "ok",
     "timestamp": 1670050926688,
     "user": {
      "displayName": "Shrikant Chormale",
      "userId": "06649212260482941230"
     },
     "user_tz": -330
    },
    "id": "33952c67-b283-41e8-9d2c-c126ed6791b5",
    "outputId": "6facbafb-7248-4adc-8e2b-aa094d0f7edc"
   },
   "outputs": [
    {
     "data": {
      "text/html": [
       "<div>\n",
       "<style scoped>\n",
       "    .dataframe tbody tr th:only-of-type {\n",
       "        vertical-align: middle;\n",
       "    }\n",
       "\n",
       "    .dataframe tbody tr th {\n",
       "        vertical-align: top;\n",
       "    }\n",
       "\n",
       "    .dataframe thead th {\n",
       "        text-align: right;\n",
       "    }\n",
       "</style>\n",
       "<table border=\"1\" class=\"dataframe\">\n",
       "  <thead>\n",
       "    <tr style=\"text-align: right;\">\n",
       "      <th></th>\n",
       "      <th>Gender</th>\n",
       "      <th>Customer Type</th>\n",
       "      <th>Type of Travel</th>\n",
       "      <th>Class</th>\n",
       "      <th>satisfaction</th>\n",
       "    </tr>\n",
       "  </thead>\n",
       "  <tbody>\n",
       "    <tr>\n",
       "      <th>count</th>\n",
       "      <td>129880</td>\n",
       "      <td>129880</td>\n",
       "      <td>129880</td>\n",
       "      <td>129880</td>\n",
       "      <td>129880</td>\n",
       "    </tr>\n",
       "    <tr>\n",
       "      <th>unique</th>\n",
       "      <td>2</td>\n",
       "      <td>2</td>\n",
       "      <td>2</td>\n",
       "      <td>3</td>\n",
       "      <td>2</td>\n",
       "    </tr>\n",
       "    <tr>\n",
       "      <th>top</th>\n",
       "      <td>Female</td>\n",
       "      <td>Loyal Customer</td>\n",
       "      <td>Business travel</td>\n",
       "      <td>Business</td>\n",
       "      <td>neutral or dissatisfied</td>\n",
       "    </tr>\n",
       "    <tr>\n",
       "      <th>freq</th>\n",
       "      <td>65899</td>\n",
       "      <td>106100</td>\n",
       "      <td>89693</td>\n",
       "      <td>62160</td>\n",
       "      <td>73452</td>\n",
       "    </tr>\n",
       "  </tbody>\n",
       "</table>\n",
       "</div>"
      ],
      "text/plain": [
       "        Gender   Customer Type   Type of Travel     Class  \\\n",
       "count   129880          129880           129880    129880   \n",
       "unique       2               2                2         3   \n",
       "top     Female  Loyal Customer  Business travel  Business   \n",
       "freq     65899          106100            89693     62160   \n",
       "\n",
       "                   satisfaction  \n",
       "count                    129880  \n",
       "unique                        2  \n",
       "top     neutral or dissatisfied  \n",
       "freq                      73452  "
      ]
     },
     "execution_count": 19,
     "metadata": {},
     "output_type": "execute_result"
    }
   ],
   "source": [
    "# Describing object data.\n",
    "df.describe(include = 'object')\n"
   ]
  },
  {
   "cell_type": "code",
   "execution_count": 20,
   "metadata": {
    "executionInfo": {
     "elapsed": 72,
     "status": "ok",
     "timestamp": 1670050926689,
     "user": {
      "displayName": "Shrikant Chormale",
      "userId": "06649212260482941230"
     },
     "user_tz": -330
    },
    "id": "b206320b-50b7-4e26-b459-4d91ab23f243"
   },
   "outputs": [],
   "source": [
    "# We can plot a seaborn countplot displaying the frequency of both categories of the target variable."
   ]
  },
  {
   "cell_type": "code",
   "execution_count": 21,
   "metadata": {
    "colab": {
     "base_uri": "https://localhost:8080/"
    },
    "executionInfo": {
     "elapsed": 72,
     "status": "ok",
     "timestamp": 1670050926690,
     "user": {
      "displayName": "Shrikant Chormale",
      "userId": "06649212260482941230"
     },
     "user_tz": -330
    },
    "id": "058b13c0-2440-40ab-a92e-ae4d9a91af22",
    "outputId": "bbf10abc-4a11-4c9e-dc01-a42eba8469d9"
   },
   "outputs": [
    {
     "data": {
      "text/plain": [
       "neutral or dissatisfied    73452\n",
       "satisfied                  56428\n",
       "Name: satisfaction, dtype: int64"
      ]
     },
     "execution_count": 21,
     "metadata": {},
     "output_type": "execute_result"
    }
   ],
   "source": [
    "df.satisfaction.value_counts()"
   ]
  },
  {
   "cell_type": "code",
   "execution_count": 22,
   "metadata": {
    "colab": {
     "base_uri": "https://localhost:8080/",
     "height": 296
    },
    "executionInfo": {
     "elapsed": 68,
     "status": "ok",
     "timestamp": 1670050926691,
     "user": {
      "displayName": "Shrikant Chormale",
      "userId": "06649212260482941230"
     },
     "user_tz": -330
    },
    "id": "aa025c6f-3e9f-43fa-b715-2d00355bbe08",
    "outputId": "1095c308-afa2-4334-f79b-395d764a419c"
   },
   "outputs": [
    {
     "data": {
      "text/plain": [
       "<AxesSubplot:xlabel='satisfaction', ylabel='count'>"
      ]
     },
     "execution_count": 22,
     "metadata": {},
     "output_type": "execute_result"
    },
    {
     "data": {
      "image/png": "[encoded data removed]",
      "text/plain": [
       "<Figure size 432x288 with 1 Axes>"
      ]
     },
     "metadata": {},
     "output_type": "display_data"
    }
   ],
   "source": [
    "sns.set_style('whitegrid')\n",
    "sns.countplot(x='satisfaction',data=df) "
   ]
  },
  {
   "cell_type": "markdown",
   "metadata": {
    "id": "adc757ba-bbec-45a7-9e54-913c3777bbd5"
   },
   "source": [
    "#we can see that passenger neutral or dissatisfied are more than satisfied passenger =\n",
    "neutral or dissatisfied    73452\n",
    "satisfied                  56428"
   ]
  },
  {
   "cell_type": "code",
   "execution_count": 23,
   "metadata": {
    "executionInfo": {
     "elapsed": 64,
     "status": "ok",
     "timestamp": 1670050926691,
     "user": {
      "displayName": "Shrikant Chormale",
      "userId": "06649212260482941230"
     },
     "user_tz": -330
    },
    "id": "8ad51371-8d3e-44a0-b0d2-774a01821df3"
   },
   "outputs": [],
   "source": [
    "# analysis the data"
   ]
  },
  {
   "cell_type": "code",
   "execution_count": 24,
   "metadata": {
    "executionInfo": {
     "elapsed": 64,
     "status": "ok",
     "timestamp": 1670050926692,
     "user": {
      "displayName": "Shrikant Chormale",
      "userId": "06649212260482941230"
     },
     "user_tz": -330
    },
    "id": "8e998415-2f6b-4ea5-9edc-18b838751ac6"
   },
   "outputs": [],
   "source": [
    "#df.plot(x='satisfaction',kind = 'bar', rot = 'horizontal')"
   ]
  },
  {
   "cell_type": "code",
   "execution_count": 25,
   "metadata": {
    "colab": {
     "base_uri": "https://localhost:8080/",
     "height": 296
    },
    "executionInfo": {
     "elapsed": 768,
     "status": "ok",
     "timestamp": 1670050927397,
     "user": {
      "displayName": "Shrikant Chormale",
      "userId": "06649212260482941230"
     },
     "user_tz": -330
    },
    "id": "783b7141-bafb-4436-ad4e-9418f81e1918",
    "outputId": "bb0a2337-988d-427e-e689-1197704f6816"
   },
   "outputs": [
    {
     "data": {
      "text/plain": [
       "<AxesSubplot:xlabel='Gender', ylabel='count'>"
      ]
     },
     "execution_count": 25,
     "metadata": {},
     "output_type": "execute_result"
    },
    {
     "data": {
      "image/png": "[encoded data removed]",
      "text/plain": [
       "<Figure size 432x288 with 1 Axes>"
      ]
     },
     "metadata": {},
     "output_type": "display_data"
    }
   ],
   "source": [
    "sns.set_style('whitegrid')\n",
    "sns.countplot(x='Gender',data=df) "
   ]
  },
  {
   "cell_type": "markdown",
   "metadata": {
    "id": "2fc03f21-21a1-4e41-adc8-2487fd71b37d"
   },
   "source": [
    "#we can see that passenger female passenger  are more than male passanger =Female-65899 :   Male-63981"
   ]
  },
  {
   "cell_type": "code",
   "execution_count": 26,
   "metadata": {
    "colab": {
     "base_uri": "https://localhost:8080/"
    },
    "executionInfo": {
     "elapsed": 22,
     "status": "ok",
     "timestamp": 1670050927398,
     "user": {
      "displayName": "Shrikant Chormale",
      "userId": "06649212260482941230"
     },
     "user_tz": -330
    },
    "id": "d4cf2b4a-323b-4456-898c-ab40a2b9ba2e",
    "outputId": "c8ea1b7d-e999-4588-fe6c-789863846a42"
   },
   "outputs": [
    {
     "data": {
      "text/plain": [
       "Female    65899\n",
       "Male      63981\n",
       "Name: Gender, dtype: int64"
      ]
     },
     "execution_count": 26,
     "metadata": {},
     "output_type": "execute_result"
    }
   ],
   "source": [
    "df.Gender.value_counts()"
   ]
  },
  {
   "cell_type": "code",
   "execution_count": 27,
   "metadata": {
    "colab": {
     "base_uri": "https://localhost:8080/",
     "height": 296
    },
    "executionInfo": {
     "elapsed": 22,
     "status": "ok",
     "timestamp": 1670050927399,
     "user": {
      "displayName": "Shrikant Chormale",
      "userId": "06649212260482941230"
     },
     "user_tz": -330
    },
    "id": "60b17c46-4cdb-48ed-831d-4e0c51c487aa",
    "outputId": "edb49d9c-f52e-4994-8fe5-4b0f15ada6b4"
   },
   "outputs": [
    {
     "data": {
      "text/plain": [
       "<AxesSubplot:xlabel='Customer Type', ylabel='count'>"
      ]
     },
     "execution_count": 27,
     "metadata": {},
     "output_type": "execute_result"
    },
    {
     "data": {
      "image/png": "[encoded data removed]",
      "text/plain": [
       "<Figure size 432x288 with 1 Axes>"
      ]
     },
     "metadata": {},
     "output_type": "display_data"
    }
   ],
   "source": [
    "sns.set_style('whitegrid')\n",
    "sns.countplot(x='Customer Type',data=df) "
   ]
  },
  {
   "cell_type": "code",
   "execution_count": 28,
   "metadata": {
    "colab": {
     "base_uri": "https://localhost:8080/"
    },
    "executionInfo": {
     "elapsed": 51,
     "status": "ok",
     "timestamp": 1670050927431,
     "user": {
      "displayName": "Shrikant Chormale",
      "userId": "06649212260482941230"
     },
     "user_tz": -330
    },
    "id": "972d138c-cc31-40fe-ba56-cb438de88082",
    "outputId": "7f4e773e-9f16-44d3-becd-60a5ff36313d"
   },
   "outputs": [
    {
     "data": {
      "text/plain": [
       "Loyal Customer       106100\n",
       "disloyal Customer     23780\n",
       "Name: Customer Type, dtype: int64"
      ]
     },
     "execution_count": 28,
     "metadata": {},
     "output_type": "execute_result"
    }
   ],
   "source": [
    "df['Customer Type'].value_counts()"
   ]
  },
  {
   "cell_type": "code",
   "execution_count": null,
   "metadata": {
    "executionInfo": {
     "elapsed": 52,
     "status": "ok",
     "timestamp": 1670050927434,
     "user": {
      "displayName": "Shrikant Chormale",
      "userId": "06649212260482941230"
     },
     "user_tz": -330
    },
    "id": "03206896-8fd4-4f87-8f21-70c6c6483cc0"
   },
   "outputs": [],
   "source": []
  },
  {
   "cell_type": "code",
   "execution_count": 29,
   "metadata": {
    "colab": {
     "base_uri": "https://localhost:8080/",
     "height": 296
    },
    "executionInfo": {
     "elapsed": 52,
     "status": "ok",
     "timestamp": 1670050927435,
     "user": {
      "displayName": "Shrikant Chormale",
      "userId": "06649212260482941230"
     },
     "user_tz": -330
    },
    "id": "e5d61dc0-1424-4689-9795-fb5363892930",
    "outputId": "4252be0f-906b-4332-b947-edfc9b72ab13"
   },
   "outputs": [
    {
     "data": {
      "text/plain": [
       "<AxesSubplot:xlabel='Type of Travel', ylabel='count'>"
      ]
     },
     "execution_count": 29,
     "metadata": {},
     "output_type": "execute_result"
    },
    {
     "data": {
      "image/png": "[encoded data removed]",
      "text/plain": [
       "<Figure size 432x288 with 1 Axes>"
      ]
     },
     "metadata": {},
     "output_type": "display_data"
    }
   ],
   "source": [
    "sns.set_style('whitegrid')\n",
    "sns.countplot(x='Type of Travel',data=df) "
   ]
  },
  {
   "cell_type": "code",
   "execution_count": 30,
   "metadata": {
    "executionInfo": {
     "elapsed": 51,
     "status": "ok",
     "timestamp": 1670050927436,
     "user": {
      "displayName": "Shrikant Chormale",
      "userId": "06649212260482941230"
     },
     "user_tz": -330
    },
    "id": "ff6dda96-21a8-46aa-be2e-d09c04db37a9"
   },
   "outputs": [],
   "source": [
    "#we can see that the type of class of passenger personal traval is less than the business travel\n",
    "# Business travel    89693\n",
    "# Personal Travel    40187"
   ]
  },
  {
   "cell_type": "code",
   "execution_count": null,
   "metadata": {
    "executionInfo": {
     "elapsed": 51,
     "status": "ok",
     "timestamp": 1670050927437,
     "user": {
      "displayName": "Shrikant Chormale",
      "userId": "06649212260482941230"
     },
     "user_tz": -330
    },
    "id": "5a966c5a-11d7-4f4a-97b6-fe8b4249ebbb"
   },
   "outputs": [],
   "source": []
  },
  {
   "cell_type": "code",
   "execution_count": 31,
   "metadata": {
    "colab": {
     "base_uri": "https://localhost:8080/",
     "height": 296
    },
    "executionInfo": {
     "elapsed": 921,
     "status": "ok",
     "timestamp": 1670050928307,
     "user": {
      "displayName": "Shrikant Chormale",
      "userId": "06649212260482941230"
     },
     "user_tz": -330
    },
    "id": "27e6d086-89d6-4f04-9825-a1a309e5bf30",
    "outputId": "b87f396e-a49b-4902-d57b-c86c5f7be882"
   },
   "outputs": [
    {
     "data": {
      "text/plain": [
       "<AxesSubplot:xlabel='Class', ylabel='count'>"
      ]
     },
     "execution_count": 31,
     "metadata": {},
     "output_type": "execute_result"
    },
    {
     "data": {
      "image/png": "[encoded data removed]",
      "text/plain": [
       "<Figure size 432x288 with 1 Axes>"
      ]
     },
     "metadata": {},
     "output_type": "display_data"
    }
   ],
   "source": [
    "sns.set_style('whitegrid')\n",
    "sns.countplot(x='Class',data=df) "
   ]
  },
  {
   "cell_type": "code",
   "execution_count": 32,
   "metadata": {
    "executionInfo": {
     "elapsed": 19,
     "status": "ok",
     "timestamp": 1670050928309,
     "user": {
      "displayName": "Shrikant Chormale",
      "userId": "06649212260482941230"
     },
     "user_tz": -330
    },
    "id": "3bf895a4-73dd-43c2-9f0f-46dc879d1005"
   },
   "outputs": [],
   "source": [
    "#Type of Travel and Satisfaction"
   ]
  },
  {
   "cell_type": "code",
   "execution_count": 33,
   "metadata": {
    "colab": {
     "base_uri": "https://localhost:8080/",
     "height": 459
    },
    "executionInfo": {
     "elapsed": 19,
     "status": "ok",
     "timestamp": 1670050928310,
     "user": {
      "displayName": "Shrikant Chormale",
      "userId": "06649212260482941230"
     },
     "user_tz": -330
    },
    "id": "68734815-bf43-40d9-950f-b7c459272cb9",
    "outputId": "e2ca75a9-baa5-450a-829c-6cb815c770ac"
   },
   "outputs": [
    {
     "data": {
      "text/plain": [
       "<AxesSubplot:xlabel='Gender', ylabel='count'>"
      ]
     },
     "execution_count": 33,
     "metadata": {},
     "output_type": "execute_result"
    },
    {
     "data": {
      "image/png": "[encoded data removed]",
      "text/plain": [
       "<Figure size 504x504 with 1 Axes>"
      ]
     },
     "metadata": {},
     "output_type": "display_data"
    }
   ],
   "source": [
    "plt.figure(figsize=(7,7))\n",
    "sns.countplot(x=\"Gender\", hue='satisfaction', data=df)"
   ]
  },
  {
   "cell_type": "markdown",
   "metadata": {
    "id": "3fdd0791-940f-4eb1-950e-be7459ab6c5c"
   },
   "source": [
    "### Females and males are satisfaction probability almost equal. Male %44, Female %43 satisfaction"
   ]
  },
  {
   "cell_type": "code",
   "execution_count": 34,
   "metadata": {
    "executionInfo": {
     "elapsed": 17,
     "status": "ok",
     "timestamp": 1670050928311,
     "user": {
      "displayName": "Shrikant Chormale",
      "userId": "06649212260482941230"
     },
     "user_tz": -330
    },
    "id": "fc6d3845-d791-4a7e-ad99-8baa71767790"
   },
   "outputs": [],
   "source": [
    "# Age and Satisfaction "
   ]
  },
  {
   "cell_type": "code",
   "execution_count": 35,
   "metadata": {
    "colab": {
     "base_uri": "https://localhost:8080/",
     "height": 521
    },
    "executionInfo": {
     "elapsed": 2129,
     "status": "ok",
     "timestamp": 1670050930427,
     "user": {
      "displayName": "Shrikant Chormale",
      "userId": "06649212260482941230"
     },
     "user_tz": -330
    },
    "id": "97400d4b-f9e6-4f99-9e37-9d40b32853c4",
    "outputId": "318646d1-b536-439a-89aa-ddc52f75bb59"
   },
   "outputs": [
    {
     "data": {
      "text/plain": [
       "Text(0.5, 1.0, 'Age Vs Satisfaction')"
      ]
     },
     "execution_count": 35,
     "metadata": {},
     "output_type": "execute_result"
    },
    {
     "data": {
      "image/png": "[encoded data removed]",
      "text/plain": [
       "<Figure size 1440x1080 with 1 Axes>"
      ]
     },
     "metadata": {},
     "output_type": "display_data"
    }
   ],
   "source": [
    "plt.figure(figsize=(20,15))\n",
    "sns.countplot(x=\"Age\", hue='satisfaction', data=df)\n",
    "plt.title(\"Age Vs Satisfaction\",fontsize = 10)"
   ]
  },
  {
   "cell_type": "markdown",
   "metadata": {
    "id": "6bb929dd-5504-4f3a-a00f-f047d0482587"
   },
   "source": [
    "#we can found the \n",
    "#0-30 years old is generally neutral or dissatisfied with the flight.\n",
    "#30-60 years old is generally satisfied with the flight.\n",
    "#65-85 years old passengers is neutral or dissatisfied."
   ]
  },
  {
   "cell_type": "code",
   "execution_count": 36,
   "metadata": {
    "executionInfo": {
     "elapsed": 28,
     "status": "ok",
     "timestamp": 1670050930429,
     "user": {
      "displayName": "Shrikant Chormale",
      "userId": "06649212260482941230"
     },
     "user_tz": -330
    },
    "id": "4e1afc86-c947-4c64-848d-e849b15afdff"
   },
   "outputs": [],
   "source": [
    "#Type of Travel and Satisfaction"
   ]
  },
  {
   "cell_type": "code",
   "execution_count": 37,
   "metadata": {
    "colab": {
     "base_uri": "https://localhost:8080/",
     "height": 459
    },
    "executionInfo": {
     "elapsed": 27,
     "status": "ok",
     "timestamp": 1670050930430,
     "user": {
      "displayName": "Shrikant Chormale",
      "userId": "06649212260482941230"
     },
     "user_tz": -330
    },
    "id": "9b856f18-615c-4ff1-97e2-32f6c7146b86",
    "outputId": "0fc50e03-1da4-4b37-9d8e-f033dfd98a95"
   },
   "outputs": [
    {
     "data": {
      "text/plain": [
       "<AxesSubplot:xlabel='Type of Travel', ylabel='count'>"
      ]
     },
     "execution_count": 37,
     "metadata": {},
     "output_type": "execute_result"
    },
    {
     "data": {
      "image/png": "[encoded data removed]",
      "text/plain": [
       "<Figure size 504x504 with 1 Axes>"
      ]
     },
     "metadata": {},
     "output_type": "display_data"
    }
   ],
   "source": [
    "plt.figure(figsize=(7,7))\n",
    "sns.countplot(x=\"Type of Travel\", hue='satisfaction', data=df)"
   ]
  },
  {
   "cell_type": "markdown",
   "metadata": {
    "id": "7f6bf09a-4301-4509-829d-308d0d489560"
   },
   "source": [
    "#Business travel is generally satisfied with the flight but personal travel is generally neutral or dissatisfied with the flight.\n",
    "#Personal travel is %90 neutral or dissatisfied with the flight. This statistic is interesting."
   ]
  },
  {
   "cell_type": "code",
   "execution_count": 38,
   "metadata": {
    "colab": {
     "base_uri": "https://localhost:8080/",
     "height": 869
    },
    "executionInfo": {
     "elapsed": 22,
     "status": "ok",
     "timestamp": 1670050930431,
     "user": {
      "displayName": "Shrikant Chormale",
      "userId": "06649212260482941230"
     },
     "user_tz": -330
    },
    "id": "8733dbeb-ebd7-4e1b-9404-26b76dc63efe",
    "outputId": "372c4fa9-5f34-4b8d-c1ff-bf3f57d52b02"
   },
   "outputs": [
    {
     "data": {
      "text/html": [
       "<div>\n",
       "<style scoped>\n",
       "    .dataframe tbody tr th:only-of-type {\n",
       "        vertical-align: middle;\n",
       "    }\n",
       "\n",
       "    .dataframe tbody tr th {\n",
       "        vertical-align: top;\n",
       "    }\n",
       "\n",
       "    .dataframe thead th {\n",
       "        text-align: right;\n",
       "    }\n",
       "</style>\n",
       "<table border=\"1\" class=\"dataframe\">\n",
       "  <thead>\n",
       "    <tr style=\"text-align: right;\">\n",
       "      <th></th>\n",
       "      <th>Age</th>\n",
       "      <th>Flight Distance</th>\n",
       "      <th>Inflight wifi service</th>\n",
       "      <th>Departure/Arrival time convenient</th>\n",
       "      <th>Ease of Online booking</th>\n",
       "      <th>Gate location</th>\n",
       "      <th>Food and drink</th>\n",
       "      <th>Online boarding</th>\n",
       "      <th>Seat comfort</th>\n",
       "      <th>Inflight entertainment</th>\n",
       "      <th>On-board service</th>\n",
       "      <th>Leg room service</th>\n",
       "      <th>Baggage handling</th>\n",
       "      <th>Checkin service</th>\n",
       "      <th>Inflight service</th>\n",
       "      <th>Cleanliness</th>\n",
       "      <th>Departure Delay in Minutes</th>\n",
       "      <th>Arrival Delay in Minutes</th>\n",
       "    </tr>\n",
       "  </thead>\n",
       "  <tbody>\n",
       "    <tr>\n",
       "      <th>Age</th>\n",
       "      <td>1.000000</td>\n",
       "      <td>0.099459</td>\n",
       "      <td>0.016116</td>\n",
       "      <td>0.036960</td>\n",
       "      <td>0.022565</td>\n",
       "      <td>-0.000398</td>\n",
       "      <td>0.023194</td>\n",
       "      <td>0.207572</td>\n",
       "      <td>0.159136</td>\n",
       "      <td>0.074947</td>\n",
       "      <td>0.057078</td>\n",
       "      <td>0.039119</td>\n",
       "      <td>-0.047991</td>\n",
       "      <td>0.033475</td>\n",
       "      <td>-0.051347</td>\n",
       "      <td>0.052565</td>\n",
       "      <td>-0.009041</td>\n",
       "      <td>-0.011248</td>\n",
       "    </tr>\n",
       "    <tr>\n",
       "      <th>Flight Distance</th>\n",
       "      <td>0.099459</td>\n",
       "      <td>1.000000</td>\n",
       "      <td>0.006701</td>\n",
       "      <td>-0.018914</td>\n",
       "      <td>0.065165</td>\n",
       "      <td>0.005520</td>\n",
       "      <td>0.057066</td>\n",
       "      <td>0.214825</td>\n",
       "      <td>0.157662</td>\n",
       "      <td>0.130507</td>\n",
       "      <td>0.111194</td>\n",
       "      <td>0.134533</td>\n",
       "      <td>0.064855</td>\n",
       "      <td>0.073608</td>\n",
       "      <td>0.059316</td>\n",
       "      <td>0.095648</td>\n",
       "      <td>0.002402</td>\n",
       "      <td>-0.001935</td>\n",
       "    </tr>\n",
       "    <tr>\n",
       "      <th>Inflight wifi service</th>\n",
       "      <td>0.016116</td>\n",
       "      <td>0.006701</td>\n",
       "      <td>1.000000</td>\n",
       "      <td>0.344915</td>\n",
       "      <td>0.714807</td>\n",
       "      <td>0.338573</td>\n",
       "      <td>0.132214</td>\n",
       "      <td>0.457445</td>\n",
       "      <td>0.121513</td>\n",
       "      <td>0.207802</td>\n",
       "      <td>0.119928</td>\n",
       "      <td>0.160317</td>\n",
       "      <td>0.120376</td>\n",
       "      <td>0.043762</td>\n",
       "      <td>0.110029</td>\n",
       "      <td>0.131300</td>\n",
       "      <td>-0.015946</td>\n",
       "      <td>-0.017749</td>\n",
       "    </tr>\n",
       "    <tr>\n",
       "      <th>Departure/Arrival time convenient</th>\n",
       "      <td>0.036960</td>\n",
       "      <td>-0.018914</td>\n",
       "      <td>0.344915</td>\n",
       "      <td>1.000000</td>\n",
       "      <td>0.437620</td>\n",
       "      <td>0.447510</td>\n",
       "      <td>0.000687</td>\n",
       "      <td>0.072287</td>\n",
       "      <td>0.008666</td>\n",
       "      <td>-0.008380</td>\n",
       "      <td>0.067297</td>\n",
       "      <td>0.010617</td>\n",
       "      <td>0.070833</td>\n",
       "      <td>0.091132</td>\n",
       "      <td>0.072195</td>\n",
       "      <td>0.009862</td>\n",
       "      <td>0.000778</td>\n",
       "      <td>-0.000942</td>\n",
       "    </tr>\n",
       "    <tr>\n",
       "      <th>Ease of Online booking</th>\n",
       "      <td>0.022565</td>\n",
       "      <td>0.065165</td>\n",
       "      <td>0.714807</td>\n",
       "      <td>0.437620</td>\n",
       "      <td>1.000000</td>\n",
       "      <td>0.460041</td>\n",
       "      <td>0.030514</td>\n",
       "      <td>0.404866</td>\n",
       "      <td>0.028561</td>\n",
       "      <td>0.046564</td>\n",
       "      <td>0.039064</td>\n",
       "      <td>0.109450</td>\n",
       "      <td>0.039148</td>\n",
       "      <td>0.008819</td>\n",
       "      <td>0.035373</td>\n",
       "      <td>0.015125</td>\n",
       "      <td>-0.005318</td>\n",
       "      <td>-0.007033</td>\n",
       "    </tr>\n",
       "    <tr>\n",
       "      <th>Gate location</th>\n",
       "      <td>-0.000398</td>\n",
       "      <td>0.005520</td>\n",
       "      <td>0.338573</td>\n",
       "      <td>0.447510</td>\n",
       "      <td>0.460041</td>\n",
       "      <td>1.000000</td>\n",
       "      <td>-0.002872</td>\n",
       "      <td>0.002756</td>\n",
       "      <td>0.002788</td>\n",
       "      <td>0.002741</td>\n",
       "      <td>-0.029019</td>\n",
       "      <td>-0.005181</td>\n",
       "      <td>0.000972</td>\n",
       "      <td>-0.039353</td>\n",
       "      <td>0.000310</td>\n",
       "      <td>-0.005918</td>\n",
       "      <td>0.005973</td>\n",
       "      <td>0.005658</td>\n",
       "    </tr>\n",
       "    <tr>\n",
       "      <th>Food and drink</th>\n",
       "      <td>0.023194</td>\n",
       "      <td>0.057066</td>\n",
       "      <td>0.132214</td>\n",
       "      <td>0.000687</td>\n",
       "      <td>0.030514</td>\n",
       "      <td>-0.002872</td>\n",
       "      <td>1.000000</td>\n",
       "      <td>0.233500</td>\n",
       "      <td>0.575846</td>\n",
       "      <td>0.623461</td>\n",
       "      <td>0.057404</td>\n",
       "      <td>0.033173</td>\n",
       "      <td>0.035321</td>\n",
       "      <td>0.085198</td>\n",
       "      <td>0.035210</td>\n",
       "      <td>0.658054</td>\n",
       "      <td>-0.029164</td>\n",
       "      <td>-0.031715</td>\n",
       "    </tr>\n",
       "    <tr>\n",
       "      <th>Online boarding</th>\n",
       "      <td>0.207572</td>\n",
       "      <td>0.214825</td>\n",
       "      <td>0.457445</td>\n",
       "      <td>0.072287</td>\n",
       "      <td>0.404866</td>\n",
       "      <td>0.002756</td>\n",
       "      <td>0.233500</td>\n",
       "      <td>1.000000</td>\n",
       "      <td>0.419253</td>\n",
       "      <td>0.283922</td>\n",
       "      <td>0.154242</td>\n",
       "      <td>0.123225</td>\n",
       "      <td>0.083541</td>\n",
       "      <td>0.204238</td>\n",
       "      <td>0.074058</td>\n",
       "      <td>0.329377</td>\n",
       "      <td>-0.019404</td>\n",
       "      <td>-0.022730</td>\n",
       "    </tr>\n",
       "    <tr>\n",
       "      <th>Seat comfort</th>\n",
       "      <td>0.159136</td>\n",
       "      <td>0.157662</td>\n",
       "      <td>0.121513</td>\n",
       "      <td>0.008666</td>\n",
       "      <td>0.028561</td>\n",
       "      <td>0.002788</td>\n",
       "      <td>0.575846</td>\n",
       "      <td>0.419253</td>\n",
       "      <td>1.000000</td>\n",
       "      <td>0.611837</td>\n",
       "      <td>0.130545</td>\n",
       "      <td>0.104272</td>\n",
       "      <td>0.074620</td>\n",
       "      <td>0.189979</td>\n",
       "      <td>0.068842</td>\n",
       "      <td>0.679613</td>\n",
       "      <td>-0.027999</td>\n",
       "      <td>-0.030521</td>\n",
       "    </tr>\n",
       "    <tr>\n",
       "      <th>Inflight entertainment</th>\n",
       "      <td>0.074947</td>\n",
       "      <td>0.130507</td>\n",
       "      <td>0.207802</td>\n",
       "      <td>-0.008380</td>\n",
       "      <td>0.046564</td>\n",
       "      <td>0.002741</td>\n",
       "      <td>0.623461</td>\n",
       "      <td>0.283922</td>\n",
       "      <td>0.611837</td>\n",
       "      <td>1.000000</td>\n",
       "      <td>0.418574</td>\n",
       "      <td>0.300397</td>\n",
       "      <td>0.379123</td>\n",
       "      <td>0.119554</td>\n",
       "      <td>0.406094</td>\n",
       "      <td>0.692511</td>\n",
       "      <td>-0.027012</td>\n",
       "      <td>-0.030230</td>\n",
       "    </tr>\n",
       "    <tr>\n",
       "      <th>On-board service</th>\n",
       "      <td>0.057078</td>\n",
       "      <td>0.111194</td>\n",
       "      <td>0.119928</td>\n",
       "      <td>0.067297</td>\n",
       "      <td>0.039064</td>\n",
       "      <td>-0.029019</td>\n",
       "      <td>0.057404</td>\n",
       "      <td>0.154242</td>\n",
       "      <td>0.130545</td>\n",
       "      <td>0.418574</td>\n",
       "      <td>1.000000</td>\n",
       "      <td>0.357721</td>\n",
       "      <td>0.520296</td>\n",
       "      <td>0.244619</td>\n",
       "      <td>0.551569</td>\n",
       "      <td>0.122084</td>\n",
       "      <td>-0.030486</td>\n",
       "      <td>-0.034789</td>\n",
       "    </tr>\n",
       "    <tr>\n",
       "      <th>Leg room service</th>\n",
       "      <td>0.039119</td>\n",
       "      <td>0.134533</td>\n",
       "      <td>0.160317</td>\n",
       "      <td>0.010617</td>\n",
       "      <td>0.109450</td>\n",
       "      <td>-0.005181</td>\n",
       "      <td>0.033173</td>\n",
       "      <td>0.123225</td>\n",
       "      <td>0.104272</td>\n",
       "      <td>0.300397</td>\n",
       "      <td>0.357721</td>\n",
       "      <td>1.000000</td>\n",
       "      <td>0.371455</td>\n",
       "      <td>0.152693</td>\n",
       "      <td>0.369569</td>\n",
       "      <td>0.096695</td>\n",
       "      <td>0.014574</td>\n",
       "      <td>0.011346</td>\n",
       "    </tr>\n",
       "    <tr>\n",
       "      <th>Baggage handling</th>\n",
       "      <td>-0.047991</td>\n",
       "      <td>0.064855</td>\n",
       "      <td>0.120376</td>\n",
       "      <td>0.070833</td>\n",
       "      <td>0.039148</td>\n",
       "      <td>0.000972</td>\n",
       "      <td>0.035321</td>\n",
       "      <td>0.083541</td>\n",
       "      <td>0.074620</td>\n",
       "      <td>0.379123</td>\n",
       "      <td>0.520296</td>\n",
       "      <td>0.371455</td>\n",
       "      <td>1.000000</td>\n",
       "      <td>0.234503</td>\n",
       "      <td>0.629237</td>\n",
       "      <td>0.097071</td>\n",
       "      <td>-0.004105</td>\n",
       "      <td>-0.007935</td>\n",
       "    </tr>\n",
       "    <tr>\n",
       "      <th>Checkin service</th>\n",
       "      <td>0.033475</td>\n",
       "      <td>0.073608</td>\n",
       "      <td>0.043762</td>\n",
       "      <td>0.091132</td>\n",
       "      <td>0.008819</td>\n",
       "      <td>-0.039353</td>\n",
       "      <td>0.085198</td>\n",
       "      <td>0.204238</td>\n",
       "      <td>0.189979</td>\n",
       "      <td>0.119554</td>\n",
       "      <td>0.244619</td>\n",
       "      <td>0.152693</td>\n",
       "      <td>0.234503</td>\n",
       "      <td>1.000000</td>\n",
       "      <td>0.237601</td>\n",
       "      <td>0.176658</td>\n",
       "      <td>-0.018752</td>\n",
       "      <td>-0.021705</td>\n",
       "    </tr>\n",
       "    <tr>\n",
       "      <th>Inflight service</th>\n",
       "      <td>-0.051347</td>\n",
       "      <td>0.059316</td>\n",
       "      <td>0.110029</td>\n",
       "      <td>0.072195</td>\n",
       "      <td>0.035373</td>\n",
       "      <td>0.000310</td>\n",
       "      <td>0.035210</td>\n",
       "      <td>0.074058</td>\n",
       "      <td>0.068842</td>\n",
       "      <td>0.406094</td>\n",
       "      <td>0.551569</td>\n",
       "      <td>0.369569</td>\n",
       "      <td>0.629237</td>\n",
       "      <td>0.237601</td>\n",
       "      <td>1.000000</td>\n",
       "      <td>0.090356</td>\n",
       "      <td>-0.054432</td>\n",
       "      <td>-0.059853</td>\n",
       "    </tr>\n",
       "    <tr>\n",
       "      <th>Cleanliness</th>\n",
       "      <td>0.052565</td>\n",
       "      <td>0.095648</td>\n",
       "      <td>0.131300</td>\n",
       "      <td>0.009862</td>\n",
       "      <td>0.015125</td>\n",
       "      <td>-0.005918</td>\n",
       "      <td>0.658054</td>\n",
       "      <td>0.329377</td>\n",
       "      <td>0.679613</td>\n",
       "      <td>0.692511</td>\n",
       "      <td>0.122084</td>\n",
       "      <td>0.096695</td>\n",
       "      <td>0.097071</td>\n",
       "      <td>0.176658</td>\n",
       "      <td>0.090356</td>\n",
       "      <td>1.000000</td>\n",
       "      <td>-0.014543</td>\n",
       "      <td>-0.016546</td>\n",
       "    </tr>\n",
       "    <tr>\n",
       "      <th>Departure Delay in Minutes</th>\n",
       "      <td>-0.009041</td>\n",
       "      <td>0.002402</td>\n",
       "      <td>-0.015946</td>\n",
       "      <td>0.000778</td>\n",
       "      <td>-0.005318</td>\n",
       "      <td>0.005973</td>\n",
       "      <td>-0.029164</td>\n",
       "      <td>-0.019404</td>\n",
       "      <td>-0.027999</td>\n",
       "      <td>-0.027012</td>\n",
       "      <td>-0.030486</td>\n",
       "      <td>0.014574</td>\n",
       "      <td>-0.004105</td>\n",
       "      <td>-0.018752</td>\n",
       "      <td>-0.054432</td>\n",
       "      <td>-0.014543</td>\n",
       "      <td>1.000000</td>\n",
       "      <td>0.965291</td>\n",
       "    </tr>\n",
       "    <tr>\n",
       "      <th>Arrival Delay in Minutes</th>\n",
       "      <td>-0.011248</td>\n",
       "      <td>-0.001935</td>\n",
       "      <td>-0.017749</td>\n",
       "      <td>-0.000942</td>\n",
       "      <td>-0.007033</td>\n",
       "      <td>0.005658</td>\n",
       "      <td>-0.031715</td>\n",
       "      <td>-0.022730</td>\n",
       "      <td>-0.030521</td>\n",
       "      <td>-0.030230</td>\n",
       "      <td>-0.034789</td>\n",
       "      <td>0.011346</td>\n",
       "      <td>-0.007935</td>\n",
       "      <td>-0.021705</td>\n",
       "      <td>-0.059853</td>\n",
       "      <td>-0.016546</td>\n",
       "      <td>0.965291</td>\n",
       "      <td>1.000000</td>\n",
       "    </tr>\n",
       "  </tbody>\n",
       "</table>\n",
       "</div>"
      ],
      "text/plain": [
       "                                        Age  Flight Distance  \\\n",
       "Age                                1.000000         0.099459   \n",
       "Flight Distance                    0.099459         1.000000   \n",
       "Inflight wifi service              0.016116         0.006701   \n",
       "Departure/Arrival time convenient  0.036960        -0.018914   \n",
       "Ease of Online booking             0.022565         0.065165   \n",
       "Gate location                     -0.000398         0.005520   \n",
       "Food and drink                     0.023194         0.057066   \n",
       "Online boarding                    0.207572         0.214825   \n",
       "Seat comfort                       0.159136         0.157662   \n",
       "Inflight entertainment             0.074947         0.130507   \n",
       "On-board service                   0.057078         0.111194   \n",
       "Leg room service                   0.039119         0.134533   \n",
       "Baggage handling                  -0.047991         0.064855   \n",
       "Checkin service                    0.033475         0.073608   \n",
       "Inflight service                  -0.051347         0.059316   \n",
       "Cleanliness                        0.052565         0.095648   \n",
       "Departure Delay in Minutes        -0.009041         0.002402   \n",
       "Arrival Delay in Minutes          -0.011248        -0.001935   \n",
       "\n",
       "                                   Inflight wifi service  \\\n",
       "Age                                             0.016116   \n",
       "Flight Distance                                 0.006701   \n",
       "Inflight wifi service                           1.000000   \n",
       "Departure/Arrival time convenient               0.344915   \n",
       "Ease of Online booking                          0.714807   \n",
       "Gate location                                   0.338573   \n",
       "Food and drink                                  0.132214   \n",
       "Online boarding                                 0.457445   \n",
       "Seat comfort                                    0.121513   \n",
       "Inflight entertainment                          0.207802   \n",
       "On-board service                                0.119928   \n",
       "Leg room service                                0.160317   \n",
       "Baggage handling                                0.120376   \n",
       "Checkin service                                 0.043762   \n",
       "Inflight service                                0.110029   \n",
       "Cleanliness                                     0.131300   \n",
       "Departure Delay in Minutes                     -0.015946   \n",
       "Arrival Delay in Minutes                       -0.017749   \n",
       "\n",
       "                                   Departure/Arrival time convenient  \\\n",
       "Age                                                         0.036960   \n",
       "Flight Distance                                            -0.018914   \n",
       "Inflight wifi service                                       0.344915   \n",
       "Departure/Arrival time convenient                           1.000000   \n",
       "Ease of Online booking                                      0.437620   \n",
       "Gate location                                               0.447510   \n",
       "Food and drink                                              0.000687   \n",
       "Online boarding                                             0.072287   \n",
       "Seat comfort                                                0.008666   \n",
       "Inflight entertainment                                     -0.008380   \n",
       "On-board service                                            0.067297   \n",
       "Leg room service                                            0.010617   \n",
       "Baggage handling                                            0.070833   \n",
       "Checkin service                                             0.091132   \n",
       "Inflight service                                            0.072195   \n",
       "Cleanliness                                                 0.009862   \n",
       "Departure Delay in Minutes                                  0.000778   \n",
       "Arrival Delay in Minutes                                   -0.000942   \n",
       "\n",
       "                                   Ease of Online booking  Gate location  \\\n",
       "Age                                              0.022565      -0.000398   \n",
       "Flight Distance                                  0.065165       0.005520   \n",
       "Inflight wifi service                            0.714807       0.338573   \n",
       "Departure/Arrival time convenient                0.437620       0.447510   \n",
       "Ease of Online booking                           1.000000       0.460041   \n",
       "Gate location                                    0.460041       1.000000   \n",
       "Food and drink                                   0.030514      -0.002872   \n",
       "Online boarding                                  0.404866       0.002756   \n",
       "Seat comfort                                     0.028561       0.002788   \n",
       "Inflight entertainment                           0.046564       0.002741   \n",
       "On-board service                                 0.039064      -0.029019   \n",
       "Leg room service                                 0.109450      -0.005181   \n",
       "Baggage handling                                 0.039148       0.000972   \n",
       "Checkin service                                  0.008819      -0.039353   \n",
       "Inflight service                                 0.035373       0.000310   \n",
       "Cleanliness                                      0.015125      -0.005918   \n",
       "Departure Delay in Minutes                      -0.005318       0.005973   \n",
       "Arrival Delay in Minutes                        -0.007033       0.005658   \n",
       "\n",
       "                                   Food and drink  Online boarding  \\\n",
       "Age                                      0.023194         0.207572   \n",
       "Flight Distance                          0.057066         0.214825   \n",
       "Inflight wifi service                    0.132214         0.457445   \n",
       "Departure/Arrival time convenient        0.000687         0.072287   \n",
       "Ease of Online booking                   0.030514         0.404866   \n",
       "Gate location                           -0.002872         0.002756   \n",
       "Food and drink                           1.000000         0.233500   \n",
       "Online boarding                          0.233500         1.000000   \n",
       "Seat comfort                             0.575846         0.419253   \n",
       "Inflight entertainment                   0.623461         0.283922   \n",
       "On-board service                         0.057404         0.154242   \n",
       "Leg room service                         0.033173         0.123225   \n",
       "Baggage handling                         0.035321         0.083541   \n",
       "Checkin service                          0.085198         0.204238   \n",
       "Inflight service                         0.035210         0.074058   \n",
       "Cleanliness                              0.658054         0.329377   \n",
       "Departure Delay in Minutes              -0.029164        -0.019404   \n",
       "Arrival Delay in Minutes                -0.031715        -0.022730   \n",
       "\n",
       "                                   Seat comfort  Inflight entertainment  \\\n",
       "Age                                    0.159136                0.074947   \n",
       "Flight Distance                        0.157662                0.130507   \n",
       "Inflight wifi service                  0.121513                0.207802   \n",
       "Departure/Arrival time convenient      0.008666               -0.008380   \n",
       "Ease of Online booking                 0.028561                0.046564   \n",
       "Gate location                          0.002788                0.002741   \n",
       "Food and drink                         0.575846                0.623461   \n",
       "Online boarding                        0.419253                0.283922   \n",
       "Seat comfort                           1.000000                0.611837   \n",
       "Inflight entertainment                 0.611837                1.000000   \n",
       "On-board service                       0.130545                0.418574   \n",
       "Leg room service                       0.104272                0.300397   \n",
       "Baggage handling                       0.074620                0.379123   \n",
       "Checkin service                        0.189979                0.119554   \n",
       "Inflight service                       0.068842                0.406094   \n",
       "Cleanliness                            0.679613                0.692511   \n",
       "Departure Delay in Minutes            -0.027999               -0.027012   \n",
       "Arrival Delay in Minutes              -0.030521               -0.030230   \n",
       "\n",
       "                                   On-board service  Leg room service  \\\n",
       "Age                                        0.057078          0.039119   \n",
       "Flight Distance                            0.111194          0.134533   \n",
       "Inflight wifi service                      0.119928          0.160317   \n",
       "Departure/Arrival time convenient          0.067297          0.010617   \n",
       "Ease of Online booking                     0.039064          0.109450   \n",
       "Gate location                             -0.029019         -0.005181   \n",
       "Food and drink                             0.057404          0.033173   \n",
       "Online boarding                            0.154242          0.123225   \n",
       "Seat comfort                               0.130545          0.104272   \n",
       "Inflight entertainment                     0.418574          0.300397   \n",
       "On-board service                           1.000000          0.357721   \n",
       "Leg room service                           0.357721          1.000000   \n",
       "Baggage handling                           0.520296          0.371455   \n",
       "Checkin service                            0.244619          0.152693   \n",
       "Inflight service                           0.551569          0.369569   \n",
       "Cleanliness                                0.122084          0.096695   \n",
       "Departure Delay in Minutes                -0.030486          0.014574   \n",
       "Arrival Delay in Minutes                  -0.034789          0.011346   \n",
       "\n",
       "                                   Baggage handling  Checkin service  \\\n",
       "Age                                       -0.047991         0.033475   \n",
       "Flight Distance                            0.064855         0.073608   \n",
       "Inflight wifi service                      0.120376         0.043762   \n",
       "Departure/Arrival time convenient          0.070833         0.091132   \n",
       "Ease of Online booking                     0.039148         0.008819   \n",
       "Gate location                              0.000972        -0.039353   \n",
       "Food and drink                             0.035321         0.085198   \n",
       "Online boarding                            0.083541         0.204238   \n",
       "Seat comfort                               0.074620         0.189979   \n",
       "Inflight entertainment                     0.379123         0.119554   \n",
       "On-board service                           0.520296         0.244619   \n",
       "Leg room service                           0.371455         0.152693   \n",
       "Baggage handling                           1.000000         0.234503   \n",
       "Checkin service                            0.234503         1.000000   \n",
       "Inflight service                           0.629237         0.237601   \n",
       "Cleanliness                                0.097071         0.176658   \n",
       "Departure Delay in Minutes                -0.004105        -0.018752   \n",
       "Arrival Delay in Minutes                  -0.007935        -0.021705   \n",
       "\n",
       "                                   Inflight service  Cleanliness  \\\n",
       "Age                                       -0.051347     0.052565   \n",
       "Flight Distance                            0.059316     0.095648   \n",
       "Inflight wifi service                      0.110029     0.131300   \n",
       "Departure/Arrival time convenient          0.072195     0.009862   \n",
       "Ease of Online booking                     0.035373     0.015125   \n",
       "Gate location                              0.000310    -0.005918   \n",
       "Food and drink                             0.035210     0.658054   \n",
       "Online boarding                            0.074058     0.329377   \n",
       "Seat comfort                               0.068842     0.679613   \n",
       "Inflight entertainment                     0.406094     0.692511   \n",
       "On-board service                           0.551569     0.122084   \n",
       "Leg room service                           0.369569     0.096695   \n",
       "Baggage handling                           0.629237     0.097071   \n",
       "Checkin service                            0.237601     0.176658   \n",
       "Inflight service                           1.000000     0.090356   \n",
       "Cleanliness                                0.090356     1.000000   \n",
       "Departure Delay in Minutes                -0.054432    -0.014543   \n",
       "Arrival Delay in Minutes                  -0.059853    -0.016546   \n",
       "\n",
       "                                   Departure Delay in Minutes  \\\n",
       "Age                                                 -0.009041   \n",
       "Flight Distance                                      0.002402   \n",
       "Inflight wifi service                               -0.015946   \n",
       "Departure/Arrival time convenient                    0.000778   \n",
       "Ease of Online booking                              -0.005318   \n",
       "Gate location                                        0.005973   \n",
       "Food and drink                                      -0.029164   \n",
       "Online boarding                                     -0.019404   \n",
       "Seat comfort                                        -0.027999   \n",
       "Inflight entertainment                              -0.027012   \n",
       "On-board service                                    -0.030486   \n",
       "Leg room service                                     0.014574   \n",
       "Baggage handling                                    -0.004105   \n",
       "Checkin service                                     -0.018752   \n",
       "Inflight service                                    -0.054432   \n",
       "Cleanliness                                         -0.014543   \n",
       "Departure Delay in Minutes                           1.000000   \n",
       "Arrival Delay in Minutes                             0.965291   \n",
       "\n",
       "                                   Arrival Delay in Minutes  \n",
       "Age                                               -0.011248  \n",
       "Flight Distance                                   -0.001935  \n",
       "Inflight wifi service                             -0.017749  \n",
       "Departure/Arrival time convenient                 -0.000942  \n",
       "Ease of Online booking                            -0.007033  \n",
       "Gate location                                      0.005658  \n",
       "Food and drink                                    -0.031715  \n",
       "Online boarding                                   -0.022730  \n",
       "Seat comfort                                      -0.030521  \n",
       "Inflight entertainment                            -0.030230  \n",
       "On-board service                                  -0.034789  \n",
       "Leg room service                                   0.011346  \n",
       "Baggage handling                                  -0.007935  \n",
       "Checkin service                                   -0.021705  \n",
       "Inflight service                                  -0.059853  \n",
       "Cleanliness                                       -0.016546  \n",
       "Departure Delay in Minutes                         0.965291  \n",
       "Arrival Delay in Minutes                           1.000000  "
      ]
     },
     "execution_count": 38,
     "metadata": {},
     "output_type": "execute_result"
    }
   ],
   "source": [
    "df.corr()"
   ]
  },
  {
   "cell_type": "code",
   "execution_count": 39,
   "metadata": {
    "colab": {
     "base_uri": "https://localhost:8080/",
     "height": 593
    },
    "executionInfo": {
     "elapsed": 2356,
     "status": "ok",
     "timestamp": 1670050932769,
     "user": {
      "displayName": "Shrikant Chormale",
      "userId": "06649212260482941230"
     },
     "user_tz": -330
    },
    "id": "5a83dd18-89d1-4762-b52a-f44e6c24ef69",
    "outputId": "f670c01c-e7dc-4466-ecf1-f7d091841148"
   },
   "outputs": [
    {
     "data": {
      "text/plain": [
       "<AxesSubplot:>"
      ]
     },
     "execution_count": 39,
     "metadata": {},
     "output_type": "execute_result"
    },
    {
     "data": {
      "image/png": "[encoded data removed]",
      "text/plain": [
       "<Figure size 720x720 with 2 Axes>"
      ]
     },
     "metadata": {},
     "output_type": "display_data"
    }
   ],
   "source": [
    "plt.figure(figsize=(10,10))\n",
    "sns.heatmap(df.corr(),annot=True)"
   ]
  },
  {
   "cell_type": "code",
   "execution_count": 40,
   "metadata": {
    "colab": {
     "base_uri": "https://localhost:8080/",
     "height": 657
    },
    "executionInfo": {
     "elapsed": 3882,
     "status": "ok",
     "timestamp": 1670050936616,
     "user": {
      "displayName": "Shrikant Chormale",
      "userId": "06649212260482941230"
     },
     "user_tz": -330
    },
    "id": "08a53ddd-dc29-49c8-b49b-c54df0ccdfeb",
    "outputId": "16ca36b6-a6f0-4a0a-b8a3-2311fda390c5"
   },
   "outputs": [
    {
     "data": {
      "text/plain": [
       "<function matplotlib.pyplot.show(close=None, block=None)>"
      ]
     },
     "execution_count": 40,
     "metadata": {},
     "output_type": "execute_result"
    },
    {
     "data": {
      "image/png": "[encoded data removed]",
      "text/plain": [
       "<Figure size 1008x1008 with 20 Axes>"
      ]
     },
     "metadata": {},
     "output_type": "display_data"
    }
   ],
   "source": [
    "# histogram\n",
    "df.hist(figsize=(14,14))\n",
    "plt.show"
   ]
  },
  {
   "cell_type": "markdown",
   "metadata": {
    "id": "3bef3040-d5ca-4c97-8c53-1eec273ddc84"
   },
   "source": [
    "# checking the significance missing values"
   ]
  },
  {
   "cell_type": "code",
   "execution_count": 41,
   "metadata": {
    "colab": {
     "base_uri": "https://localhost:8080/"
    },
    "executionInfo": {
     "elapsed": 102,
     "status": "ok",
     "timestamp": 1670050936619,
     "user": {
      "displayName": "Shrikant Chormale",
      "userId": "06649212260482941230"
     },
     "user_tz": -330
    },
    "id": "e274c8dc-a7e1-4e89-aec0-89ede3f99483",
    "outputId": "5b6089d4-c167-45e7-c66b-4742773dd04f"
   },
   "outputs": [
    {
     "data": {
      "text/plain": [
       "Gender                                 0\n",
       "Customer Type                          0\n",
       "Age                                    0\n",
       "Type of Travel                         0\n",
       "Class                                  0\n",
       "Flight Distance                        0\n",
       "Inflight wifi service                  0\n",
       "Departure/Arrival time convenient      0\n",
       "Ease of Online booking                 0\n",
       "Gate location                          0\n",
       "Food and drink                         0\n",
       "Online boarding                        0\n",
       "Seat comfort                           0\n",
       "Inflight entertainment                 0\n",
       "On-board service                       0\n",
       "Leg room service                       0\n",
       "Baggage handling                       0\n",
       "Checkin service                        0\n",
       "Inflight service                       0\n",
       "Cleanliness                            0\n",
       "Departure Delay in Minutes             0\n",
       "Arrival Delay in Minutes             393\n",
       "satisfaction                           0\n",
       "dtype: int64"
      ]
     },
     "execution_count": 41,
     "metadata": {},
     "output_type": "execute_result"
    }
   ],
   "source": [
    "df.isnull().sum()"
   ]
  },
  {
   "cell_type": "code",
   "execution_count": 42,
   "metadata": {
    "executionInfo": {
     "elapsed": 97,
     "status": "ok",
     "timestamp": 1670050936620,
     "user": {
      "displayName": "Shrikant Chormale",
      "userId": "06649212260482941230"
     },
     "user_tz": -330
    },
    "id": "2aeeffe3-7825-422b-88d8-7c8906fc266a"
   },
   "outputs": [],
   "source": [
    "# handling the missing values method\n",
    "#Dropping the missing values\n",
    "#Replacing with previous value - Forward fill\n",
    "#Replacing with next value - Backward fill\n",
    "#Replacing with mean\n",
    "#Replacing with Median:\n",
    "#Replacing with Mode:"
   ]
  },
  {
   "cell_type": "code",
   "execution_count": 43,
   "metadata": {
    "colab": {
     "base_uri": "https://localhost:8080/"
    },
    "executionInfo": {
     "elapsed": 97,
     "status": "ok",
     "timestamp": 1670050936621,
     "user": {
      "displayName": "Shrikant Chormale",
      "userId": "06649212260482941230"
     },
     "user_tz": -330
    },
    "id": "458d5103-b890-4d73-8914-516f56c3cdc5",
    "outputId": "b414832a-d66a-449b-b299-a64a3c7d3a36"
   },
   "outputs": [
    {
     "data": {
      "text/plain": [
       "0.0"
      ]
     },
     "execution_count": 43,
     "metadata": {},
     "output_type": "execute_result"
    }
   ],
   "source": [
    "df['Arrival Delay in Minutes'].median()"
   ]
  },
  {
   "cell_type": "code",
   "execution_count": 44,
   "metadata": {
    "executionInfo": {
     "elapsed": 94,
     "status": "ok",
     "timestamp": 1670050936622,
     "user": {
      "displayName": "Shrikant Chormale",
      "userId": "06649212260482941230"
     },
     "user_tz": -330
    },
    "id": "cf05d941-df65-4cc4-b56c-0514a6f99ef0"
   },
   "outputs": [],
   "source": [
    "df['Arrival Delay in Minutes']=df['Arrival Delay in Minutes'].fillna(df['Arrival Delay in Minutes'].median())"
   ]
  },
  {
   "cell_type": "code",
   "execution_count": 45,
   "metadata": {
    "executionInfo": {
     "elapsed": 92,
     "status": "ok",
     "timestamp": 1670050936622,
     "user": {
      "displayName": "Shrikant Chormale",
      "userId": "06649212260482941230"
     },
     "user_tz": -330
    },
    "id": "d8317ad2-20a1-4ea2-a02d-81d57d47e4f5"
   },
   "outputs": [],
   "source": [
    "# rechecing the missing values"
   ]
  },
  {
   "cell_type": "code",
   "execution_count": 46,
   "metadata": {
    "colab": {
     "base_uri": "https://localhost:8080/"
    },
    "executionInfo": {
     "elapsed": 92,
     "status": "ok",
     "timestamp": 1670050936623,
     "user": {
      "displayName": "Shrikant Chormale",
      "userId": "06649212260482941230"
     },
     "user_tz": -330
    },
    "id": "035a8535-7812-4c69-befe-af6426dd3d31",
    "outputId": "27c12725-0965-474e-f358-5c8a6e0883fe"
   },
   "outputs": [
    {
     "data": {
      "text/plain": [
       "Gender                               0\n",
       "Customer Type                        0\n",
       "Age                                  0\n",
       "Type of Travel                       0\n",
       "Class                                0\n",
       "Flight Distance                      0\n",
       "Inflight wifi service                0\n",
       "Departure/Arrival time convenient    0\n",
       "Ease of Online booking               0\n",
       "Gate location                        0\n",
       "Food and drink                       0\n",
       "Online boarding                      0\n",
       "Seat comfort                         0\n",
       "Inflight entertainment               0\n",
       "On-board service                     0\n",
       "Leg room service                     0\n",
       "Baggage handling                     0\n",
       "Checkin service                      0\n",
       "Inflight service                     0\n",
       "Cleanliness                          0\n",
       "Departure Delay in Minutes           0\n",
       "Arrival Delay in Minutes             0\n",
       "satisfaction                         0\n",
       "dtype: int64"
      ]
     },
     "execution_count": 46,
     "metadata": {},
     "output_type": "execute_result"
    }
   ],
   "source": [
    "df.isnull().sum()"
   ]
  },
  {
   "cell_type": "code",
   "execution_count": 47,
   "metadata": {
    "executionInfo": {
     "elapsed": 91,
     "status": "ok",
     "timestamp": 1670050936624,
     "user": {
      "displayName": "Shrikant Chormale",
      "userId": "06649212260482941230"
     },
     "user_tz": -330
    },
    "id": "1956ab47-dab4-41b4-96e0-6362ee412819"
   },
   "outputs": [],
   "source": [
    "# after handling not found missing values"
   ]
  },
  {
   "cell_type": "code",
   "execution_count": 48,
   "metadata": {
    "executionInfo": {
     "elapsed": 91,
     "status": "ok",
     "timestamp": 1670050936624,
     "user": {
      "displayName": "Shrikant Chormale",
      "userId": "06649212260482941230"
     },
     "user_tz": -330
    },
    "id": "4bfe1344-1ca7-4032-a54d-08bf6d9c5c55"
   },
   "outputs": [],
   "source": [
    "# checking the outlier"
   ]
  },
  {
   "cell_type": "code",
   "execution_count": 49,
   "metadata": {
    "colab": {
     "base_uri": "https://localhost:8080/",
     "height": 296
    },
    "executionInfo": {
     "elapsed": 91,
     "status": "ok",
     "timestamp": 1670050936625,
     "user": {
      "displayName": "Shrikant Chormale",
      "userId": "06649212260482941230"
     },
     "user_tz": -330
    },
    "id": "4ab8fc67-bfd3-4528-8937-a072ec7e8229",
    "outputId": "c36c468e-5ec0-402d-b3a7-855961156375"
   },
   "outputs": [
    {
     "data": {
      "text/plain": [
       "<AxesSubplot:xlabel='Flight Distance'>"
      ]
     },
     "execution_count": 49,
     "metadata": {},
     "output_type": "execute_result"
    },
    {
     "data": {
      "image/png": "[encoded data removed]",
      "text/plain": [
       "<Figure size 432x288 with 1 Axes>"
      ]
     },
     "metadata": {},
     "output_type": "display_data"
    }
   ],
   "source": [
    "sns.boxplot(x='Flight Distance',data=df)"
   ]
  },
  {
   "cell_type": "code",
   "execution_count": 50,
   "metadata": {
    "executionInfo": {
     "elapsed": 89,
     "status": "ok",
     "timestamp": 1670050936626,
     "user": {
      "displayName": "Shrikant Chormale",
      "userId": "06649212260482941230"
     },
     "user_tz": -330
    },
    "id": "cf0921ee-30ec-4d00-8b71-c942db8c04fd"
   },
   "outputs": [],
   "source": [
    "# after checking the outliers found \n",
    "# handling the outlier with the help of IQR method"
   ]
  },
  {
   "cell_type": "code",
   "execution_count": 51,
   "metadata": {
    "executionInfo": {
     "elapsed": 89,
     "status": "ok",
     "timestamp": 1670050936627,
     "user": {
      "displayName": "Shrikant Chormale",
      "userId": "06649212260482941230"
     },
     "user_tz": -330
    },
    "id": "ee570675-d75e-4c6d-a146-176869c55928"
   },
   "outputs": [],
   "source": [
    "for cols in df.columns[:-1]:\n",
    "    if df[cols].dtype == object:\n",
    "        continue\n",
    "    else:\n",
    "        Q1 = df[cols].quantile(q=0.25)\n",
    "        Q3 = df[cols].quantile(q=0.75)\n",
    "        iqr = Q3 - Q1\n",
    "    \n",
    "        low = Q1 - 1.5*(Q3-Q1)\n",
    "        high = Q3 + 1.5*(Q3-Q1)\n",
    "        df.loc[(df[cols]<low) | (df[cols]>high),cols] = df[cols].median()"
   ]
  },
  {
   "cell_type": "code",
   "execution_count": 52,
   "metadata": {
    "colab": {
     "base_uri": "https://localhost:8080/",
     "height": 296
    },
    "executionInfo": {
     "elapsed": 90,
     "status": "ok",
     "timestamp": 1670050936628,
     "user": {
      "displayName": "Shrikant Chormale",
      "userId": "06649212260482941230"
     },
     "user_tz": -330
    },
    "id": "5e359425-7510-4dcc-9a95-c817befb00ca",
    "outputId": "661f4bc7-c4a3-4f74-cf21-560bb1497c02"
   },
   "outputs": [
    {
     "data": {
      "text/plain": [
       "<AxesSubplot:xlabel='Flight Distance'>"
      ]
     },
     "execution_count": 52,
     "metadata": {},
     "output_type": "execute_result"
    },
    {
     "data": {
      "image/png": "[encoded data removed]",
      "text/plain": [
       "<Figure size 432x288 with 1 Axes>"
      ]
     },
     "metadata": {},
     "output_type": "display_data"
    }
   ],
   "source": [
    "# recheck outlier\n",
    "sns.boxplot(x='Flight Distance',data=df)"
   ]
  },
  {
   "cell_type": "code",
   "execution_count": 53,
   "metadata": {
    "colab": {
     "base_uri": "https://localhost:8080/",
     "height": 296
    },
    "executionInfo": {
     "elapsed": 89,
     "status": "ok",
     "timestamp": 1670050936630,
     "user": {
      "displayName": "Shrikant Chormale",
      "userId": "06649212260482941230"
     },
     "user_tz": -330
    },
    "id": "62cc2fad-64c6-4a42-8fce-b659977889bb",
    "outputId": "b6079ef9-f2ed-42ee-a052-f5353bd20465"
   },
   "outputs": [
    {
     "data": {
      "text/plain": [
       "<AxesSubplot:xlabel='Checkin service'>"
      ]
     },
     "execution_count": 53,
     "metadata": {},
     "output_type": "execute_result"
    },
    {
     "data": {
      "image/png": "[encoded data removed]",
      "text/plain": [
       "<Figure size 432x288 with 1 Axes>"
      ]
     },
     "metadata": {},
     "output_type": "display_data"
    }
   ],
   "source": [
    "sns.boxplot(x='Checkin service',data=df)"
   ]
  },
  {
   "cell_type": "code",
   "execution_count": 54,
   "metadata": {
    "executionInfo": {
     "elapsed": 72,
     "status": "ok",
     "timestamp": 1670050936630,
     "user": {
      "displayName": "Shrikant Chormale",
      "userId": "06649212260482941230"
     },
     "user_tz": -330
    },
    "id": "ffe2a4ab-52f5-4d7e-ba40-f447d53a8572"
   },
   "outputs": [],
   "source": [
    "# after the handling the outlier checking outlier not found"
   ]
  },
  {
   "cell_type": "code",
   "execution_count": 55,
   "metadata": {
    "executionInfo": {
     "elapsed": 71,
     "status": "ok",
     "timestamp": 1670050936631,
     "user": {
      "displayName": "Shrikant Chormale",
      "userId": "06649212260482941230"
     },
     "user_tz": -330
    },
    "id": "536b9e50-3351-4f31-8cb9-ca25eb2949e6"
   },
   "outputs": [],
   "source": [
    "# handle the categarical value \n",
    "# categorical values converted numerical with the help of labelEncoder method"
   ]
  },
  {
   "cell_type": "markdown",
   "metadata": {
    "id": "1bc4e7b7-615b-451b-8b19-3bfd7bdf9f44"
   },
   "source": [
    "# LabelEncoder Method"
   ]
  },
  {
   "cell_type": "code",
   "execution_count": 56,
   "metadata": {
    "executionInfo": {
     "elapsed": 70,
     "status": "ok",
     "timestamp": 1670050936632,
     "user": {
      "displayName": "Shrikant Chormale",
      "userId": "06649212260482941230"
     },
     "user_tz": -330
    },
    "id": "c3f7fdf7-f26d-4e1a-9d95-5002e5c153e4"
   },
   "outputs": [],
   "source": [
    "# import the libraries\n",
    "from sklearn.preprocessing import LabelEncoder\n",
    "le=LabelEncoder()"
   ]
  },
  {
   "cell_type": "code",
   "execution_count": 57,
   "metadata": {
    "colab": {
     "base_uri": "https://localhost:8080/"
    },
    "executionInfo": {
     "elapsed": 69,
     "status": "ok",
     "timestamp": 1670050936632,
     "user": {
      "displayName": "Shrikant Chormale",
      "userId": "06649212260482941230"
     },
     "user_tz": -330
    },
    "id": "b0dda4bc-d817-4e15-9af2-cf8b2ac874a1",
    "outputId": "9a4e053a-7db9-441a-e438-3452d8db1a59"
   },
   "outputs": [
    {
     "name": "stdout",
     "output_type": "stream",
     "text": [
      "<class 'pandas.core.frame.DataFrame'>\n",
      "Int64Index: 129880 entries, 0 to 25975\n",
      "Data columns (total 23 columns):\n",
      " #   Column                             Non-Null Count   Dtype  \n",
      "---  ------                             --------------   -----  \n",
      " 0   Gender                             129880 non-null  object \n",
      " 1   Customer Type                      129880 non-null  object \n",
      " 2   Age                                129880 non-null  int64  \n",
      " 3   Type of Travel                     129880 non-null  object \n",
      " 4   Class                              129880 non-null  object \n",
      " 5   Flight Distance                    129880 non-null  int64  \n",
      " 6   Inflight wifi service              129880 non-null  int64  \n",
      " 7   Departure/Arrival time convenient  129880 non-null  int64  \n",
      " 8   Ease of Online booking             129880 non-null  int64  \n",
      " 9   Gate location                      129880 non-null  int64  \n",
      " 10  Food and drink                     129880 non-null  int64  \n",
      " 11  Online boarding                    129880 non-null  int64  \n",
      " 12  Seat comfort                       129880 non-null  int64  \n",
      " 13  Inflight entertainment             129880 non-null  int64  \n",
      " 14  On-board service                   129880 non-null  int64  \n",
      " 15  Leg room service                   129880 non-null  int64  \n",
      " 16  Baggage handling                   129880 non-null  int64  \n",
      " 17  Checkin service                    129880 non-null  int64  \n",
      " 18  Inflight service                   129880 non-null  int64  \n",
      " 19  Cleanliness                        129880 non-null  int64  \n",
      " 20  Departure Delay in Minutes         129880 non-null  int64  \n",
      " 21  Arrival Delay in Minutes           129880 non-null  float64\n",
      " 22  satisfaction                       129880 non-null  object \n",
      "dtypes: float64(1), int64(17), object(5)\n",
      "memory usage: 28.8+ MB\n"
     ]
    }
   ],
   "source": [
    "df.info()"
   ]
  },
  {
   "cell_type": "code",
   "execution_count": 58,
   "metadata": {
    "executionInfo": {
     "elapsed": 68,
     "status": "ok",
     "timestamp": 1670050936633,
     "user": {
      "displayName": "Shrikant Chormale",
      "userId": "06649212260482941230"
     },
     "user_tz": -330
    },
    "id": "2f2d6688-423e-47f8-9b6e-c6ef0360a7c7"
   },
   "outputs": [],
   "source": [
    "df.Gender=le.fit_transform(df.Gender)\n",
    "df['Customer Type']=le.fit_transform(df['Customer Type'])\n",
    "df['Type of Travel']=le.fit_transform(df['Type of Travel'])\n",
    "df.Class=le.fit_transform(df.Class)\n",
    "df.satisfaction=le.fit_transform(df.satisfaction)"
   ]
  },
  {
   "cell_type": "markdown",
   "metadata": {
    "id": "b0cbbae6-8fb0-4bca-babc-bb0ef1d25bb4"
   },
   "source": [
    "# Now Data is ready to learn algorithm"
   ]
  },
  {
   "cell_type": "markdown",
   "metadata": {
    "id": "8a6f97b1-57fd-476a-97e9-7a1ceca920da"
   },
   "source": [
    "# MODEL BULDING"
   ]
  },
  {
   "cell_type": "code",
   "execution_count": 59,
   "metadata": {
    "executionInfo": {
     "elapsed": 67,
     "status": "ok",
     "timestamp": 1670050936633,
     "user": {
      "displayName": "Shrikant Chormale",
      "userId": "06649212260482941230"
     },
     "user_tz": -330
    },
    "id": "265a1534-0ff3-46b6-bffe-cf952fc5feab"
   },
   "outputs": [],
   "source": [
    "# selecting the in your data independent(x) and dependent(y) variable"
   ]
  },
  {
   "cell_type": "code",
   "execution_count": 60,
   "metadata": {
    "executionInfo": {
     "elapsed": 68,
     "status": "ok",
     "timestamp": 1670050936634,
     "user": {
      "displayName": "Shrikant Chormale",
      "userId": "06649212260482941230"
     },
     "user_tz": -330
    },
    "id": "3e90282b-b6df-4fd0-8ef3-adf9c479633e"
   },
   "outputs": [],
   "source": [
    "X=df.drop('satisfaction',axis=1)\n",
    "y=df['satisfaction']"
   ]
  },
  {
   "cell_type": "code",
   "execution_count": 61,
   "metadata": {
    "executionInfo": {
     "elapsed": 67,
     "status": "ok",
     "timestamp": 1670050936634,
     "user": {
      "displayName": "Shrikant Chormale",
      "userId": "06649212260482941230"
     },
     "user_tz": -330
    },
    "id": "5510e9c8-59b0-47da-b527-8b2feef17f7d"
   },
   "outputs": [],
   "source": [
    "# checking the shape"
   ]
  },
  {
   "cell_type": "code",
   "execution_count": 62,
   "metadata": {
    "colab": {
     "base_uri": "https://localhost:8080/"
    },
    "executionInfo": {
     "elapsed": 68,
     "status": "ok",
     "timestamp": 1670050936635,
     "user": {
      "displayName": "Shrikant Chormale",
      "userId": "06649212260482941230"
     },
     "user_tz": -330
    },
    "id": "8cc129d7-b6cf-49df-b55f-639094cb95bc",
    "outputId": "5934ec71-308a-4d69-8c0d-80f47ad2d1b5"
   },
   "outputs": [
    {
     "data": {
      "text/plain": [
       "(129880, 22)"
      ]
     },
     "execution_count": 62,
     "metadata": {},
     "output_type": "execute_result"
    }
   ],
   "source": [
    "X.shape"
   ]
  },
  {
   "cell_type": "code",
   "execution_count": 63,
   "metadata": {
    "colab": {
     "base_uri": "https://localhost:8080/"
    },
    "executionInfo": {
     "elapsed": 67,
     "status": "ok",
     "timestamp": 1670050936636,
     "user": {
      "displayName": "Shrikant Chormale",
      "userId": "06649212260482941230"
     },
     "user_tz": -330
    },
    "id": "06191dad-0dbb-4f2c-898e-5cb106e5983b",
    "outputId": "858513f5-11a1-4493-a3e4-0d01d3066d98"
   },
   "outputs": [
    {
     "data": {
      "text/plain": [
       "(129880,)"
      ]
     },
     "execution_count": 63,
     "metadata": {},
     "output_type": "execute_result"
    }
   ],
   "source": [
    "y.shape"
   ]
  },
  {
   "cell_type": "code",
   "execution_count": 64,
   "metadata": {
    "executionInfo": {
     "elapsed": 666,
     "status": "ok",
     "timestamp": 1670050937237,
     "user": {
      "displayName": "Shrikant Chormale",
      "userId": "06649212260482941230"
     },
     "user_tz": -330
    },
    "id": "b48f9d94-5879-4629-8065-069dbe8d85c8"
   },
   "outputs": [],
   "source": [
    "# The data is sesitive to datapoint to go for the Standardisation\n",
    "# standadization of data"
   ]
  },
  {
   "cell_type": "code",
   "execution_count": 65,
   "metadata": {
    "executionInfo": {
     "elapsed": 28,
     "status": "ok",
     "timestamp": 1670050937238,
     "user": {
      "displayName": "Shrikant Chormale",
      "userId": "06649212260482941230"
     },
     "user_tz": -330
    },
    "id": "7200734e-48a1-4a70-aace-c542f1fba497"
   },
   "outputs": [],
   "source": [
    "from sklearn.preprocessing import StandardScaler\n",
    "\n",
    "scalar= StandardScaler()\n",
    "\n",
    "scaled=scalar.fit_transform(X)"
   ]
  },
  {
   "cell_type": "code",
   "execution_count": 66,
   "metadata": {
    "executionInfo": {
     "elapsed": 27,
     "status": "ok",
     "timestamp": 1670050937238,
     "user": {
      "displayName": "Shrikant Chormale",
      "userId": "06649212260482941230"
     },
     "user_tz": -330
    },
    "id": "6d802556-ceac-484e-9201-c30c9beed11e"
   },
   "outputs": [],
   "source": [
    "# split the data train and test\n",
    "#import the libraries\n",
    "from sklearn.model_selection import train_test_split"
   ]
  },
  {
   "cell_type": "code",
   "execution_count": 67,
   "metadata": {
    "executionInfo": {
     "elapsed": 28,
     "status": "ok",
     "timestamp": 1670050937239,
     "user": {
      "displayName": "Shrikant Chormale",
      "userId": "06649212260482941230"
     },
     "user_tz": -330
    },
    "id": "25017811-bc34-4a59-a1e9-be73687826d6"
   },
   "outputs": [],
   "source": [
    "X_train,X_test,y_train,y_test=train_test_split(scaled,y,test_size=0.3,random_state=42)"
   ]
  },
  {
   "cell_type": "code",
   "execution_count": 68,
   "metadata": {
    "executionInfo": {
     "elapsed": 28,
     "status": "ok",
     "timestamp": 1670050937240,
     "user": {
      "displayName": "Shrikant Chormale",
      "userId": "06649212260482941230"
     },
     "user_tz": -330
    },
    "id": "177433d8-fe2b-4fe3-8946-4e9600606bf0"
   },
   "outputs": [],
   "source": [
    "# in the data target variable is classisfication and taret variable is categorical so go for the classification Analysis "
   ]
  },
  {
   "cell_type": "markdown",
   "metadata": {
    "id": "2be6da49-e0ad-4440-8739-6a666d41ce01"
   },
   "source": [
    "# LogisticRegreesion Analysis"
   ]
  },
  {
   "cell_type": "code",
   "execution_count": 69,
   "metadata": {
    "executionInfo": {
     "elapsed": 28,
     "status": "ok",
     "timestamp": 1670050937241,
     "user": {
      "displayName": "Shrikant Chormale",
      "userId": "06649212260482941230"
     },
     "user_tz": -330
    },
    "id": "e00d6532-9430-4844-af6b-bcef1eb3cc8f"
   },
   "outputs": [],
   "source": [
    "from sklearn.linear_model import LogisticRegression"
   ]
  },
  {
   "cell_type": "code",
   "execution_count": 70,
   "metadata": {
    "executionInfo": {
     "elapsed": 28,
     "status": "ok",
     "timestamp": 1670050937241,
     "user": {
      "displayName": "Shrikant Chormale",
      "userId": "06649212260482941230"
     },
     "user_tz": -330
    },
    "id": "03dacfc0-3351-4277-9fd4-baa3f276a403"
   },
   "outputs": [],
   "source": [
    "# instantiate the model (using the defalut parameter)\n",
    "logreg=LogisticRegression()"
   ]
  },
  {
   "cell_type": "code",
   "execution_count": 71,
   "metadata": {
    "colab": {
     "base_uri": "https://localhost:8080/"
    },
    "executionInfo": {
     "elapsed": 30,
     "status": "ok",
     "timestamp": 1670050937244,
     "user": {
      "displayName": "Shrikant Chormale",
      "userId": "06649212260482941230"
     },
     "user_tz": -330
    },
    "id": "1ed70498-f8f0-4bed-8004-e5593e471df1",
    "outputId": "935716fd-61bf-4f11-ccc1-4704e4a4400a"
   },
   "outputs": [
    {
     "data": {
      "text/plain": [
       "LogisticRegression()"
      ]
     },
     "execution_count": 71,
     "metadata": {},
     "output_type": "execute_result"
    }
   ],
   "source": [
    "# fit the model with data\n",
    "logreg.fit(X_train,y_train)"
   ]
  },
  {
   "cell_type": "code",
   "execution_count": 72,
   "metadata": {
    "executionInfo": {
     "elapsed": 29,
     "status": "ok",
     "timestamp": 1670050937245,
     "user": {
      "displayName": "Shrikant Chormale",
      "userId": "06649212260482941230"
     },
     "user_tz": -330
    },
    "id": "5e6f70b8-a8ca-44cc-81be-ec4a1f4240ae"
   },
   "outputs": [],
   "source": [
    "# prediction on your test data\n",
    "logreg_test_pred=logreg.predict(X_test)\n",
    "# prediction on train data\n",
    "logreg_train_pred=logreg.predict(X_train)"
   ]
  },
  {
   "cell_type": "code",
   "execution_count": 73,
   "metadata": {
    "executionInfo": {
     "elapsed": 30,
     "status": "ok",
     "timestamp": 1670050937246,
     "user": {
      "displayName": "Shrikant Chormale",
      "userId": "06649212260482941230"
     },
     "user_tz": -330
    },
    "id": "223ffc65-156a-40ae-b45b-cf7956547045"
   },
   "outputs": [],
   "source": [
    "# to check the accuracy"
   ]
  },
  {
   "cell_type": "code",
   "execution_count": 74,
   "metadata": {
    "executionInfo": {
     "elapsed": 30,
     "status": "ok",
     "timestamp": 1670050937247,
     "user": {
      "displayName": "Shrikant Chormale",
      "userId": "06649212260482941230"
     },
     "user_tz": -330
    },
    "id": "713409a5-7524-49ef-a978-d44830ec3f8c"
   },
   "outputs": [],
   "source": [
    "from sklearn import metrics"
   ]
  },
  {
   "cell_type": "code",
   "execution_count": 75,
   "metadata": {
    "colab": {
     "base_uri": "https://localhost:8080/"
    },
    "executionInfo": {
     "elapsed": 30,
     "status": "ok",
     "timestamp": 1670050937247,
     "user": {
      "displayName": "Shrikant Chormale",
      "userId": "06649212260482941230"
     },
     "user_tz": -330
    },
    "id": "4f58c1f4-8511-4211-a0f5-4d896d14cb39",
    "outputId": "4141ac90-f03d-4dc5-ac46-fa278c82a942"
   },
   "outputs": [
    {
     "name": "stdout",
     "output_type": "stream",
     "text": [
      "Train=Accuracy: 0.8730256500505962\n"
     ]
    }
   ],
   "source": [
    "# train data accuracy\n",
    "print(\"Train=Accuracy:\",metrics.accuracy_score(y_train,logreg_train_pred))"
   ]
  },
  {
   "cell_type": "code",
   "execution_count": 76,
   "metadata": {
    "colab": {
     "base_uri": "https://localhost:8080/"
    },
    "executionInfo": {
     "elapsed": 29,
     "status": "ok",
     "timestamp": 1670050937248,
     "user": {
      "displayName": "Shrikant Chormale",
      "userId": "06649212260482941230"
     },
     "user_tz": -330
    },
    "id": "7016709f-1b5c-4ff8-862b-8ffe1200c0a8",
    "outputId": "610f2c92-b97a-49b4-a21f-3a56a0fe24db"
   },
   "outputs": [
    {
     "name": "stdout",
     "output_type": "stream",
     "text": [
      "Test=Accuracy: 0.8724976901755467\n"
     ]
    }
   ],
   "source": [
    "# test data accuracy\n",
    "print(\"Test=Accuracy:\",metrics.accuracy_score(y_test,logreg_test_pred))"
   ]
  },
  {
   "cell_type": "code",
   "execution_count": 77,
   "metadata": {
    "executionInfo": {
     "elapsed": 28,
     "status": "ok",
     "timestamp": 1670050937248,
     "user": {
      "displayName": "Shrikant Chormale",
      "userId": "06649212260482941230"
     },
     "user_tz": -330
    },
    "id": "66c9eb13-df5b-42fe-a758-14d8020ca507"
   },
   "outputs": [],
   "source": [
    "# confusion matrix"
   ]
  },
  {
   "cell_type": "code",
   "execution_count": 78,
   "metadata": {
    "colab": {
     "base_uri": "https://localhost:8080/"
    },
    "executionInfo": {
     "elapsed": 28,
     "status": "ok",
     "timestamp": 1670050937249,
     "user": {
      "displayName": "Shrikant Chormale",
      "userId": "06649212260482941230"
     },
     "user_tz": -330
    },
    "id": "a672ef1c-d38d-4fd6-9a7e-b52ed6d4c2d0",
    "outputId": "5c3d4fcf-10e1-4062-b358-a04b1f2999dd"
   },
   "outputs": [
    {
     "data": {
      "text/plain": [
       "array([[19796,  2183],\n",
       "       [ 2785, 14200]], dtype=int64)"
      ]
     },
     "execution_count": 78,
     "metadata": {},
     "output_type": "execute_result"
    }
   ],
   "source": [
    "from sklearn.metrics import confusion_matrix \n",
    "cnf_metrics=confusion_matrix(y_test,logreg_test_pred)\n",
    "cnf_metrics"
   ]
  },
  {
   "cell_type": "code",
   "execution_count": 79,
   "metadata": {
    "colab": {
     "base_uri": "https://localhost:8080/",
     "height": 342
    },
    "executionInfo": {
     "elapsed": 732,
     "status": "ok",
     "timestamp": 1670050937954,
     "user": {
      "displayName": "Shrikant Chormale",
      "userId": "06649212260482941230"
     },
     "user_tz": -330
    },
    "id": "a317a0ab-74a3-4d3d-b7fb-902d4bad215c",
    "outputId": "ba790fc9-e043-4563-ea9b-d8f9c4eef5c3"
   },
   "outputs": [
    {
     "data": {
      "text/plain": [
       "Text(0.5, 257.44, 'Predicted label')"
      ]
     },
     "execution_count": 79,
     "metadata": {},
     "output_type": "execute_result"
    },
    {
     "data": {
      "image/png": "[encoded data removed]",
      "text/plain": [
       "<Figure size 432x288 with 2 Axes>"
      ]
     },
     "metadata": {},
     "output_type": "display_data"
    }
   ],
   "source": [
    "import seaborn as sns\n",
    "import  matplotlib.pyplot as plt\n",
    "class_names=[0,1] # name  of classes\n",
    "fig, ax = plt.subplots()\n",
    "tick_marks = np.arange(len(class_names))\n",
    "plt.xticks(tick_marks, class_names)\n",
    "plt.yticks(tick_marks, class_names)\n",
    "# create heatmap\n",
    "sns.heatmap(pd.DataFrame(cnf_metrics), annot=True, cmap=\"YlGnBu\" ,fmt='g')\n",
    "ax.xaxis.set_label_position(\"top\")\n",
    "plt.tight_layout()\n",
    "plt.title('Confusion matrix', y=1.1)\n",
    "plt.ylabel('Actual label')\n",
    "plt.xlabel('Predicted label')"
   ]
  },
  {
   "cell_type": "code",
   "execution_count": 80,
   "metadata": {
    "executionInfo": {
     "elapsed": 22,
     "status": "ok",
     "timestamp": 1670050937957,
     "user": {
      "displayName": "Shrikant Chormale",
      "userId": "06649212260482941230"
     },
     "user_tz": -330
    },
    "id": "dbaabc18-8e6e-47b2-87e0-0a78653798a8"
   },
   "outputs": [],
   "source": [
    "# check the precision recall and f1 "
   ]
  },
  {
   "cell_type": "code",
   "execution_count": 81,
   "metadata": {
    "colab": {
     "base_uri": "https://localhost:8080/"
    },
    "executionInfo": {
     "elapsed": 26,
     "status": "ok",
     "timestamp": 1670050937962,
     "user": {
      "displayName": "Shrikant Chormale",
      "userId": "06649212260482941230"
     },
     "user_tz": -330
    },
    "id": "8d168a1d-a43a-4d83-8c1b-d58a4c5b997e",
    "outputId": "34fc0d6a-227c-4aae-a8fb-b77bddc7b681"
   },
   "outputs": [
    {
     "name": "stdout",
     "output_type": "stream",
     "text": [
      "              precision    recall  f1-score   support\n",
      "\n",
      "           0       0.88      0.90      0.89     21979\n",
      "           1       0.87      0.84      0.85     16985\n",
      "\n",
      "    accuracy                           0.87     38964\n",
      "   macro avg       0.87      0.87      0.87     38964\n",
      "weighted avg       0.87      0.87      0.87     38964\n",
      "\n"
     ]
    }
   ],
   "source": [
    "p_r_f=metrics.classification_report(y_test,logreg_test_pred)\n",
    "print(p_r_f)"
   ]
  },
  {
   "cell_type": "markdown",
   "metadata": {
    "id": "87747da5-4ef2-456e-9cb5-06614655aa88"
   },
   "source": [
    "# Decision Tree "
   ]
  },
  {
   "cell_type": "code",
   "execution_count": 82,
   "metadata": {
    "executionInfo": {
     "elapsed": 28,
     "status": "ok",
     "timestamp": 1670050937965,
     "user": {
      "displayName": "Shrikant Chormale",
      "userId": "06649212260482941230"
     },
     "user_tz": -330
    },
    "id": "350c5046-62ad-4282-965c-e459695a3897"
   },
   "outputs": [],
   "source": [
    "# import the libraries\n",
    "from sklearn.tree import DecisionTreeClassifier"
   ]
  },
  {
   "cell_type": "code",
   "execution_count": 83,
   "metadata": {
    "colab": {
     "base_uri": "https://localhost:8080/"
    },
    "executionInfo": {
     "elapsed": 446,
     "status": "ok",
     "timestamp": 1670050938384,
     "user": {
      "displayName": "Shrikant Chormale",
      "userId": "06649212260482941230"
     },
     "user_tz": -330
    },
    "id": "ffe11c8c-1a11-4977-89cf-8e1db1114b6c",
    "outputId": "85e759d7-7d3b-4952-d9f2-19d854dd6a14"
   },
   "outputs": [
    {
     "data": {
      "text/plain": [
       "DecisionTreeClassifier()"
      ]
     },
     "execution_count": 83,
     "metadata": {},
     "output_type": "execute_result"
    }
   ],
   "source": [
    "dt=DecisionTreeClassifier()\n",
    "dt.fit(X_train,y_train)"
   ]
  },
  {
   "cell_type": "code",
   "execution_count": 84,
   "metadata": {
    "executionInfo": {
     "elapsed": 15,
     "status": "ok",
     "timestamp": 1670050938385,
     "user": {
      "displayName": "Shrikant Chormale",
      "userId": "06649212260482941230"
     },
     "user_tz": -330
    },
    "id": "60158cd1-d311-476b-9916-92cdeebd0a30"
   },
   "outputs": [],
   "source": [
    "# predict the model test data\n",
    "dt_test_pred=dt.predict(X_test)\n",
    "# predict the model train data \n",
    "dt_train_pred=dt.predict(X_train)"
   ]
  },
  {
   "cell_type": "code",
   "execution_count": 85,
   "metadata": {
    "colab": {
     "base_uri": "https://localhost:8080/"
    },
    "executionInfo": {
     "elapsed": 14,
     "status": "ok",
     "timestamp": 1670050938386,
     "user": {
      "displayName": "Shrikant Chormale",
      "userId": "06649212260482941230"
     },
     "user_tz": -330
    },
    "id": "3f5bf436-7c41-42b9-9650-75bfe63f0bf5",
    "outputId": "1d42ceec-097d-4a68-eae7-97a2f5c5c81a"
   },
   "outputs": [
    {
     "name": "stdout",
     "output_type": "stream",
     "text": [
      "Train=Accuracy: 1.0\n"
     ]
    }
   ],
   "source": [
    "# train data accuracy\n",
    "print(\"Train=Accuracy:\",metrics.accuracy_score(y_train,dt_train_pred))"
   ]
  },
  {
   "cell_type": "code",
   "execution_count": 86,
   "metadata": {
    "colab": {
     "base_uri": "https://localhost:8080/"
    },
    "executionInfo": {
     "elapsed": 13,
     "status": "ok",
     "timestamp": 1670050938386,
     "user": {
      "displayName": "Shrikant Chormale",
      "userId": "06649212260482941230"
     },
     "user_tz": -330
    },
    "id": "d548458c-d40c-46c2-954a-b7ffcc89d121",
    "outputId": "83bc7afa-39e9-4d54-a3eb-bcd6ee4ba58c"
   },
   "outputs": [
    {
     "name": "stdout",
     "output_type": "stream",
     "text": [
      "Test=Accuracy: 0.9460527666564008\n"
     ]
    }
   ],
   "source": [
    "# test data accuracy\n",
    "print(\"Test=Accuracy:\",metrics.accuracy_score(y_test,dt_test_pred))"
   ]
  },
  {
   "cell_type": "code",
   "execution_count": 87,
   "metadata": {
    "executionInfo": {
     "elapsed": 12,
     "status": "ok",
     "timestamp": 1670050938387,
     "user": {
      "displayName": "Shrikant Chormale",
      "userId": "06649212260482941230"
     },
     "user_tz": -330
    },
    "id": "5bf69e66-5e27-488b-ba24-ee3e8ab328e2"
   },
   "outputs": [],
   "source": [
    "# confusion matrix"
   ]
  },
  {
   "cell_type": "code",
   "execution_count": 88,
   "metadata": {
    "colab": {
     "base_uri": "https://localhost:8080/"
    },
    "executionInfo": {
     "elapsed": 12,
     "status": "ok",
     "timestamp": 1670050938388,
     "user": {
      "displayName": "Shrikant Chormale",
      "userId": "06649212260482941230"
     },
     "user_tz": -330
    },
    "id": "ad8d9ae1-f6b5-4bbe-9d9f-de58de4361a5",
    "outputId": "d389ae1f-f003-40e2-d3bc-80a25d242920"
   },
   "outputs": [
    {
     "data": {
      "text/plain": [
       "array([[20929,  1050],\n",
       "       [ 1052, 15933]], dtype=int64)"
      ]
     },
     "execution_count": 88,
     "metadata": {},
     "output_type": "execute_result"
    }
   ],
   "source": [
    "from sklearn.metrics import confusion_matrix \n",
    "cnf_metrics=confusion_matrix(y_test,dt_test_pred)\n",
    "cnf_metrics"
   ]
  },
  {
   "cell_type": "code",
   "execution_count": 89,
   "metadata": {
    "colab": {
     "base_uri": "https://localhost:8080/",
     "height": 342
    },
    "executionInfo": {
     "elapsed": 704,
     "status": "ok",
     "timestamp": 1670050939082,
     "user": {
      "displayName": "Shrikant Chormale",
      "userId": "06649212260482941230"
     },
     "user_tz": -330
    },
    "id": "d13e0ab6-0e63-4460-aeee-2b5a81654f3a",
    "outputId": "d082d907-30cb-4fed-c683-298241b136d4"
   },
   "outputs": [
    {
     "data": {
      "text/plain": [
       "Text(0.5, 257.44, 'Predicted label')"
      ]
     },
     "execution_count": 89,
     "metadata": {},
     "output_type": "execute_result"
    },
    {
     "data": {
      "image/png": "[encoded data removed]",
      "text/plain": [
       "<Figure size 432x288 with 2 Axes>"
      ]
     },
     "metadata": {},
     "output_type": "display_data"
    }
   ],
   "source": [
    "import seaborn as sns\n",
    "import  matplotlib.pyplot as plt\n",
    "class_names=[0,1] # name  of classes\n",
    "fig, ax = plt.subplots()\n",
    "tick_marks = np.arange(len(class_names))\n",
    "plt.xticks(tick_marks, class_names)\n",
    "plt.yticks(tick_marks, class_names)\n",
    "# create heatmap\n",
    "sns.heatmap(pd.DataFrame(cnf_metrics), annot=True, cmap=\"YlGnBu\" ,fmt='g')\n",
    "ax.xaxis.set_label_position(\"top\")\n",
    "plt.tight_layout()\n",
    "plt.title('Confusion matrix', y=1.1)\n",
    "plt.ylabel('Actual label')\n",
    "plt.xlabel('Predicted label')"
   ]
  },
  {
   "cell_type": "code",
   "execution_count": 90,
   "metadata": {
    "executionInfo": {
     "elapsed": 48,
     "status": "ok",
     "timestamp": 1670050939083,
     "user": {
      "displayName": "Shrikant Chormale",
      "userId": "06649212260482941230"
     },
     "user_tz": -330
    },
    "id": "d02b9347-ad9c-4be2-b0b1-5730b4080faa"
   },
   "outputs": [],
   "source": [
    "# using the best hyperparamenter"
   ]
  },
  {
   "cell_type": "code",
   "execution_count": 91,
   "metadata": {
    "executionInfo": {
     "elapsed": 369,
     "status": "ok",
     "timestamp": 1670051147845,
     "user": {
      "displayName": "Shrikant Chormale",
      "userId": "06649212260482941230"
     },
     "user_tz": -330
    },
    "id": "6dc02a3b-b5be-4d2c-90a6-d3977503d11c"
   },
   "outputs": [],
   "source": [
    "from sklearn.model_selection import RandomizedSearchCV\n",
    "from sklearn.model_selection import GridSearchCV\n",
    "from sklearn.tree import DecisionTreeClassifier\n",
    "h_dt=DecisionTreeClassifier()"
   ]
  },
  {
   "cell_type": "code",
   "execution_count": 92,
   "metadata": {
    "executionInfo": {
     "elapsed": 672,
     "status": "ok",
     "timestamp": 1670051151669,
     "user": {
      "displayName": "Shrikant Chormale",
      "userId": "06649212260482941230"
     },
     "user_tz": -330
    },
    "id": "da05044c-e424-4214-b5b2-e898845a4c22"
   },
   "outputs": [],
   "source": [
    "search_dt={\"criterion\": (\"gini\", \"entropy\"), \n",
    "          \"splitter\": (\"best\", \"random\"), \n",
    "          \"max_depth\": np.arange(1,20)}"
   ]
  },
  {
   "cell_type": "code",
   "execution_count": 93,
   "metadata": {
    "executionInfo": {
     "elapsed": 4,
     "status": "ok",
     "timestamp": 1670051153360,
     "user": {
      "displayName": "Shrikant Chormale",
      "userId": "06649212260482941230"
     },
     "user_tz": -330
    },
    "id": "ee910643-19fb-40a0-948e-bc9db65860e3"
   },
   "outputs": [],
   "source": [
    "grid=GridSearchCV(h_dt,param_grid=search_dt)"
   ]
  },
  {
   "cell_type": "code",
   "execution_count": 94,
   "metadata": {
    "colab": {
     "base_uri": "https://localhost:8080/"
    },
    "executionInfo": {
     "elapsed": 65236,
     "status": "ok",
     "timestamp": 1670051224288,
     "user": {
      "displayName": "Shrikant Chormale",
      "userId": "06649212260482941230"
     },
     "user_tz": -330
    },
    "id": "f7cd78b6-e5ef-49e6-a3c3-fb6bc0953d60",
    "outputId": "dfb74b70-ba47-4933-8e9a-769b41cf2c12"
   },
   "outputs": [
    {
     "data": {
      "text/plain": [
       "GridSearchCV(estimator=DecisionTreeClassifier(),\n",
       "             param_grid={'criterion': ('gini', 'entropy'),\n",
       "                         'max_depth': array([ 1,  2,  3,  4,  5,  6,  7,  8,  9, 10, 11, 12, 13, 14, 15, 16, 17,\n",
       "       18, 19]),\n",
       "                         'splitter': ('best', 'random')})"
      ]
     },
     "execution_count": 94,
     "metadata": {},
     "output_type": "execute_result"
    }
   ],
   "source": [
    "grid.fit(X_train,y_train)"
   ]
  },
  {
   "cell_type": "code",
   "execution_count": 95,
   "metadata": {
    "colab": {
     "base_uri": "https://localhost:8080/"
    },
    "executionInfo": {
     "elapsed": 8,
     "status": "ok",
     "timestamp": 1670051224289,
     "user": {
      "displayName": "Shrikant Chormale",
      "userId": "06649212260482941230"
     },
     "user_tz": -330
    },
    "id": "0cbbdf53-0cc0-4063-bedc-167505fd40e0",
    "outputId": "f2f60415-c3aa-47e8-f119-c7de02da3f4b"
   },
   "outputs": [
    {
     "data": {
      "text/plain": [
       "{'criterion': 'gini', 'max_depth': 14, 'splitter': 'best'}"
      ]
     },
     "execution_count": 95,
     "metadata": {},
     "output_type": "execute_result"
    }
   ],
   "source": [
    "grid.best_params_"
   ]
  },
  {
   "cell_type": "code",
   "execution_count": 96,
   "metadata": {
    "executionInfo": {
     "elapsed": 5,
     "status": "ok",
     "timestamp": 1670051226119,
     "user": {
      "displayName": "Shrikant Chormale",
      "userId": "06649212260482941230"
     },
     "user_tz": -330
    },
    "id": "df0d110f-6887-42b9-8fef-a65699fc633e"
   },
   "outputs": [],
   "source": [
    "search={\"max_depth\": [5, 10, 15, 20, 25, 30],\n",
    "         'min_samples_split': range(100, 1000, 100)}"
   ]
  },
  {
   "cell_type": "code",
   "execution_count": 97,
   "metadata": {
    "executionInfo": {
     "elapsed": 682,
     "status": "ok",
     "timestamp": 1670051245973,
     "user": {
      "displayName": "Shrikant Chormale",
      "userId": "06649212260482941230"
     },
     "user_tz": -330
    },
    "id": "176d0d57-9096-453d-9b00-d1a599efd9e6"
   },
   "outputs": [],
   "source": [
    "grid=GridSearchCV(h_dt,param_grid=search)"
   ]
  },
  {
   "cell_type": "code",
   "execution_count": 98,
   "metadata": {
    "colab": {
     "base_uri": "https://localhost:8080/"
    },
    "executionInfo": {
     "elapsed": 80533,
     "status": "ok",
     "timestamp": 1670051331072,
     "user": {
      "displayName": "Shrikant Chormale",
      "userId": "06649212260482941230"
     },
     "user_tz": -330
    },
    "id": "0904f40e-1053-48dd-874d-b6bc685ecf4f",
    "outputId": "146ddfa7-dd56-490d-9bd8-d3a11f92bbac"
   },
   "outputs": [
    {
     "data": {
      "text/plain": [
       "GridSearchCV(estimator=DecisionTreeClassifier(),\n",
       "             param_grid={'max_depth': [5, 10, 15, 20, 25, 30],\n",
       "                         'min_samples_split': range(100, 1000, 100)})"
      ]
     },
     "execution_count": 98,
     "metadata": {},
     "output_type": "execute_result"
    }
   ],
   "source": [
    "grid.fit(X_train,y_train)"
   ]
  },
  {
   "cell_type": "code",
   "execution_count": 99,
   "metadata": {
    "colab": {
     "base_uri": "https://localhost:8080/"
    },
    "executionInfo": {
     "elapsed": 8,
     "status": "ok",
     "timestamp": 1670051331073,
     "user": {
      "displayName": "Shrikant Chormale",
      "userId": "06649212260482941230"
     },
     "user_tz": -330
    },
    "id": "aa2a6274-b63b-4a64-9b03-0eaec63a548a",
    "outputId": "acc247d2-c338-44db-ff88-542bcb07eaa4"
   },
   "outputs": [
    {
     "data": {
      "text/plain": [
       "{'max_depth': 25, 'min_samples_split': 100}"
      ]
     },
     "execution_count": 99,
     "metadata": {},
     "output_type": "execute_result"
    }
   ],
   "source": [
    "grid.best_params_"
   ]
  },
  {
   "cell_type": "code",
   "execution_count": 100,
   "metadata": {
    "executionInfo": {
     "elapsed": 7,
     "status": "ok",
     "timestamp": 1670051331074,
     "user": {
      "displayName": "Shrikant Chormale",
      "userId": "06649212260482941230"
     },
     "user_tz": -330
    },
    "id": "757d1a84-333e-4685-aa38-9e178e5ac3dc"
   },
   "outputs": [],
   "source": [
    "search={\"min_samples_leaf\": np.arange(1,20)}"
   ]
  },
  {
   "cell_type": "code",
   "execution_count": 101,
   "metadata": {
    "colab": {
     "base_uri": "https://localhost:8080/"
    },
    "executionInfo": {
     "elapsed": 34855,
     "status": "ok",
     "timestamp": 1670051367674,
     "user": {
      "displayName": "Shrikant Chormale",
      "userId": "06649212260482941230"
     },
     "user_tz": -330
    },
    "id": "e65e2362-1e3d-44f0-b500-767131d9cdaa",
    "outputId": "fd47d284-7442-4579-9703-826f7705a4a5"
   },
   "outputs": [
    {
     "data": {
      "text/plain": [
       "GridSearchCV(estimator=DecisionTreeClassifier(),\n",
       "             param_grid={'min_samples_leaf': array([ 1,  2,  3,  4,  5,  6,  7,  8,  9, 10, 11, 12, 13, 14, 15, 16, 17,\n",
       "       18, 19])})"
      ]
     },
     "execution_count": 101,
     "metadata": {},
     "output_type": "execute_result"
    }
   ],
   "source": [
    "grid=GridSearchCV(h_dt,param_grid=search)\n",
    "grid.fit(X_train,y_train)"
   ]
  },
  {
   "cell_type": "code",
   "execution_count": 102,
   "metadata": {
    "colab": {
     "base_uri": "https://localhost:8080/"
    },
    "executionInfo": {
     "elapsed": 31,
     "status": "ok",
     "timestamp": 1670051367675,
     "user": {
      "displayName": "Shrikant Chormale",
      "userId": "06649212260482941230"
     },
     "user_tz": -330
    },
    "id": "f3d3cccf-94b8-4ff4-9d80-f628cb428faa",
    "outputId": "ea84a25e-a36b-4535-a6ae-67e516ed8a22"
   },
   "outputs": [
    {
     "data": {
      "text/plain": [
       "{'min_samples_leaf': 10}"
      ]
     },
     "execution_count": 102,
     "metadata": {},
     "output_type": "execute_result"
    }
   ],
   "source": [
    "grid.best_params_"
   ]
  },
  {
   "cell_type": "code",
   "execution_count": 103,
   "metadata": {
    "colab": {
     "base_uri": "https://localhost:8080/"
    },
    "executionInfo": {
     "elapsed": 30,
     "status": "ok",
     "timestamp": 1670051367676,
     "user": {
      "displayName": "Shrikant Chormale",
      "userId": "06649212260482941230"
     },
     "user_tz": -330
    },
    "id": "3933250d-43f5-485a-9161-df87631f0020",
    "outputId": "5e6dc701-8bd6-4f2b-fec2-ce413943e982"
   },
   "outputs": [
    {
     "data": {
      "text/plain": [
       "{'min_samples_leaf': 10}"
      ]
     },
     "execution_count": 103,
     "metadata": {},
     "output_type": "execute_result"
    }
   ],
   "source": [
    "# optimise the parameter\n",
    "#criterion': 'gini', 'max_depth': 20, 'splitter': 'best'}\n",
    "#{'max_depth': 25, 'min_samples_split': 100}\n",
    "{'min_samples_leaf': 10}"
   ]
  },
  {
   "cell_type": "code",
   "execution_count": 104,
   "metadata": {
    "executionInfo": {
     "elapsed": 23,
     "status": "ok",
     "timestamp": 1670051367677,
     "user": {
      "displayName": "Shrikant Chormale",
      "userId": "06649212260482941230"
     },
     "user_tz": -330
    },
    "id": "91dea4d1-223d-4110-9901-3c0bd30d9afc"
   },
   "outputs": [],
   "source": [
    "dt=DecisionTreeClassifier(criterion='gini',max_depth=25,splitter='best',min_samples_leaf= 10)\n"
   ]
  },
  {
   "cell_type": "code",
   "execution_count": 105,
   "metadata": {
    "colab": {
     "base_uri": "https://localhost:8080/"
    },
    "executionInfo": {
     "elapsed": 1042,
     "status": "ok",
     "timestamp": 1670051411529,
     "user": {
      "displayName": "Shrikant Chormale",
      "userId": "06649212260482941230"
     },
     "user_tz": -330
    },
    "id": "668304bd-e8b4-4e65-a8d3-4730c23b2685",
    "outputId": "b0885c0b-7e91-4b7d-d17b-7a0b2c467701"
   },
   "outputs": [
    {
     "data": {
      "text/plain": [
       "DecisionTreeClassifier(max_depth=25, min_samples_leaf=10)"
      ]
     },
     "execution_count": 105,
     "metadata": {},
     "output_type": "execute_result"
    }
   ],
   "source": [
    "dt.fit(X_train,y_train)"
   ]
  },
  {
   "cell_type": "code",
   "execution_count": 106,
   "metadata": {
    "executionInfo": {
     "elapsed": 656,
     "status": "ok",
     "timestamp": 1670051425292,
     "user": {
      "displayName": "Shrikant Chormale",
      "userId": "06649212260482941230"
     },
     "user_tz": -330
    },
    "id": "14cfb3a1-2380-4d4d-9461-ab313baabc59"
   },
   "outputs": [],
   "source": [
    "# predict the model test data\n",
    "dt_test_pred=dt.predict(X_test)\n",
    "# predict the model train data \n",
    "dt_train_pred=dt.predict(X_train)"
   ]
  },
  {
   "cell_type": "code",
   "execution_count": 107,
   "metadata": {
    "colab": {
     "base_uri": "https://localhost:8080/"
    },
    "executionInfo": {
     "elapsed": 419,
     "status": "ok",
     "timestamp": 1670051432382,
     "user": {
      "displayName": "Shrikant Chormale",
      "userId": "06649212260482941230"
     },
     "user_tz": -330
    },
    "id": "87d64139-55f1-4d80-90cf-cb31ba6d274f",
    "outputId": "91332758-a13c-4c68-d61e-4adf710c0fd0"
   },
   "outputs": [
    {
     "name": "stdout",
     "output_type": "stream",
     "text": [
      "Train=Accuracy: 0.9691143473096044\n"
     ]
    }
   ],
   "source": [
    "# train data accuracy\n",
    "print(\"Train=Accuracy:\",metrics.accuracy_score(y_train,dt_train_pred))"
   ]
  },
  {
   "cell_type": "code",
   "execution_count": 108,
   "metadata": {
    "colab": {
     "base_uri": "https://localhost:8080/"
    },
    "executionInfo": {
     "elapsed": 374,
     "status": "ok",
     "timestamp": 1670051435520,
     "user": {
      "displayName": "Shrikant Chormale",
      "userId": "06649212260482941230"
     },
     "user_tz": -330
    },
    "id": "3e887e19-e555-4e69-8df6-17bac0270d9c",
    "outputId": "9e2a2005-5187-4aee-d0c6-5fd4c00d150c"
   },
   "outputs": [
    {
     "name": "stdout",
     "output_type": "stream",
     "text": [
      "Test=Accuracy: 0.9516220100605687\n"
     ]
    }
   ],
   "source": [
    "# test data accuracy\n",
    "print(\"Test=Accuracy:\",metrics.accuracy_score(y_test,dt_test_pred))"
   ]
  },
  {
   "cell_type": "code",
   "execution_count": 109,
   "metadata": {
    "executionInfo": {
     "elapsed": 686,
     "status": "ok",
     "timestamp": 1670051446564,
     "user": {
      "displayName": "Shrikant Chormale",
      "userId": "06649212260482941230"
     },
     "user_tz": -330
    },
    "id": "a961e210-df19-425e-81dc-1752f47785ef"
   },
   "outputs": [],
   "source": [
    "# confusion matrix"
   ]
  },
  {
   "cell_type": "code",
   "execution_count": 110,
   "metadata": {
    "colab": {
     "base_uri": "https://localhost:8080/"
    },
    "executionInfo": {
     "elapsed": 5,
     "status": "ok",
     "timestamp": 1670051447236,
     "user": {
      "displayName": "Shrikant Chormale",
      "userId": "06649212260482941230"
     },
     "user_tz": -330
    },
    "id": "301946a7-c01a-452f-a1a5-807c33116a75",
    "outputId": "2df7f9f3-1302-4047-ac7d-4df12c4655cb"
   },
   "outputs": [
    {
     "data": {
      "text/plain": [
       "array([[21229,   750],\n",
       "       [ 1135, 15850]], dtype=int64)"
      ]
     },
     "execution_count": 110,
     "metadata": {},
     "output_type": "execute_result"
    }
   ],
   "source": [
    "from sklearn.metrics import confusion_matrix \n",
    "cnf_metrics=confusion_matrix(y_test,dt_test_pred)\n",
    "cnf_metrics"
   ]
  },
  {
   "cell_type": "code",
   "execution_count": 111,
   "metadata": {
    "colab": {
     "base_uri": "https://localhost:8080/",
     "height": 342
    },
    "executionInfo": {
     "elapsed": 517,
     "status": "ok",
     "timestamp": 1670051450811,
     "user": {
      "displayName": "Shrikant Chormale",
      "userId": "06649212260482941230"
     },
     "user_tz": -330
    },
    "id": "a5afa3e7-de6e-40c1-b619-d46973077aa7",
    "outputId": "b47a9e10-ec16-47b1-a1ad-f11236e69be8"
   },
   "outputs": [
    {
     "data": {
      "text/plain": [
       "Text(0.5, 257.44, 'Predicted label')"
      ]
     },
     "execution_count": 111,
     "metadata": {},
     "output_type": "execute_result"
    },
    {
     "data": {
      "image/png": "[encoded data removed]",
      "text/plain": [
       "<Figure size 432x288 with 2 Axes>"
      ]
     },
     "metadata": {},
     "output_type": "display_data"
    }
   ],
   "source": [
    "import seaborn as sns\n",
    "import  matplotlib.pyplot as plt\n",
    "class_names=[0,1] # name  of classes\n",
    "fig, ax = plt.subplots()\n",
    "tick_marks = np.arange(len(class_names))\n",
    "plt.xticks(tick_marks, class_names)\n",
    "plt.yticks(tick_marks, class_names)\n",
    "# create heatmap\n",
    "sns.heatmap(pd.DataFrame(cnf_metrics), annot=True, cmap=\"YlGnBu\" ,fmt='g')\n",
    "ax.xaxis.set_label_position(\"top\")\n",
    "plt.tight_layout()\n",
    "plt.title('Confusion matrix', y=1.1)\n",
    "plt.ylabel('Actual label')\n",
    "plt.xlabel('Predicted label')"
   ]
  },
  {
   "cell_type": "code",
   "execution_count": 112,
   "metadata": {
    "colab": {
     "base_uri": "https://localhost:8080/"
    },
    "executionInfo": {
     "elapsed": 374,
     "status": "ok",
     "timestamp": 1670051454052,
     "user": {
      "displayName": "Shrikant Chormale",
      "userId": "06649212260482941230"
     },
     "user_tz": -330
    },
    "id": "d9ef386b-1436-4ab6-8c26-5a192025e7d2",
    "outputId": "10a28ebd-87b4-421b-861e-3d64107ab3c5"
   },
   "outputs": [
    {
     "name": "stdout",
     "output_type": "stream",
     "text": [
      "              precision    recall  f1-score   support\n",
      "\n",
      "           0       0.95      0.97      0.96     21979\n",
      "           1       0.95      0.93      0.94     16985\n",
      "\n",
      "    accuracy                           0.95     38964\n",
      "   macro avg       0.95      0.95      0.95     38964\n",
      "weighted avg       0.95      0.95      0.95     38964\n",
      "\n"
     ]
    }
   ],
   "source": [
    "p_r_f=metrics.classification_report(y_test,dt_test_pred)\n",
    "print(p_r_f)"
   ]
  },
  {
   "cell_type": "markdown",
   "metadata": {
    "executionInfo": {
     "elapsed": 667,
     "status": "ok",
     "timestamp": 1670051459134,
     "user": {
      "displayName": "Shrikant Chormale",
      "userId": "06649212260482941230"
     },
     "user_tz": -330
    },
    "id": "aa19685c-a27d-4033-a7d5-b0d72ced1aa2"
   },
   "source": [
    "# Random Forest "
   ]
  },
  {
   "cell_type": "code",
   "execution_count": 113,
   "metadata": {
    "colab": {
     "base_uri": "https://localhost:8080/"
    },
    "executionInfo": {
     "elapsed": 8847,
     "status": "ok",
     "timestamp": 1670051470174,
     "user": {
      "displayName": "Shrikant Chormale",
      "userId": "06649212260482941230"
     },
     "user_tz": -330
    },
    "id": "0a7d1de0-6c55-4450-9934-981c2504a8c0",
    "outputId": "dc7b5275-ff01-44a7-cbdf-b2d6e57825ac"
   },
   "outputs": [
    {
     "data": {
      "text/plain": [
       "RandomForestClassifier()"
      ]
     },
     "execution_count": 113,
     "metadata": {},
     "output_type": "execute_result"
    }
   ],
   "source": [
    "from sklearn.ensemble import RandomForestClassifier\n",
    "rfc=RandomForestClassifier()\n",
    "rfc.fit(X_train,y_train)"
   ]
  },
  {
   "cell_type": "code",
   "execution_count": 114,
   "metadata": {
    "executionInfo": {
     "elapsed": 2311,
     "status": "ok",
     "timestamp": 1670051473942,
     "user": {
      "displayName": "Shrikant Chormale",
      "userId": "06649212260482941230"
     },
     "user_tz": -330
    },
    "id": "1e90270e-4d8a-42ac-a1cd-ef714fae3ee4"
   },
   "outputs": [],
   "source": [
    "# predict the model test data\n",
    "rfc_test_pred=rfc.predict(X_test)\n",
    "# predict the model train data \n",
    "rfc_train_pred=rfc.predict(X_train)"
   ]
  },
  {
   "cell_type": "code",
   "execution_count": 115,
   "metadata": {
    "colab": {
     "base_uri": "https://localhost:8080/"
    },
    "executionInfo": {
     "elapsed": 666,
     "status": "ok",
     "timestamp": 1670051497101,
     "user": {
      "displayName": "Shrikant Chormale",
      "userId": "06649212260482941230"
     },
     "user_tz": -330
    },
    "id": "1fa4e94a-6865-49a6-a15d-903829853787",
    "outputId": "29347f9c-18ca-4d19-bb39-67267cd49a03"
   },
   "outputs": [
    {
     "name": "stdout",
     "output_type": "stream",
     "text": [
      "Accuracy=train: 1.0\n",
      "Accuracy=test: 0.9621188789651987\n"
     ]
    }
   ],
   "source": [
    "print(\"Accuracy=train:\",metrics.accuracy_score(y_train,rfc_train_pred))\n",
    "print(\"Accuracy=test:\",metrics.accuracy_score(y_test,rfc_test_pred))"
   ]
  },
  {
   "cell_type": "code",
   "execution_count": 116,
   "metadata": {
    "colab": {
     "base_uri": "https://localhost:8080/"
    },
    "executionInfo": {
     "elapsed": 383,
     "status": "ok",
     "timestamp": 1670051500608,
     "user": {
      "displayName": "Shrikant Chormale",
      "userId": "06649212260482941230"
     },
     "user_tz": -330
    },
    "id": "17c7433b-5a6b-44e4-afaa-6d88bf2370a6",
    "outputId": "b72646d1-4cb2-44a3-9a05-15046e5bcfc5"
   },
   "outputs": [
    {
     "data": {
      "text/plain": [
       "array([[21570,   409],\n",
       "       [ 1067, 15918]], dtype=int64)"
      ]
     },
     "execution_count": 116,
     "metadata": {},
     "output_type": "execute_result"
    }
   ],
   "source": [
    "from sklearn.metrics import confusion_matrix \n",
    "cnf_metrics=confusion_matrix(y_test,rfc_test_pred)\n",
    "cnf_metrics"
   ]
  },
  {
   "cell_type": "code",
   "execution_count": 117,
   "metadata": {
    "colab": {
     "base_uri": "https://localhost:8080/",
     "height": 342
    },
    "executionInfo": {
     "elapsed": 474,
     "status": "ok",
     "timestamp": 1670051503594,
     "user": {
      "displayName": "Shrikant Chormale",
      "userId": "06649212260482941230"
     },
     "user_tz": -330
    },
    "id": "bb0643fa-db84-472b-a47c-c26c30f3400e",
    "outputId": "2d5e04dd-7704-47ae-b480-7c7139618ac9"
   },
   "outputs": [
    {
     "data": {
      "text/plain": [
       "Text(0.5, 257.44, 'Predicted label')"
      ]
     },
     "execution_count": 117,
     "metadata": {},
     "output_type": "execute_result"
    },
    {
     "data": {
      "image/png": "[encoded data removed]",
      "text/plain": [
       "<Figure size 432x288 with 2 Axes>"
      ]
     },
     "metadata": {},
     "output_type": "display_data"
    }
   ],
   "source": [
    "import seaborn as sns\n",
    "import  matplotlib.pyplot as plt\n",
    "class_names=[0,1] # name  of classes\n",
    "fig, ax = plt.subplots()\n",
    "tick_marks = np.arange(len(class_names))\n",
    "plt.xticks(tick_marks, class_names)\n",
    "plt.yticks(tick_marks, class_names)\n",
    "# create heatmap\n",
    "sns.heatmap(pd.DataFrame(cnf_metrics), annot=True, cmap=\"YlGnBu\" ,fmt='g')\n",
    "ax.xaxis.set_label_position(\"top\")\n",
    "plt.tight_layout()\n",
    "plt.title('Confusion matrix', y=1.1)\n",
    "plt.ylabel('Actual label')\n",
    "plt.xlabel('Predicted label')"
   ]
  },
  {
   "cell_type": "code",
   "execution_count": 118,
   "metadata": {
    "colab": {
     "base_uri": "https://localhost:8080/"
    },
    "executionInfo": {
     "elapsed": 3,
     "status": "ok",
     "timestamp": 1670051505213,
     "user": {
      "displayName": "Shrikant Chormale",
      "userId": "06649212260482941230"
     },
     "user_tz": -330
    },
    "id": "1793e620-1b84-4639-b8d7-25f9574a9d34",
    "outputId": "5a6c250e-16d3-4b0a-b1ca-051b3af3c50b"
   },
   "outputs": [
    {
     "name": "stdout",
     "output_type": "stream",
     "text": [
      "              precision    recall  f1-score   support\n",
      "\n",
      "           0       0.95      0.98      0.97     21979\n",
      "           1       0.97      0.94      0.96     16985\n",
      "\n",
      "    accuracy                           0.96     38964\n",
      "   macro avg       0.96      0.96      0.96     38964\n",
      "weighted avg       0.96      0.96      0.96     38964\n",
      "\n"
     ]
    }
   ],
   "source": [
    "p_r_f=metrics.classification_report(y_test,rfc_test_pred)\n",
    "print(p_r_f)"
   ]
  },
  {
   "cell_type": "code",
   "execution_count": 119,
   "metadata": {
    "executionInfo": {
     "elapsed": 379,
     "status": "ok",
     "timestamp": 1670051508145,
     "user": {
      "displayName": "Shrikant Chormale",
      "userId": "06649212260482941230"
     },
     "user_tz": -330
    },
    "id": "02c1c701-b075-458a-871e-b9239f64d0f3"
   },
   "outputs": [],
   "source": [
    "# using hyper parameter "
   ]
  },
  {
   "cell_type": "code",
   "execution_count": 120,
   "metadata": {
    "executionInfo": {
     "elapsed": 2,
     "status": "ok",
     "timestamp": 1670051509533,
     "user": {
      "displayName": "Shrikant Chormale",
      "userId": "06649212260482941230"
     },
     "user_tz": -330
    },
    "id": "262a5ce1-2843-4483-864e-e3649ad9e4b7"
   },
   "outputs": [],
   "source": [
    "from sklearn.ensemble import RandomForestClassifier\n",
    "from sklearn.model_selection import RandomizedSearchCV\n",
    "rfc=RandomForestClassifier()"
   ]
  },
  {
   "cell_type": "code",
   "execution_count": 121,
   "metadata": {
    "executionInfo": {
     "elapsed": 2,
     "status": "ok",
     "timestamp": 1670051511161,
     "user": {
      "displayName": "Shrikant Chormale",
      "userId": "06649212260482941230"
     },
     "user_tz": -330
    },
    "id": "a7ec9bb0-2783-41b7-b061-719d1fe6f210"
   },
   "outputs": [],
   "source": [
    "param={'n_estimators': [10,25, 50, 75, 100, 150, 200],\n",
    "          'criterion':['gini', 'entropy']}"
   ]
  },
  {
   "cell_type": "code",
   "execution_count": 122,
   "metadata": {
    "colab": {
     "base_uri": "https://localhost:8080/"
    },
    "executionInfo": {
     "elapsed": 360606,
     "status": "ok",
     "timestamp": 1670051872438,
     "user": {
      "displayName": "Shrikant Chormale",
      "userId": "06649212260482941230"
     },
     "user_tz": -330
    },
    "id": "ef4bb153-f1bb-4a18-bd51-09d9dcd8397e",
    "outputId": "4778987c-28d7-4666-9606-a1bcf26da308"
   },
   "outputs": [
    {
     "data": {
      "text/plain": [
       "RandomizedSearchCV(estimator=RandomForestClassifier(),\n",
       "                   param_distributions={'criterion': ['gini', 'entropy'],\n",
       "                                        'n_estimators': [10, 25, 50, 75, 100,\n",
       "                                                         150, 200]})"
      ]
     },
     "execution_count": 122,
     "metadata": {},
     "output_type": "execute_result"
    }
   ],
   "source": [
    "grid=RandomizedSearchCV(rfc,param)\n",
    "grid.fit(X_train,y_train)"
   ]
  },
  {
   "cell_type": "code",
   "execution_count": 123,
   "metadata": {
    "colab": {
     "base_uri": "https://localhost:8080/"
    },
    "executionInfo": {
     "elapsed": 7,
     "status": "ok",
     "timestamp": 1670051872438,
     "user": {
      "displayName": "Shrikant Chormale",
      "userId": "06649212260482941230"
     },
     "user_tz": -330
    },
    "id": "a8b50b29-648f-409f-8713-93990019690b",
    "outputId": "ec5d2380-d8cf-461e-f300-f2add70fc1c2"
   },
   "outputs": [
    {
     "data": {
      "text/plain": [
       "{'n_estimators': 50, 'criterion': 'gini'}"
      ]
     },
     "execution_count": 123,
     "metadata": {},
     "output_type": "execute_result"
    }
   ],
   "source": [
    "grid.best_params_"
   ]
  },
  {
   "cell_type": "code",
   "execution_count": 124,
   "metadata": {
    "executionInfo": {
     "elapsed": 674,
     "status": "ok",
     "timestamp": 1670051878029,
     "user": {
      "displayName": "Shrikant Chormale",
      "userId": "06649212260482941230"
     },
     "user_tz": -330
    },
    "id": "d4cd3be1-4aba-4012-b792-48ad1322b3d2"
   },
   "outputs": [],
   "source": [
    "pram_r={'min_samples_leaf':np.arange(10,40,10),\n",
    "        'min_samples_split':np.arange(2,15,5)}"
   ]
  },
  {
   "cell_type": "code",
   "execution_count": 125,
   "metadata": {
    "colab": {
     "base_uri": "https://localhost:8080/"
    },
    "executionInfo": {
     "elapsed": 278513,
     "status": "ok",
     "timestamp": 1670052157214,
     "user": {
      "displayName": "Shrikant Chormale",
      "userId": "06649212260482941230"
     },
     "user_tz": -330
    },
    "id": "ab9fccd8-be89-4ae3-9f52-65b71550c22c",
    "outputId": "b9a0b7bf-d266-48e2-c6e9-00459f76a335"
   },
   "outputs": [
    {
     "data": {
      "text/plain": [
       "RandomizedSearchCV(estimator=RandomForestClassifier(),\n",
       "                   param_distributions={'min_samples_leaf': array([10, 20, 30]),\n",
       "                                        'min_samples_split': array([ 2,  7, 12])})"
      ]
     },
     "execution_count": 125,
     "metadata": {},
     "output_type": "execute_result"
    }
   ],
   "source": [
    "grid_r=RandomizedSearchCV(rfc,pram_r)\n",
    "grid_r.fit(X_train,y_train)"
   ]
  },
  {
   "cell_type": "code",
   "execution_count": 126,
   "metadata": {
    "colab": {
     "base_uri": "https://localhost:8080/"
    },
    "executionInfo": {
     "elapsed": 6,
     "status": "ok",
     "timestamp": 1670052157214,
     "user": {
      "displayName": "Shrikant Chormale",
      "userId": "06649212260482941230"
     },
     "user_tz": -330
    },
    "id": "432cfcdf-9bfd-45b3-b196-db3824f1b3b1",
    "outputId": "4a014530-be20-43b9-be7c-438dd90f5cc1"
   },
   "outputs": [
    {
     "data": {
      "text/plain": [
       "{'min_samples_split': 7, 'min_samples_leaf': 10}"
      ]
     },
     "execution_count": 126,
     "metadata": {},
     "output_type": "execute_result"
    }
   ],
   "source": [
    "grid_r.best_params_"
   ]
  },
  {
   "cell_type": "code",
   "execution_count": 127,
   "metadata": {
    "executionInfo": {
     "elapsed": 380,
     "status": "ok",
     "timestamp": 1670052162443,
     "user": {
      "displayName": "Shrikant Chormale",
      "userId": "06649212260482941230"
     },
     "user_tz": -330
    },
    "id": "eb789064-98df-446d-9e88-9bdba2365fc2"
   },
   "outputs": [],
   "source": [
    "from sklearn.ensemble import RandomForestClassifier\n",
    "from sklearn.model_selection import RandomizedSearchCV\n",
    "rfc=RandomForestClassifier(n_estimators=100,criterion='entropy',min_samples_split=7,min_samples_leaf=10)"
   ]
  },
  {
   "cell_type": "code",
   "execution_count": 128,
   "metadata": {
    "colab": {
     "base_uri": "https://localhost:8080/"
    },
    "executionInfo": {
     "elapsed": 8253,
     "status": "ok",
     "timestamp": 1670052172490,
     "user": {
      "displayName": "Shrikant Chormale",
      "userId": "06649212260482941230"
     },
     "user_tz": -330
    },
    "id": "df16236f-076c-4899-a26e-ff7a3573d79c",
    "outputId": "fa6dfc89-9c28-4bc2-cc5b-92bce4114f10"
   },
   "outputs": [
    {
     "data": {
      "text/plain": [
       "RandomForestClassifier(criterion='entropy', min_samples_leaf=10,\n",
       "                       min_samples_split=7)"
      ]
     },
     "execution_count": 128,
     "metadata": {},
     "output_type": "execute_result"
    }
   ],
   "source": [
    "rfc.fit(X_train,y_train)"
   ]
  },
  {
   "cell_type": "code",
   "execution_count": 129,
   "metadata": {
    "executionInfo": {
     "elapsed": 1582,
     "status": "ok",
     "timestamp": 1670052174059,
     "user": {
      "displayName": "Shrikant Chormale",
      "userId": "06649212260482941230"
     },
     "user_tz": -330
    },
    "id": "8bac4691-f22e-4af9-80a0-aee8a1e9eac6"
   },
   "outputs": [],
   "source": [
    "# predict the model test data\n",
    "rfc_test_pred=rfc.predict(X_test)\n",
    "# predict the model train data \n",
    "rfc_train_pred=rfc.predict(X_train)"
   ]
  },
  {
   "cell_type": "code",
   "execution_count": 130,
   "metadata": {
    "colab": {
     "base_uri": "https://localhost:8080/"
    },
    "executionInfo": {
     "elapsed": 4,
     "status": "ok",
     "timestamp": 1670052174059,
     "user": {
      "displayName": "Shrikant Chormale",
      "userId": "06649212260482941230"
     },
     "user_tz": -330
    },
    "id": "ef84f69b-19c4-442f-8421-a440ce2d76a9",
    "outputId": "168618a1-8c78-4a02-97eb-84c384574fa2"
   },
   "outputs": [
    {
     "name": "stdout",
     "output_type": "stream",
     "text": [
      "Accuracy=train: 0.9664855470984205\n",
      "Accuracy=test: 0.9578842008007391\n"
     ]
    }
   ],
   "source": [
    "print(\"Accuracy=train:\",metrics.accuracy_score(y_train,rfc_train_pred))\n",
    "print(\"Accuracy=test:\",metrics.accuracy_score(y_test,rfc_test_pred))"
   ]
  },
  {
   "cell_type": "code",
   "execution_count": 131,
   "metadata": {
    "colab": {
     "base_uri": "https://localhost:8080/"
    },
    "executionInfo": {
     "elapsed": 448,
     "status": "ok",
     "timestamp": 1670052180159,
     "user": {
      "displayName": "Shrikant Chormale",
      "userId": "06649212260482941230"
     },
     "user_tz": -330
    },
    "id": "f1fd2ba1-ef90-4b10-b929-6d290f125c47",
    "outputId": "383cac37-4069-4632-c000-16afadb2929e"
   },
   "outputs": [
    {
     "data": {
      "text/plain": [
       "array([[21451,   528],\n",
       "       [ 1113, 15872]], dtype=int64)"
      ]
     },
     "execution_count": 131,
     "metadata": {},
     "output_type": "execute_result"
    }
   ],
   "source": [
    "from sklearn.metrics import confusion_matrix \n",
    "cnf_metrics=confusion_matrix(y_test,rfc_test_pred)\n",
    "cnf_metrics"
   ]
  },
  {
   "cell_type": "code",
   "execution_count": 132,
   "metadata": {
    "colab": {
     "base_uri": "https://localhost:8080/",
     "height": 342
    },
    "executionInfo": {
     "elapsed": 719,
     "status": "ok",
     "timestamp": 1670052181576,
     "user": {
      "displayName": "Shrikant Chormale",
      "userId": "06649212260482941230"
     },
     "user_tz": -330
    },
    "id": "e0a232f5-2e21-4d27-9b74-8928fc8a4a66",
    "outputId": "689ee11e-e487-4eb5-ee55-2eaee4720d37"
   },
   "outputs": [
    {
     "data": {
      "text/plain": [
       "Text(0.5, 257.44, 'Predicted label')"
      ]
     },
     "execution_count": 132,
     "metadata": {},
     "output_type": "execute_result"
    },
    {
     "data": {
      "image/png": "[encoded data removed]",
      "text/plain": [
       "<Figure size 432x288 with 2 Axes>"
      ]
     },
     "metadata": {},
     "output_type": "display_data"
    }
   ],
   "source": [
    "import seaborn as sns\n",
    "import  matplotlib.pyplot as plt\n",
    "class_names=[0,1] # name  of classes\n",
    "fig, ax = plt.subplots()\n",
    "tick_marks = np.arange(len(class_names))\n",
    "plt.xticks(tick_marks, class_names)\n",
    "plt.yticks(tick_marks, class_names)\n",
    "# create heatmap\n",
    "sns.heatmap(pd.DataFrame(cnf_metrics), annot=True, cmap=\"YlGnBu\" ,fmt='g')\n",
    "ax.xaxis.set_label_position(\"top\")\n",
    "plt.tight_layout()\n",
    "plt.title('Confusion matrix', y=1.1)\n",
    "plt.ylabel('Actual label')\n",
    "plt.xlabel('Predicted label')"
   ]
  },
  {
   "cell_type": "code",
   "execution_count": 133,
   "metadata": {
    "colab": {
     "base_uri": "https://localhost:8080/"
    },
    "executionInfo": {
     "elapsed": 707,
     "status": "ok",
     "timestamp": 1670052184427,
     "user": {
      "displayName": "Shrikant Chormale",
      "userId": "06649212260482941230"
     },
     "user_tz": -330
    },
    "id": "8ae02930-444f-4588-9a9c-8cf29dcf055b",
    "outputId": "9825f9c3-693b-4c9c-c764-031f5a20404e"
   },
   "outputs": [
    {
     "name": "stdout",
     "output_type": "stream",
     "text": [
      "              precision    recall  f1-score   support\n",
      "\n",
      "           0       0.95      0.98      0.96     21979\n",
      "           1       0.97      0.93      0.95     16985\n",
      "\n",
      "    accuracy                           0.96     38964\n",
      "   macro avg       0.96      0.96      0.96     38964\n",
      "weighted avg       0.96      0.96      0.96     38964\n",
      "\n"
     ]
    }
   ],
   "source": [
    "p_r_f=metrics.classification_report(y_test,rfc_test_pred)\n",
    "print(p_r_f)"
   ]
  },
  {
   "cell_type": "markdown",
   "metadata": {
    "executionInfo": {
     "elapsed": 5,
     "status": "ok",
     "timestamp": 1670052186982,
     "user": {
      "displayName": "Shrikant Chormale",
      "userId": "06649212260482941230"
     },
     "user_tz": -330
    },
    "id": "86736121-0626-4d3a-bdb7-27dd5ea29726"
   },
   "source": [
    "# Support vector machin algorithm"
   ]
  },
  {
   "cell_type": "code",
   "execution_count": 134,
   "metadata": {
    "colab": {
     "base_uri": "https://localhost:8080/"
    },
    "executionInfo": {
     "elapsed": 139958,
     "status": "ok",
     "timestamp": 1670052328719,
     "user": {
      "displayName": "Shrikant Chormale",
      "userId": "06649212260482941230"
     },
     "user_tz": -330
    },
    "id": "9b23aa2d-ccf6-440a-a4ed-4c416303bc39",
    "outputId": "4a559cc2-0fc3-4fb2-91a9-8c77e293d22e"
   },
   "outputs": [
    {
     "data": {
      "text/plain": [
       "SVC()"
      ]
     },
     "execution_count": 134,
     "metadata": {},
     "output_type": "execute_result"
    }
   ],
   "source": [
    "from sklearn import svm\n",
    "\n",
    "svm = svm.SVC()\n",
    "\n",
    "svm.fit(X_train, y_train)"
   ]
  },
  {
   "cell_type": "code",
   "execution_count": null,
   "metadata": {
    "colab": {
     "base_uri": "https://localhost:8080/"
    },
    "executionInfo": {
     "elapsed": 134746,
     "status": "ok",
     "timestamp": 1670052463452,
     "user": {
      "displayName": "Shrikant Chormale",
      "userId": "06649212260482941230"
     },
     "user_tz": -330
    },
    "id": "9480c4df-bbc7-42ff-b0ea-915601c22b68",
    "outputId": "65e72f63-3553-4394-9989-895d7f07979a"
   },
   "outputs": [],
   "source": [
    "svm.fit(X_train,y_train)"
   ]
  },
  {
   "cell_type": "code",
   "execution_count": null,
   "metadata": {
    "executionInfo": {
     "elapsed": 116600,
     "status": "ok",
     "timestamp": 1670052580038,
     "user": {
      "displayName": "Shrikant Chormale",
      "userId": "06649212260482941230"
     },
     "user_tz": -330
    },
    "id": "e97db68c-2504-4cb2-9f9b-43d0c9b09196"
   },
   "outputs": [],
   "source": [
    "# predict the model test data\n",
    "svm_test_pred=svm.predict(X_test)\n",
    "# predict the model train data \n",
    "svn_train_pred=svm.predict(X_train)"
   ]
  },
  {
   "cell_type": "code",
   "execution_count": null,
   "metadata": {
    "colab": {
     "base_uri": "https://localhost:8080/"
    },
    "executionInfo": {
     "elapsed": 482,
     "status": "ok",
     "timestamp": 1670052589426,
     "user": {
      "displayName": "Shrikant Chormale",
      "userId": "06649212260482941230"
     },
     "user_tz": -330
    },
    "id": "56278b76-f1df-42d0-8772-47cc2c0c36c4",
    "outputId": "7533b50b-c638-455f-addb-c34cb63a5bd5"
   },
   "outputs": [],
   "source": [
    "print(\"Accuracy=train:\",metrics.accuracy_score(y_train,svn_train_pred))\n",
    "print(\"Accuracy=test:\",metrics.accuracy_score(y_test,svm_test_pred))"
   ]
  },
  {
   "cell_type": "code",
   "execution_count": null,
   "metadata": {
    "colab": {
     "base_uri": "https://localhost:8080/"
    },
    "executionInfo": {
     "elapsed": 659,
     "status": "ok",
     "timestamp": 1670052594640,
     "user": {
      "displayName": "Shrikant Chormale",
      "userId": "06649212260482941230"
     },
     "user_tz": -330
    },
    "id": "99a43152-07ac-4943-a1c2-9cc67d110505",
    "outputId": "50f705af-d86f-452a-9b5b-1602015e14aa"
   },
   "outputs": [],
   "source": [
    "from sklearn.metrics import confusion_matrix \n",
    "cnf_metrics=confusion_matrix(y_test,svm_test_pred)\n",
    "cnf_metrics"
   ]
  },
  {
   "cell_type": "code",
   "execution_count": null,
   "metadata": {
    "colab": {
     "base_uri": "https://localhost:8080/",
     "height": 342
    },
    "executionInfo": {
     "elapsed": 501,
     "status": "ok",
     "timestamp": 1670052600311,
     "user": {
      "displayName": "Shrikant Chormale",
      "userId": "06649212260482941230"
     },
     "user_tz": -330
    },
    "id": "2f47e3bc-3616-44af-aa29-7fc3fa332bc1",
    "outputId": "68750068-5eeb-4abd-e876-4f749732f409"
   },
   "outputs": [],
   "source": [
    "import seaborn as sns\n",
    "import  matplotlib.pyplot as plt\n",
    "class_names=[0,1] # name  of classes\n",
    "fig, ax = plt.subplots()\n",
    "tick_marks = np.arange(len(class_names))\n",
    "plt.xticks(tick_marks, class_names)\n",
    "plt.yticks(tick_marks, class_names)\n",
    "# create heatmap\n",
    "sns.heatmap(pd.DataFrame(cnf_metrics), annot=True, cmap=\"YlGnBu\" ,fmt='g')\n",
    "ax.xaxis.set_label_position(\"top\")\n",
    "plt.tight_layout()\n",
    "plt.title('Confusion matrix', y=1.1)\n",
    "plt.ylabel('Actual label')\n",
    "plt.xlabel('Predicted label')"
   ]
  },
  {
   "cell_type": "code",
   "execution_count": null,
   "metadata": {
    "colab": {
     "base_uri": "https://localhost:8080/"
    },
    "executionInfo": {
     "elapsed": 685,
     "status": "ok",
     "timestamp": 1670052603744,
     "user": {
      "displayName": "Shrikant Chormale",
      "userId": "06649212260482941230"
     },
     "user_tz": -330
    },
    "id": "c7149e94-9592-454b-aa6e-5e511c7c83fa",
    "outputId": "a2c4f0ce-2fb8-4434-bb11-899b7f7e8016"
   },
   "outputs": [],
   "source": [
    "p_r_f=metrics.classification_report(y_test,svm_test_pred)\n",
    "print(p_r_f)"
   ]
  },
  {
   "cell_type": "code",
   "execution_count": null,
   "metadata": {
    "executionInfo": {
     "elapsed": 668,
     "status": "ok",
     "timestamp": 1670052608582,
     "user": {
      "displayName": "Shrikant Chormale",
      "userId": "06649212260482941230"
     },
     "user_tz": -330
    },
    "id": "33f103cf-dc63-4856-b570-e30503a5effc"
   },
   "outputs": [],
   "source": [
    "# using hyperparameter using"
   ]
  },
  {
   "cell_type": "code",
   "execution_count": null,
   "metadata": {
    "executionInfo": {
     "elapsed": 5,
     "status": "ok",
     "timestamp": 1670052609315,
     "user": {
      "displayName": "Shrikant Chormale",
      "userId": "06649212260482941230"
     },
     "user_tz": -330
    },
    "id": "557c24a7-9125-4e0d-9afd-49721533ded0"
   },
   "outputs": [],
   "source": [
    "from sklearn.svm import SVC\n",
    "model = SVC()"
   ]
  },
  {
   "cell_type": "code",
   "execution_count": null,
   "metadata": {
    "executionInfo": {
     "elapsed": 495,
     "status": "ok",
     "timestamp": 1670052613725,
     "user": {
      "displayName": "Shrikant Chormale",
      "userId": "06649212260482941230"
     },
     "user_tz": -330
    },
    "id": "fb464740-fcec-434b-a243-c29f2c5d0ab4"
   },
   "outputs": [],
   "source": [
    "params={'C':(0.1, 0.5, 1, 2, 5, 10, 20),\n",
    "        'gamma':(0.001, 0.01, 0.1, 0.25, 0.5, 0.75, 1),\n",
    "          }\n",
    "        "
   ]
  },
  {
   "cell_type": "code",
   "execution_count": null,
   "metadata": {
    "executionInfo": {
     "elapsed": 723,
     "status": "ok",
     "timestamp": 1670052616986,
     "user": {
      "displayName": "Shrikant Chormale",
      "userId": "06649212260482941230"
     },
     "user_tz": -330
    },
    "id": "b69c94d2-b205-49db-bca1-a3c68d5cf586"
   },
   "outputs": [],
   "source": [
    "svm_grid_rbf = GridSearchCV(model,params,n_jobs=-1,\n",
    "                            cv=3, verbose=1, scoring='accuracy') "
   ]
  },
  {
   "cell_type": "code",
   "execution_count": null,
   "metadata": {
    "executionInfo": {
     "elapsed": 423,
     "status": "ok",
     "timestamp": 1670056160653,
     "user": {
      "displayName": "Shrikant Chormale",
      "userId": "06649212260482941230"
     },
     "user_tz": -330
    },
    "id": "bac557eb-250c-4f27-b9f5-5cbe144aa9ae"
   },
   "outputs": [],
   "source": [
    "#svm_grid_rbf.fit(X_train, y_train) "
   ]
  },
  {
   "cell_type": "code",
   "execution_count": null,
   "metadata": {
    "id": "DKAsnlXjGto6"
   },
   "outputs": [],
   "source": []
  },
  {
   "cell_type": "markdown",
   "metadata": {
    "executionInfo": {
     "elapsed": 680,
     "status": "ok",
     "timestamp": 1670056179151,
     "user": {
      "displayName": "Shrikant Chormale",
      "userId": "06649212260482941230"
     },
     "user_tz": -330
    },
    "id": "_f1THA-RGtsl"
   },
   "source": [
    "# knn"
   ]
  },
  {
   "cell_type": "code",
   "execution_count": null,
   "metadata": {
    "executionInfo": {
     "elapsed": 406,
     "status": "ok",
     "timestamp": 1670056208790,
     "user": {
      "displayName": "Shrikant Chormale",
      "userId": "06649212260482941230"
     },
     "user_tz": -330
    },
    "id": "O4p6-MX1GvCW"
   },
   "outputs": [],
   "source": [
    "from sklearn.neighbors import KNeighborsClassifier"
   ]
  },
  {
   "cell_type": "code",
   "execution_count": null,
   "metadata": {
    "colab": {
     "base_uri": "https://localhost:8080/"
    },
    "executionInfo": {
     "elapsed": 409,
     "status": "ok",
     "timestamp": 1670056237807,
     "user": {
      "displayName": "Shrikant Chormale",
      "userId": "06649212260482941230"
     },
     "user_tz": -330
    },
    "id": "J19awuQiG2Vx",
    "outputId": "93566997-a7de-4386-e92d-de44b7f94a6b"
   },
   "outputs": [],
   "source": [
    "knn = KNeighborsClassifier()\n",
    "knn.fit(X_train, y_train)"
   ]
  },
  {
   "cell_type": "code",
   "execution_count": null,
   "metadata": {
    "executionInfo": {
     "elapsed": 166111,
     "status": "ok",
     "timestamp": 1670056409587,
     "user": {
      "displayName": "Shrikant Chormale",
      "userId": "06649212260482941230"
     },
     "user_tz": -330
    },
    "id": "RW_s7HRCG9bS"
   },
   "outputs": [],
   "source": [
    "# predict the model test data\n",
    "knn_test_pred=knn.predict(X_test)\n",
    "# predict the model train data \n",
    "knn_train_pred=knn.predict(X_train)"
   ]
  },
  {
   "cell_type": "code",
   "execution_count": null,
   "metadata": {
    "colab": {
     "base_uri": "https://localhost:8080/"
    },
    "executionInfo": {
     "elapsed": 701,
     "status": "ok",
     "timestamp": 1670056521626,
     "user": {
      "displayName": "Shrikant Chormale",
      "userId": "06649212260482941230"
     },
     "user_tz": -330
    },
    "id": "RcfwLJcpG-6D",
    "outputId": "61a9f435-2697-45da-cdc9-88bdadd3c602"
   },
   "outputs": [],
   "source": [
    "print(\"Accuracy=train:\",metrics.accuracy_score(y_train,knn_train_pred))\n",
    "print(\"Accuracy=test:\",metrics.accuracy_score(y_test,knn_test_pred))"
   ]
  },
  {
   "cell_type": "code",
   "execution_count": null,
   "metadata": {
    "colab": {
     "base_uri": "https://localhost:8080/"
    },
    "executionInfo": {
     "elapsed": 391,
     "status": "ok",
     "timestamp": 1670056525219,
     "user": {
      "displayName": "Shrikant Chormale",
      "userId": "06649212260482941230"
     },
     "user_tz": -330
    },
    "id": "2So2JfOqHBch",
    "outputId": "82e41e36-4e2e-448d-c2c1-8da7af167fb9"
   },
   "outputs": [],
   "source": [
    "from sklearn.metrics import confusion_matrix \n",
    "cnf_metrics=confusion_matrix(y_test,knn_test_pred)\n",
    "cnf_metrics"
   ]
  },
  {
   "cell_type": "code",
   "execution_count": null,
   "metadata": {
    "colab": {
     "base_uri": "https://localhost:8080/",
     "height": 342
    },
    "executionInfo": {
     "elapsed": 958,
     "status": "ok",
     "timestamp": 1670056527702,
     "user": {
      "displayName": "Shrikant Chormale",
      "userId": "06649212260482941230"
     },
     "user_tz": -330
    },
    "id": "iEBHOE3LHDws",
    "outputId": "9ca97cc4-5f76-4fb4-ca3b-ce3e96beee69"
   },
   "outputs": [],
   "source": [
    "import seaborn as sns\n",
    "import  matplotlib.pyplot as plt\n",
    "class_names=[0,1] # name  of classes\n",
    "fig, ax = plt.subplots()\n",
    "tick_marks = np.arange(len(class_names))\n",
    "plt.xticks(tick_marks, class_names)\n",
    "plt.yticks(tick_marks, class_names)\n",
    "# create heatmap\n",
    "sns.heatmap(pd.DataFrame(cnf_metrics), annot=True, cmap=\"YlGnBu\" ,fmt='g')\n",
    "ax.xaxis.set_label_position(\"top\")\n",
    "plt.tight_layout()\n",
    "plt.title('Confusion matrix', y=1.1)\n",
    "plt.ylabel('Actual label')\n",
    "plt.xlabel('Predicted label')"
   ]
  },
  {
   "cell_type": "code",
   "execution_count": null,
   "metadata": {
    "colab": {
     "base_uri": "https://localhost:8080/"
    },
    "executionInfo": {
     "elapsed": 423,
     "status": "ok",
     "timestamp": 1670056530726,
     "user": {
      "displayName": "Shrikant Chormale",
      "userId": "06649212260482941230"
     },
     "user_tz": -330
    },
    "id": "L5rg9RadHHTf",
    "outputId": "90ed40d8-5685-4982-978b-389e1b8e35e5"
   },
   "outputs": [],
   "source": [
    "p_r_f=metrics.classification_report(y_test,knn_test_pred)\n",
    "print(p_r_f)"
   ]
  },
  {
   "cell_type": "code",
   "execution_count": null,
   "metadata": {
    "executionInfo": {
     "elapsed": 692,
     "status": "ok",
     "timestamp": 1670056533861,
     "user": {
      "displayName": "Shrikant Chormale",
      "userId": "06649212260482941230"
     },
     "user_tz": -330
    },
    "id": "rQJo6hNoHKq3"
   },
   "outputs": [],
   "source": [
    "# using hyperparameter"
   ]
  },
  {
   "cell_type": "code",
   "execution_count": null,
   "metadata": {
    "executionInfo": {
     "elapsed": 2,
     "status": "ok",
     "timestamp": 1670056534520,
     "user": {
      "displayName": "Shrikant Chormale",
      "userId": "06649212260482941230"
     },
     "user_tz": -330
    },
    "id": "iCmCgl1pHLS_"
   },
   "outputs": [],
   "source": [
    "knn = KNeighborsClassifier()"
   ]
  },
  {
   "cell_type": "code",
   "execution_count": null,
   "metadata": {
    "executionInfo": {
     "elapsed": 1,
     "status": "ok",
     "timestamp": 1670056536274,
     "user": {
      "displayName": "Shrikant Chormale",
      "userId": "06649212260482941230"
     },
     "user_tz": -330
    },
    "id": "-GuJkdq7HRb1"
   },
   "outputs": [],
   "source": [
    "params = {'n_neighbors': [1, 2, 3, 4, 5, 6, 7, 8, 9, 10],\n",
    "          'metric':['euclidean','minkowski'],\n",
    "        'weights':['uniform', 'distance']}"
   ]
  },
  {
   "cell_type": "code",
   "execution_count": null,
   "metadata": {
    "executionInfo": {
     "elapsed": 2,
     "status": "ok",
     "timestamp": 1670056536977,
     "user": {
      "displayName": "Shrikant Chormale",
      "userId": "06649212260482941230"
     },
     "user_tz": -330
    },
    "id": "qzvWiz5ZHTP6"
   },
   "outputs": [],
   "source": [
    "grid_search_cv = GridSearchCV(KNeighborsClassifier(),params)"
   ]
  },
  {
   "cell_type": "code",
   "execution_count": null,
   "metadata": {
    "colab": {
     "base_uri": "https://localhost:8080/"
    },
    "executionInfo": {
     "elapsed": 3123356,
     "status": "ok",
     "timestamp": 1670059661385,
     "user": {
      "displayName": "Shrikant Chormale",
      "userId": "06649212260482941230"
     },
     "user_tz": -330
    },
    "id": "ujegxhCJHVnN",
    "outputId": "8bc3c0a4-0f67-4579-bb64-c5bcc02f1590"
   },
   "outputs": [],
   "source": [
    "grid_search_cv.fit(X_train, y_train)"
   ]
  },
  {
   "cell_type": "code",
   "execution_count": null,
   "metadata": {
    "colab": {
     "base_uri": "https://localhost:8080/"
    },
    "executionInfo": {
     "elapsed": 431,
     "status": "ok",
     "timestamp": 1670059705995,
     "user": {
      "displayName": "Shrikant Chormale",
      "userId": "06649212260482941230"
     },
     "user_tz": -330
    },
    "id": "NE3IlU6XIGsK",
    "outputId": "3f53aeef-ad54-4487-cd17-2b27bc0fc252"
   },
   "outputs": [],
   "source": [
    "grid_search_cv.best_params_"
   ]
  },
  {
   "cell_type": "code",
   "execution_count": null,
   "metadata": {
    "colab": {
     "base_uri": "https://localhost:8080/"
    },
    "executionInfo": {
     "elapsed": 406,
     "status": "ok",
     "timestamp": 1670059743790,
     "user": {
      "displayName": "Shrikant Chormale",
      "userId": "06649212260482941230"
     },
     "user_tz": -330
    },
    "id": "uTr696g8UMJO",
    "outputId": "72758a7a-7f3f-4a26-87ec-d0c51ebbdf0e"
   },
   "outputs": [],
   "source": [
    "grid_search_cv.best_estimator_"
   ]
  },
  {
   "cell_type": "code",
   "execution_count": null,
   "metadata": {
    "executionInfo": {
     "elapsed": 174080,
     "status": "ok",
     "timestamp": 1670060098137,
     "user": {
      "displayName": "Shrikant Chormale",
      "userId": "06649212260482941230"
     },
     "user_tz": -330
    },
    "id": "R2-_1E-0UVYQ"
   },
   "outputs": [],
   "source": [
    "# predict the model test data\n",
    "grid_test_pred=grid_search_cv.predict(X_test)\n",
    "# predict the model train data\n",
    "grid_train_pred=grid_search_cv.predict(X_train)"
   ]
  },
  {
   "cell_type": "code",
   "execution_count": null,
   "metadata": {
    "colab": {
     "base_uri": "https://localhost:8080/"
    },
    "executionInfo": {
     "elapsed": 375,
     "status": "ok",
     "timestamp": 1670060130045,
     "user": {
      "displayName": "Shrikant Chormale",
      "userId": "06649212260482941230"
     },
     "user_tz": -330
    },
    "id": "bQVAY8DoVBfR",
    "outputId": "ec5accad-2001-494c-a045-cfe16c43d718"
   },
   "outputs": [],
   "source": [
    "print(\"Accuracy=train:\",metrics.accuracy_score(y_train,grid_train_pred))\n",
    "print(\"Accuracy=test:\",metrics.accuracy_score(y_test,grid_test_pred))"
   ]
  },
  {
   "cell_type": "code",
   "execution_count": null,
   "metadata": {
    "colab": {
     "base_uri": "https://localhost:8080/"
    },
    "executionInfo": {
     "elapsed": 407,
     "status": "ok",
     "timestamp": 1670060150099,
     "user": {
      "displayName": "Shrikant Chormale",
      "userId": "06649212260482941230"
     },
     "user_tz": -330
    },
    "id": "X2DIbovYVMb1",
    "outputId": "b05947f6-171b-4ccc-dfeb-0eec94079010"
   },
   "outputs": [],
   "source": [
    "from sklearn.metrics import confusion_matrix \n",
    "cnf_metrics=confusion_matrix(y_test,grid_test_pred)\n",
    "cnf_metrics"
   ]
  },
  {
   "cell_type": "code",
   "execution_count": null,
   "metadata": {
    "colab": {
     "base_uri": "https://localhost:8080/",
     "height": 342
    },
    "executionInfo": {
     "elapsed": 1405,
     "status": "ok",
     "timestamp": 1670060156076,
     "user": {
      "displayName": "Shrikant Chormale",
      "userId": "06649212260482941230"
     },
     "user_tz": -330
    },
    "id": "ZgWtcIAjVYLW",
    "outputId": "8d3cf361-ba15-4f72-8024-6e28535981fb"
   },
   "outputs": [],
   "source": [
    "import seaborn as sns\n",
    "import  matplotlib.pyplot as plt\n",
    "class_names=[0,1] # name  of classes\n",
    "fig, ax = plt.subplots()\n",
    "tick_marks = np.arange(len(class_names))\n",
    "plt.xticks(tick_marks, class_names)\n",
    "plt.yticks(tick_marks, class_names)\n",
    "# create heatmap\n",
    "sns.heatmap(pd.DataFrame(cnf_metrics), annot=True, cmap=\"YlGnBu\" ,fmt='g')\n",
    "ax.xaxis.set_label_position(\"top\")\n",
    "plt.tight_layout()\n",
    "plt.title('Confusion matrix', y=1.1)\n",
    "plt.ylabel('Actual label')\n",
    "plt.xlabel('Predicted label')"
   ]
  },
  {
   "cell_type": "code",
   "execution_count": null,
   "metadata": {
    "colab": {
     "base_uri": "https://localhost:8080/"
    },
    "executionInfo": {
     "elapsed": 409,
     "status": "ok",
     "timestamp": 1670060679902,
     "user": {
      "displayName": "Shrikant Chormale",
      "userId": "06649212260482941230"
     },
     "user_tz": -330
    },
    "id": "9VKYmfhvXb0y",
    "outputId": "3b77ee87-7c9b-4994-aebe-0ee5c1b34e88"
   },
   "outputs": [],
   "source": [
    "p_r_f=metrics.classification_report(y_test,grid_test_pred)\n",
    "print(p_r_f)"
   ]
  },
  {
   "cell_type": "markdown",
   "metadata": {
    "executionInfo": {
     "elapsed": 682,
     "status": "ok",
     "timestamp": 1670060345806,
     "user": {
      "displayName": "Shrikant Chormale",
      "userId": "06649212260482941230"
     },
     "user_tz": -330
    },
    "id": "H87vUvKSWhNg"
   },
   "source": [
    "# naive_bayes algorithm"
   ]
  },
  {
   "cell_type": "code",
   "execution_count": null,
   "metadata": {
    "colab": {
     "base_uri": "https://localhost:8080/"
    },
    "executionInfo": {
     "elapsed": 661,
     "status": "ok",
     "timestamp": 1670060354855,
     "user": {
      "displayName": "Shrikant Chormale",
      "userId": "06649212260482941230"
     },
     "user_tz": -330
    },
    "id": "IxMHQgE8V5hu",
    "outputId": "719d147d-62d1-4b84-b620-64ca85e5c37c"
   },
   "outputs": [],
   "source": [
    "from sklearn.naive_bayes import GaussianNB\n",
    "model = GaussianNB(  )\n",
    "model.fit(X_train,y_train)"
   ]
  },
  {
   "cell_type": "code",
   "execution_count": null,
   "metadata": {
    "executionInfo": {
     "elapsed": 664,
     "status": "ok",
     "timestamp": 1670060472710,
     "user": {
      "displayName": "Shrikant Chormale",
      "userId": "06649212260482941230"
     },
     "user_tz": -330
    },
    "id": "NYwGN76jWyzf"
   },
   "outputs": [],
   "source": [
    "# predict the model test data\n",
    "nvs_test_pred=model.predict(X_test)\n",
    "# predict the model train data\n",
    "nvs_train_pred=model.predict(X_train)"
   ]
  },
  {
   "cell_type": "code",
   "execution_count": null,
   "metadata": {
    "colab": {
     "base_uri": "https://localhost:8080/"
    },
    "executionInfo": {
     "elapsed": 672,
     "status": "ok",
     "timestamp": 1670060475894,
     "user": {
      "displayName": "Shrikant Chormale",
      "userId": "06649212260482941230"
     },
     "user_tz": -330
    },
    "id": "MYLLh3LKWgR1",
    "outputId": "ef461647-7894-4007-aa13-14da239ac01e"
   },
   "outputs": [],
   "source": [
    "print(\"Accuracy=train:\",metrics.accuracy_score(y_train,nvs_train_pred))\n",
    "print(\"Accuracy=test:\",metrics.accuracy_score(y_test,nvs_test_pred))"
   ]
  },
  {
   "cell_type": "code",
   "execution_count": null,
   "metadata": {
    "colab": {
     "base_uri": "https://localhost:8080/"
    },
    "executionInfo": {
     "elapsed": 381,
     "status": "ok",
     "timestamp": 1670060530421,
     "user": {
      "displayName": "Shrikant Chormale",
      "userId": "06649212260482941230"
     },
     "user_tz": -330
    },
    "id": "VQcFfYPIXEla",
    "outputId": "52493032-7e19-4d6c-d165-8f71f7c1ca6f"
   },
   "outputs": [],
   "source": [
    "from sklearn.metrics import confusion_matrix \n",
    "cnf_metrics=confusion_matrix(y_test,nvs_test_pred)\n",
    "cnf_metrics"
   ]
  },
  {
   "cell_type": "code",
   "execution_count": null,
   "metadata": {
    "colab": {
     "base_uri": "https://localhost:8080/",
     "height": 342
    },
    "executionInfo": {
     "elapsed": 970,
     "status": "ok",
     "timestamp": 1670060540975,
     "user": {
      "displayName": "Shrikant Chormale",
      "userId": "06649212260482941230"
     },
     "user_tz": -330
    },
    "id": "q2R4ZikDXTxQ",
    "outputId": "c5f063d9-5c40-4e64-c739-518feb7432a1"
   },
   "outputs": [],
   "source": [
    "import seaborn as sns\n",
    "import  matplotlib.pyplot as plt\n",
    "class_names=[0,1] # name  of classes\n",
    "fig, ax = plt.subplots()\n",
    "tick_marks = np.arange(len(class_names))\n",
    "plt.xticks(tick_marks, class_names)\n",
    "plt.yticks(tick_marks, class_names)\n",
    "# create heatmap\n",
    "sns.heatmap(pd.DataFrame(cnf_metrics), annot=True, cmap=\"YlGnBu\" ,fmt='g')\n",
    "ax.xaxis.set_label_position(\"top\")\n",
    "plt.tight_layout()\n",
    "plt.title('Confusion matrix', y=1.1)\n",
    "plt.ylabel('Actual label')\n",
    "plt.xlabel('Predicted label')"
   ]
  },
  {
   "cell_type": "code",
   "execution_count": null,
   "metadata": {
    "colab": {
     "base_uri": "https://localhost:8080/"
    },
    "executionInfo": {
     "elapsed": 409,
     "status": "ok",
     "timestamp": 1670060707421,
     "user": {
      "displayName": "Shrikant Chormale",
      "userId": "06649212260482941230"
     },
     "user_tz": -330
    },
    "id": "pEr74DOPXX1w",
    "outputId": "5cf56cf3-8150-4f32-b2e7-23a4ab3f4a9b"
   },
   "outputs": [],
   "source": [
    "p_r_f=metrics.classification_report(y_test,nvs_test_pred)\n",
    "print(p_r_f)"
   ]
  },
  {
   "cell_type": "markdown",
   "metadata": {
    "executionInfo": {
     "elapsed": 655,
     "status": "ok",
     "timestamp": 1670060735267,
     "user": {
      "displayName": "Shrikant Chormale",
      "userId": "06649212260482941230"
     },
     "user_tz": -330
    },
    "id": "r0a1xHgWYApD"
   },
   "source": [
    "# ensemble method"
   ]
  },
  {
   "cell_type": "code",
   "execution_count": null,
   "metadata": {
    "colab": {
     "base_uri": "https://localhost:8080/"
    },
    "executionInfo": {
     "elapsed": 184752,
     "status": "ok",
     "timestamp": 1670061543456,
     "user": {
      "displayName": "Shrikant Chormale",
      "userId": "06649212260482941230"
     },
     "user_tz": -330
    },
    "id": "iDYGiW-EYHNM",
    "outputId": "30fbe73c-40f1-4ff6-b0f9-50bbc5fdf026"
   },
   "outputs": [],
   "source": [
    "from sklearn.ensemble import RandomForestClassifier\n",
    "from sklearn.linear_model import LogisticRegression\n",
    "from sklearn.tree import DecisionTreeClassifier\n",
    "from sklearn.svm import SVC\n",
    "from sklearn.naive_bayes import GaussianNB\n",
    "from sklearn.neighbors import KNeighborsClassifier\n",
    "\n",
    "log_clf = LogisticRegression(random_state=42)\n",
    "rnd_clf = RandomForestClassifier(random_state=42)\n",
    "svm_clf = SVC(random_state=42)\n",
    "dt_clf = DecisionTreeClassifier(random_state=42)\n",
    "knn_clf=KNeighborsClassifier()\n",
    "\n",
    "\n",
    "from sklearn.ensemble import VotingClassifier\n",
    "voting_clf = VotingClassifier(estimators=[('lr', log_clf), ('rf', rnd_clf), \n",
    "                                          ('svc', svm_clf),('dt',dt_clf),('knn',knn_clf)],\n",
    "                              voting='hard',n_jobs = -1)\n",
    "voting_clf.fit(X_train, y_train)"
   ]
  },
  {
   "cell_type": "code",
   "execution_count": null,
   "metadata": {
    "colab": {
     "base_uri": "https://localhost:8080/"
    },
    "executionInfo": {
     "elapsed": 520808,
     "status": "ok",
     "timestamp": 1670062492172,
     "user": {
      "displayName": "Shrikant Chormale",
      "userId": "06649212260482941230"
     },
     "user_tz": -330
    },
    "id": "pGkUe7VjZ64b",
    "outputId": "94e504f6-d2b1-4524-f82e-ecfa466b8a9d"
   },
   "outputs": [],
   "source": [
    "from sklearn.metrics import accuracy_score\n",
    "\n",
    "for clf in (log_clf, rnd_clf, svm_clf, voting_clf,dt_clf,knn_clf):\n",
    "    clf.fit(X_train, y_train)\n",
    "    y_pred = clf.predict(X_test)\n",
    "    print(clf.__class__.__name__, accuracy_score(y_test, y_pred))"
   ]
  },
  {
   "cell_type": "code",
   "execution_count": null,
   "metadata": {
    "id": "fmlxugaQc1Ua"
   },
   "outputs": [],
   "source": []
  }
 ],
 "metadata": {
  "colab": {
   "collapsed_sections": [
    "ad117c85-d2ea-437b-82d8-d296d52806bc",
    "b0cbbae6-8fb0-4bca-babc-bb0ef1d25bb4"
   ],
   "provenance": []
  },
  "kernelspec": {
   "display_name": "Python 3",
   "language": "python",
   "name": "python3"
  },
  "language_info": {
   "codemirror_mode": {
    "name": "ipython",
    "version": 3
   },
   "file_extension": ".py",
   "mimetype": "text/x-python",
   "name": "python",
   "nbconvert_exporter": "python",
   "pygments_lexer": "ipython3",
   "version": "3.8.5"
  }
 },
 "nbformat": 4,
 "nbformat_minor": 5
}
